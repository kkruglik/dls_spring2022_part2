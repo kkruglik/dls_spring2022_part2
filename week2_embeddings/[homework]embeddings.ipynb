{
 "cells": [
  {
   "cell_type": "markdown",
   "id": "5817c1b5",
   "metadata": {
    "id": "Ot3c4fjZwC4T",
    "papermill": {
     "duration": 0.047703,
     "end_time": "2022-03-26T14:37:23.984249",
     "exception": false,
     "start_time": "2022-03-26T14:37:23.936546",
     "status": "completed"
    },
    "tags": []
   },
   "source": [
    "<img src=\"https://s8.hostingkartinok.com/uploads/images/2018/08/308b49fcfbc619d629fe4604bceb67ac.jpg\" width=500, height=450>\n",
    "<h3 style=\"text-align: center;\"><b>Физтех-Школа Прикладной математики и информатики (ФПМИ) МФТИ</b></h3>"
   ]
  },
  {
   "cell_type": "markdown",
   "id": "c4995621",
   "metadata": {
    "id": "P2JdzEXmwRU5",
    "papermill": {
     "duration": 0.043478,
     "end_time": "2022-03-26T14:37:24.076366",
     "exception": false,
     "start_time": "2022-03-26T14:37:24.032888",
     "status": "completed"
    },
    "tags": []
   },
   "source": [
    "---"
   ]
  },
  {
   "cell_type": "markdown",
   "id": "4cdadc06",
   "metadata": {
    "id": "eYtJxkhKpYK2",
    "papermill": {
     "duration": 0.043646,
     "end_time": "2022-03-26T14:37:24.162658",
     "exception": false,
     "start_time": "2022-03-26T14:37:24.119012",
     "status": "completed"
    },
    "tags": []
   },
   "source": [
    "# Embeddings\n",
    "\n",
    "Привет! В этом домашнем задании мы с помощью эмбеддингов решим задачу семантической классификации твитов.\n",
    "\n",
    "Для этого мы воспользуемся предобученными эмбеддингами word2vec."
   ]
  },
  {
   "cell_type": "markdown",
   "id": "ab01ddc8",
   "metadata": {
    "id": "jBOdoFS8AdpP",
    "papermill": {
     "duration": 0.0456,
     "end_time": "2022-03-26T14:37:24.252989",
     "exception": false,
     "start_time": "2022-03-26T14:37:24.207389",
     "status": "completed"
    },
    "tags": []
   },
   "source": [
    "Для начала скачаем датасет для семантической классификации твитов:"
   ]
  },
  {
   "cell_type": "code",
   "execution_count": 1,
   "id": "698e2be8",
   "metadata": {
    "execution": {
     "iopub.execute_input": "2022-03-26T14:37:24.360383Z",
     "iopub.status.busy": "2022-03-26T14:37:24.358616Z",
     "iopub.status.idle": "2022-03-26T14:37:24.361057Z",
     "shell.execute_reply": "2022-03-26T14:37:24.361546Z",
     "shell.execute_reply.started": "2022-03-26T14:12:47.905239Z"
    },
    "id": "wXjhtsfF_gBK",
    "papermill": {
     "duration": 0.058861,
     "end_time": "2022-03-26T14:37:24.361779",
     "exception": false,
     "start_time": "2022-03-26T14:37:24.302918",
     "status": "completed"
    },
    "tags": []
   },
   "outputs": [],
   "source": [
    "# ! pip install -U --no-cache-dir gdown --pre\n",
    "# !gdown https://drive.google.com/uc?id=1eE1FiUkXkcbw0McId4i7qY-L8hH-_Qph&export=download\n",
    "# !unzip archive.zip"
   ]
  },
  {
   "cell_type": "markdown",
   "id": "9d866482",
   "metadata": {
    "id": "Sh6wW-K53Mle",
    "papermill": {
     "duration": 0.045756,
     "end_time": "2022-03-26T14:37:24.457679",
     "exception": false,
     "start_time": "2022-03-26T14:37:24.411923",
     "status": "completed"
    },
    "tags": []
   },
   "source": [
    "Импортируем нужные библиотеки:"
   ]
  },
  {
   "cell_type": "code",
   "execution_count": 2,
   "id": "e34a25d8",
   "metadata": {
    "execution": {
     "iopub.execute_input": "2022-03-26T14:37:24.551930Z",
     "iopub.status.busy": "2022-03-26T14:37:24.551258Z",
     "iopub.status.idle": "2022-03-26T14:37:27.522093Z",
     "shell.execute_reply": "2022-03-26T14:37:27.521514Z",
     "shell.execute_reply.started": "2022-03-26T14:12:47.935692Z"
    },
    "id": "A2Y5CHRm6NFe",
    "papermill": {
     "duration": 3.021126,
     "end_time": "2022-03-26T14:37:27.522229",
     "exception": false,
     "start_time": "2022-03-26T14:37:24.501103",
     "status": "completed"
    },
    "tags": []
   },
   "outputs": [],
   "source": [
    "import math\n",
    "import random\n",
    "import string\n",
    "\n",
    "import numpy as np\n",
    "import pandas as pd\n",
    "import seaborn as sns\n",
    "\n",
    "import torch\n",
    "import nltk\n",
    "import gensim\n",
    "import gensim.downloader as api"
   ]
  },
  {
   "cell_type": "code",
   "execution_count": 3,
   "id": "73b0aec0",
   "metadata": {
    "execution": {
     "iopub.execute_input": "2022-03-26T14:37:27.612565Z",
     "iopub.status.busy": "2022-03-26T14:37:27.611903Z",
     "iopub.status.idle": "2022-03-26T14:37:27.657382Z",
     "shell.execute_reply": "2022-03-26T14:37:27.657939Z",
     "shell.execute_reply.started": "2022-03-26T14:12:51.817064Z"
    },
    "id": "73Lb0wbESrgQ",
    "papermill": {
     "duration": 0.093265,
     "end_time": "2022-03-26T14:37:27.658085",
     "exception": false,
     "start_time": "2022-03-26T14:37:27.564820",
     "status": "completed"
    },
    "tags": []
   },
   "outputs": [],
   "source": [
    "random.seed(42)\n",
    "np.random.seed(42)\n",
    "torch.random.manual_seed(42)\n",
    "torch.cuda.random.manual_seed(42)\n",
    "torch.cuda.random.manual_seed_all(42)\n",
    "\n",
    "device = \"cuda\" if torch.cuda.is_available() else \"cpu\""
   ]
  },
  {
   "cell_type": "code",
   "execution_count": 4,
   "id": "e8fe8e9c",
   "metadata": {
    "execution": {
     "iopub.execute_input": "2022-03-26T14:37:27.747883Z",
     "iopub.status.busy": "2022-03-26T14:37:27.747319Z",
     "iopub.status.idle": "2022-03-26T14:37:33.561324Z",
     "shell.execute_reply": "2022-03-26T14:37:33.560864Z",
     "shell.execute_reply.started": "2022-03-26T14:12:51.902637Z"
    },
    "id": "L_Wv-4bu83Fl",
    "papermill": {
     "duration": 5.860239,
     "end_time": "2022-03-26T14:37:33.561482",
     "exception": false,
     "start_time": "2022-03-26T14:37:27.701243",
     "status": "completed"
    },
    "tags": []
   },
   "outputs": [],
   "source": [
    "data = pd.read_csv(\"../input/tweets/training.1600000.processed.noemoticon.csv\", encoding=\"latin\", header=None, names=[\"emotion\", \"id\", \"date\", \"flag\", \"user\", \"text\"])"
   ]
  },
  {
   "cell_type": "markdown",
   "id": "154a6652",
   "metadata": {
    "id": "RY1pvYDS3Yuj",
    "papermill": {
     "duration": 0.042923,
     "end_time": "2022-03-26T14:37:33.647483",
     "exception": false,
     "start_time": "2022-03-26T14:37:33.604560",
     "status": "completed"
    },
    "tags": []
   },
   "source": [
    "Посмотрим на данные:"
   ]
  },
  {
   "cell_type": "code",
   "execution_count": 5,
   "id": "2dbca70f",
   "metadata": {
    "execution": {
     "iopub.execute_input": "2022-03-26T14:37:33.739883Z",
     "iopub.status.busy": "2022-03-26T14:37:33.739073Z",
     "iopub.status.idle": "2022-03-26T14:37:33.751627Z",
     "shell.execute_reply": "2022-03-26T14:37:33.752030Z",
     "shell.execute_reply.started": "2022-03-26T14:12:58.473073Z"
    },
    "id": "jST2tjgjCTWD",
    "papermill": {
     "duration": 0.062168,
     "end_time": "2022-03-26T14:37:33.752151",
     "exception": false,
     "start_time": "2022-03-26T14:37:33.689983",
     "status": "completed"
    },
    "tags": []
   },
   "outputs": [
    {
     "data": {
      "text/html": [
       "<div>\n",
       "<style scoped>\n",
       "    .dataframe tbody tr th:only-of-type {\n",
       "        vertical-align: middle;\n",
       "    }\n",
       "\n",
       "    .dataframe tbody tr th {\n",
       "        vertical-align: top;\n",
       "    }\n",
       "\n",
       "    .dataframe thead th {\n",
       "        text-align: right;\n",
       "    }\n",
       "</style>\n",
       "<table border=\"1\" class=\"dataframe\">\n",
       "  <thead>\n",
       "    <tr style=\"text-align: right;\">\n",
       "      <th></th>\n",
       "      <th>emotion</th>\n",
       "      <th>id</th>\n",
       "      <th>date</th>\n",
       "      <th>flag</th>\n",
       "      <th>user</th>\n",
       "      <th>text</th>\n",
       "    </tr>\n",
       "  </thead>\n",
       "  <tbody>\n",
       "    <tr>\n",
       "      <th>0</th>\n",
       "      <td>0</td>\n",
       "      <td>1467810369</td>\n",
       "      <td>Mon Apr 06 22:19:45 PDT 2009</td>\n",
       "      <td>NO_QUERY</td>\n",
       "      <td>_TheSpecialOne_</td>\n",
       "      <td>@switchfoot http://twitpic.com/2y1zl - Awww, t...</td>\n",
       "    </tr>\n",
       "    <tr>\n",
       "      <th>1</th>\n",
       "      <td>0</td>\n",
       "      <td>1467810672</td>\n",
       "      <td>Mon Apr 06 22:19:49 PDT 2009</td>\n",
       "      <td>NO_QUERY</td>\n",
       "      <td>scotthamilton</td>\n",
       "      <td>is upset that he can't update his Facebook by ...</td>\n",
       "    </tr>\n",
       "    <tr>\n",
       "      <th>2</th>\n",
       "      <td>0</td>\n",
       "      <td>1467810917</td>\n",
       "      <td>Mon Apr 06 22:19:53 PDT 2009</td>\n",
       "      <td>NO_QUERY</td>\n",
       "      <td>mattycus</td>\n",
       "      <td>@Kenichan I dived many times for the ball. Man...</td>\n",
       "    </tr>\n",
       "    <tr>\n",
       "      <th>3</th>\n",
       "      <td>0</td>\n",
       "      <td>1467811184</td>\n",
       "      <td>Mon Apr 06 22:19:57 PDT 2009</td>\n",
       "      <td>NO_QUERY</td>\n",
       "      <td>ElleCTF</td>\n",
       "      <td>my whole body feels itchy and like its on fire</td>\n",
       "    </tr>\n",
       "    <tr>\n",
       "      <th>4</th>\n",
       "      <td>0</td>\n",
       "      <td>1467811193</td>\n",
       "      <td>Mon Apr 06 22:19:57 PDT 2009</td>\n",
       "      <td>NO_QUERY</td>\n",
       "      <td>Karoli</td>\n",
       "      <td>@nationwideclass no, it's not behaving at all....</td>\n",
       "    </tr>\n",
       "  </tbody>\n",
       "</table>\n",
       "</div>"
      ],
      "text/plain": [
       "   emotion          id                          date      flag  \\\n",
       "0        0  1467810369  Mon Apr 06 22:19:45 PDT 2009  NO_QUERY   \n",
       "1        0  1467810672  Mon Apr 06 22:19:49 PDT 2009  NO_QUERY   \n",
       "2        0  1467810917  Mon Apr 06 22:19:53 PDT 2009  NO_QUERY   \n",
       "3        0  1467811184  Mon Apr 06 22:19:57 PDT 2009  NO_QUERY   \n",
       "4        0  1467811193  Mon Apr 06 22:19:57 PDT 2009  NO_QUERY   \n",
       "\n",
       "              user                                               text  \n",
       "0  _TheSpecialOne_  @switchfoot http://twitpic.com/2y1zl - Awww, t...  \n",
       "1    scotthamilton  is upset that he can't update his Facebook by ...  \n",
       "2         mattycus  @Kenichan I dived many times for the ball. Man...  \n",
       "3          ElleCTF    my whole body feels itchy and like its on fire   \n",
       "4           Karoli  @nationwideclass no, it's not behaving at all....  "
      ]
     },
     "execution_count": 5,
     "metadata": {},
     "output_type": "execute_result"
    }
   ],
   "source": [
    "data.head()"
   ]
  },
  {
   "cell_type": "markdown",
   "id": "bd6c3ce6",
   "metadata": {
    "id": "OhbR5JJyA2VW",
    "papermill": {
     "duration": 0.04314,
     "end_time": "2022-03-26T14:37:33.838693",
     "exception": false,
     "start_time": "2022-03-26T14:37:33.795553",
     "status": "completed"
    },
    "tags": []
   },
   "source": [
    "Выведем несколько примеров твитов, чтобы понимать, с чем мы имеем дело:"
   ]
  },
  {
   "cell_type": "code",
   "execution_count": 6,
   "id": "82ac7440",
   "metadata": {
    "execution": {
     "iopub.execute_input": "2022-03-26T14:37:33.931422Z",
     "iopub.status.busy": "2022-03-26T14:37:33.930542Z",
     "iopub.status.idle": "2022-03-26T14:37:33.972736Z",
     "shell.execute_reply": "2022-03-26T14:37:33.972293Z",
     "shell.execute_reply.started": "2022-03-26T14:12:58.499233Z"
    },
    "id": "kCBwe0wR83C2",
    "papermill": {
     "duration": 0.091201,
     "end_time": "2022-03-26T14:37:33.972864",
     "exception": false,
     "start_time": "2022-03-26T14:37:33.881663",
     "status": "completed"
    },
    "tags": []
   },
   "outputs": [
    {
     "name": "stdout",
     "output_type": "stream",
     "text": [
      "@chrishasboobs AHHH I HOPE YOUR OK!!! \n",
      "@misstoriblack cool , i have no tweet apps  for my razr 2\n",
      "@TiannaChaos i know  just family drama. its lame.hey next time u hang out with kim n u guys like have a sleepover or whatever, ill call u\n",
      "School email won't open  and I have geography stuff on there to revise! *Stupid School* :'(\n",
      "upper airways problem \n",
      "Going to miss Pastor's sermon on Faith... \n",
      "on lunch....dj should come eat with me \n",
      "@piginthepoke oh why are you feeling like that? \n",
      "gahh noo!peyton needs to live!this is horrible \n",
      "@mrstessyman thank you glad you like it! There is a product review bit on the site  Enjoy knitting it!\n"
     ]
    }
   ],
   "source": [
    "examples = data[\"text\"].sample(10)\n",
    "print(\"\\n\".join(examples))"
   ]
  },
  {
   "cell_type": "markdown",
   "id": "d7571fb1",
   "metadata": {
    "id": "GvcYW8aX3mKt",
    "papermill": {
     "duration": 0.045009,
     "end_time": "2022-03-26T14:37:34.062261",
     "exception": false,
     "start_time": "2022-03-26T14:37:34.017252",
     "status": "completed"
    },
    "tags": []
   },
   "source": [
    "Как вилим, тексты твитов очень \"грязные\". Нужно предобработать датасет, прежде чем строить для него модель классификации.\n",
    "\n",
    "Чтобы сравнивать различные методы обработки текста/модели/прочее, разделим датасет на dev(для обучения модели) и test(для получения качества модели)."
   ]
  },
  {
   "cell_type": "code",
   "execution_count": 7,
   "id": "3a41d980",
   "metadata": {
    "execution": {
     "iopub.execute_input": "2022-03-26T14:37:34.162802Z",
     "iopub.status.busy": "2022-03-26T14:37:34.162030Z",
     "iopub.status.idle": "2022-03-26T14:37:35.174811Z",
     "shell.execute_reply": "2022-03-26T14:37:35.174236Z",
     "shell.execute_reply.started": "2022-03-26T14:12:58.569056Z"
    },
    "id": "f8hUK-jnQg6O",
    "papermill": {
     "duration": 1.066214,
     "end_time": "2022-03-26T14:37:35.174962",
     "exception": false,
     "start_time": "2022-03-26T14:37:34.108748",
     "status": "completed"
    },
    "tags": []
   },
   "outputs": [],
   "source": [
    "indexes = np.arange(data.shape[0])\n",
    "np.random.shuffle(indexes)\n",
    "dev_size = math.ceil(data.shape[0] * 0.8)\n",
    "\n",
    "dev_indexes = indexes[:dev_size]\n",
    "test_indexes = indexes[dev_size:]\n",
    "\n",
    "dev_data = data.iloc[dev_indexes]\n",
    "test_data = data.iloc[test_indexes]\n",
    "\n",
    "dev_data.reset_index(drop=True, inplace=True)\n",
    "test_data.reset_index(drop=True, inplace=True)"
   ]
  },
  {
   "cell_type": "markdown",
   "id": "8cfcaa4a",
   "metadata": {
    "id": "6ivcpeFoCnZA",
    "papermill": {
     "duration": 0.043728,
     "end_time": "2022-03-26T14:37:35.263517",
     "exception": false,
     "start_time": "2022-03-26T14:37:35.219789",
     "status": "completed"
    },
    "tags": []
   },
   "source": [
    "## Обработка текста"
   ]
  },
  {
   "cell_type": "markdown",
   "id": "71911e59",
   "metadata": {
    "id": "Df4nca285Dar",
    "papermill": {
     "duration": 0.042954,
     "end_time": "2022-03-26T14:37:35.350161",
     "exception": false,
     "start_time": "2022-03-26T14:37:35.307207",
     "status": "completed"
    },
    "tags": []
   },
   "source": [
    "Токенизируем текст, избавимся от знаков пунктуации и выкинем все слова, состоящие менее чем из 4 букв:"
   ]
  },
  {
   "cell_type": "code",
   "execution_count": 8,
   "id": "7fda9dc6",
   "metadata": {
    "execution": {
     "iopub.execute_input": "2022-03-26T14:37:35.443394Z",
     "iopub.status.busy": "2022-03-26T14:37:35.442832Z",
     "iopub.status.idle": "2022-03-26T14:37:35.445753Z",
     "shell.execute_reply": "2022-03-26T14:37:35.446148Z",
     "shell.execute_reply.started": "2022-03-26T14:12:59.748281Z"
    },
    "id": "nsNHNDES9ZVF",
    "papermill": {
     "duration": 0.051778,
     "end_time": "2022-03-26T14:37:35.446273",
     "exception": false,
     "start_time": "2022-03-26T14:37:35.394495",
     "status": "completed"
    },
    "tags": []
   },
   "outputs": [
    {
     "name": "stdout",
     "output_type": "stream",
     "text": [
      "@ claire_nelson i ' m on the north devon coast the next few weeks will be down in devon again in may sometime i hope though !\n"
     ]
    }
   ],
   "source": [
    "tokenizer = nltk.WordPunctTokenizer()\n",
    "line = tokenizer.tokenize(dev_data[\"text\"][0].lower())\n",
    "print(\" \".join(line))"
   ]
  },
  {
   "cell_type": "code",
   "execution_count": 9,
   "id": "67dbc7be",
   "metadata": {
    "execution": {
     "iopub.execute_input": "2022-03-26T14:37:35.541186Z",
     "iopub.status.busy": "2022-03-26T14:37:35.540416Z",
     "iopub.status.idle": "2022-03-26T14:37:35.544264Z",
     "shell.execute_reply": "2022-03-26T14:37:35.543839Z",
     "shell.execute_reply.started": "2022-03-26T14:12:59.757268Z"
    },
    "id": "GcBS_u_hTuxp",
    "papermill": {
     "duration": 0.053484,
     "end_time": "2022-03-26T14:37:35.544393",
     "exception": false,
     "start_time": "2022-03-26T14:37:35.490909",
     "status": "completed"
    },
    "tags": []
   },
   "outputs": [
    {
     "name": "stdout",
     "output_type": "stream",
     "text": [
      "north devon coast next weeks will down devon again sometime hope though\n"
     ]
    }
   ],
   "source": [
    "filtered_line = [w for w in line if all(c not in string.punctuation for c in w) and len(w) > 3]\n",
    "print(\" \".join(filtered_line))"
   ]
  },
  {
   "cell_type": "markdown",
   "id": "34167dc6",
   "metadata": {
    "id": "cuFmlXkC6E7X",
    "papermill": {
     "duration": 0.045111,
     "end_time": "2022-03-26T14:37:35.636424",
     "exception": false,
     "start_time": "2022-03-26T14:37:35.591313",
     "status": "completed"
    },
    "tags": []
   },
   "source": [
    "Загрузим предобученную модель эмбеддингов. \n",
    "\n",
    "Если хотите, можно попробовать другую. Полный список можно найти здесь: https://github.com/RaRe-Technologies/gensim-data.\n",
    "\n",
    "Данная модель выдает эмбеддинги для **слов**. Строить по эмбеддингам слов эмбеддинги предложений мы будем ниже."
   ]
  },
  {
   "cell_type": "code",
   "execution_count": 10,
   "id": "0b7c3273",
   "metadata": {
    "execution": {
     "iopub.execute_input": "2022-03-26T14:37:35.742396Z",
     "iopub.status.busy": "2022-03-26T14:37:35.741505Z",
     "iopub.status.idle": "2022-03-26T14:42:57.095977Z",
     "shell.execute_reply": "2022-03-26T14:42:57.097138Z"
    },
    "id": "cACJpje2T5bc",
    "papermill": {
     "duration": 321.414374,
     "end_time": "2022-03-26T14:42:57.097372",
     "exception": false,
     "start_time": "2022-03-26T14:37:35.682998",
     "status": "completed"
    },
    "tags": []
   },
   "outputs": [
    {
     "name": "stdout",
     "output_type": "stream",
     "text": [
      "[==================================================] 100.0% 758.5/758.5MB downloaded\n"
     ]
    }
   ],
   "source": [
    "# word2vec = api.load(\"word2vec-google-news-300\")\n",
    "# word2vec = api.load('glove-twitter-50')\n",
    "word2vec = api.load('glove-twitter-200')"
   ]
  },
  {
   "cell_type": "code",
   "execution_count": 11,
   "id": "3beba883",
   "metadata": {
    "execution": {
     "iopub.execute_input": "2022-03-26T14:43:50.127051Z",
     "iopub.status.busy": "2022-03-26T14:43:50.126357Z",
     "iopub.status.idle": "2022-03-26T14:43:50.129094Z",
     "shell.execute_reply": "2022-03-26T14:43:50.129555Z"
    },
    "id": "NafmYHrkT5YD",
    "papermill": {
     "duration": 26.310146,
     "end_time": "2022-03-26T14:43:50.129699",
     "exception": false,
     "start_time": "2022-03-26T14:43:23.819553",
     "status": "completed"
    },
    "tags": []
   },
   "outputs": [
    {
     "name": "stdout",
     "output_type": "stream",
     "text": [
      "(200,)\n"
     ]
    }
   ],
   "source": [
    "emb_line = [word2vec.get_vector(w) for w in filtered_line if w in word2vec]\n",
    "print(sum(emb_line).shape)"
   ]
  },
  {
   "cell_type": "markdown",
   "id": "1961350f",
   "metadata": {
    "id": "LTS6LCkd6_E7",
    "papermill": {
     "duration": 26.103291,
     "end_time": "2022-03-26T14:44:42.522690",
     "exception": false,
     "start_time": "2022-03-26T14:44:16.419399",
     "status": "completed"
    },
    "tags": []
   },
   "source": [
    "Нормализуем эмбеддинги, прежде чем обучать на них сеть. \n",
    "(наверное, вы помните, что нейронные сети гораздо лучше обучаются на нормализованных данных)"
   ]
  },
  {
   "cell_type": "code",
   "execution_count": 12,
   "id": "f16772a2",
   "metadata": {
    "execution": {
     "iopub.execute_input": "2022-03-26T14:45:34.718695Z",
     "iopub.status.busy": "2022-03-26T14:45:34.717746Z",
     "iopub.status.idle": "2022-03-26T14:45:35.438480Z",
     "shell.execute_reply": "2022-03-26T14:45:35.438919Z"
    },
    "id": "3PyLTZ6xf3Oq",
    "papermill": {
     "duration": 27.306557,
     "end_time": "2022-03-26T14:45:35.439067",
     "exception": false,
     "start_time": "2022-03-26T14:45:08.132510",
     "status": "completed"
    },
    "tags": []
   },
   "outputs": [
    {
     "name": "stdout",
     "output_type": "stream",
     "text": [
      "(200,)\n",
      "[False, False, False, False, False, False, False, False, False, False, False, False]\n"
     ]
    }
   ],
   "source": [
    "mean = np.mean(word2vec.vectors, 0)\n",
    "std = np.std(word2vec.vectors, 0)\n",
    "norm_emb_line = [(word2vec.get_vector(w) - mean) / std for w in filtered_line if w in word2vec and len(w) > 3]\n",
    "print(sum(norm_emb_line).shape)\n",
    "print([all(norm_emb_line[i] == emb_line[i]) for i in range(len(emb_line))])"
   ]
  },
  {
   "cell_type": "code",
   "execution_count": 13,
   "id": "6d69a6b3",
   "metadata": {
    "execution": {
     "iopub.execute_input": "2022-03-26T14:46:28.458967Z",
     "iopub.status.busy": "2022-03-26T14:46:28.458298Z",
     "iopub.status.idle": "2022-03-26T14:46:28.461109Z",
     "shell.execute_reply": "2022-03-26T14:46:28.461529Z"
    },
    "papermill": {
     "duration": 26.576825,
     "end_time": "2022-03-26T14:46:28.461666",
     "exception": false,
     "start_time": "2022-03-26T14:46:01.884841",
     "status": "completed"
    },
    "tags": []
   },
   "outputs": [
    {
     "data": {
      "text/plain": [
       "(1193514, 200)"
      ]
     },
     "execution_count": 13,
     "metadata": {},
     "output_type": "execute_result"
    }
   ],
   "source": [
    "word2vec.vectors.shape"
   ]
  },
  {
   "cell_type": "markdown",
   "id": "df271f45",
   "metadata": {
    "id": "q7vm6Ppd7Ubw",
    "papermill": {
     "duration": 25.893492,
     "end_time": "2022-03-26T14:47:20.534728",
     "exception": false,
     "start_time": "2022-03-26T14:46:54.641236",
     "status": "completed"
    },
    "tags": []
   },
   "source": [
    "Сделаем датасет, который будет по запросу возвращать подготовленные данные."
   ]
  },
  {
   "cell_type": "code",
   "execution_count": 14,
   "id": "2f533a16",
   "metadata": {
    "execution": {
     "iopub.execute_input": "2022-03-26T14:48:13.619546Z",
     "iopub.status.busy": "2022-03-26T14:48:13.618648Z",
     "iopub.status.idle": "2022-03-26T14:48:13.620473Z",
     "shell.execute_reply": "2022-03-26T14:48:13.620884Z"
    },
    "papermill": {
     "duration": 26.52525,
     "end_time": "2022-03-26T14:48:13.621027",
     "exception": false,
     "start_time": "2022-03-26T14:47:47.095777",
     "status": "completed"
    },
    "tags": []
   },
   "outputs": [],
   "source": [
    "from torch.utils.data import Dataset, random_split\n",
    "\n",
    "class TwitterDataset(Dataset):\n",
    "    def __init__(self, data: pd.DataFrame, feature_column: str, target_column: str, word2vec: gensim.models.Word2Vec):\n",
    "        self.tokenizer = nltk.WordPunctTokenizer()\n",
    "        self.data = data\n",
    "        self.feature_column = feature_column\n",
    "        self.target_column = target_column\n",
    "        self.word2vec = word2vec\n",
    "        self.label2num = lambda label: 0 if label == 0 else 1\n",
    "        self.mean = np.mean(word2vec.vectors, axis=0)\n",
    "        self.std = np.std(word2vec.vectors, axis=0)\n",
    "\n",
    "    def __getitem__(self, item):\n",
    "        text = self.data[self.feature_column][item]\n",
    "        label = self.label2num(self.data[self.target_column][item])\n",
    "        tokens = self.get_tokens_(text)\n",
    "        embeddings = self.get_embeddings_(tokens)\n",
    "        return {\"feature\": embeddings, \"target\": label}\n",
    "\n",
    "    def get_tokens_(self, text):\n",
    "        tokens = self.tokenizer.tokenize(text.lower())\n",
    "        tokens = [w for w in tokens if all(c not in string.punctuation for c in w) and len(w) > 3]\n",
    "        return tokens\n",
    "\n",
    "    def get_embeddings_(self, tokens):\n",
    "        embeddings = [(word2vec.get_vector(w) - mean) / std for w in tokens if w in word2vec]\n",
    "\n",
    "\n",
    "        if len(embeddings) == 0:\n",
    "            embeddings = np.zeros((1, self.word2vec.vector_size))\n",
    "        else:\n",
    "            embeddings = np.array(embeddings)\n",
    "            if len(embeddings.shape) == 1:\n",
    "                embeddings = embeddings.reshape(-1, 1)\n",
    "\n",
    "        return embeddings\n",
    "\n",
    "    def __len__(self):\n",
    "        return self.data.shape[0]"
   ]
  },
  {
   "cell_type": "code",
   "execution_count": 15,
   "id": "9761fd99",
   "metadata": {
    "execution": {
     "iopub.execute_input": "2022-03-26T14:49:06.567640Z",
     "iopub.status.busy": "2022-03-26T14:49:06.566650Z",
     "iopub.status.idle": "2022-03-26T14:49:07.286848Z",
     "shell.execute_reply": "2022-03-26T14:49:07.286323Z"
    },
    "id": "IZJpttbXpZyz",
    "papermill": {
     "duration": 26.972648,
     "end_time": "2022-03-26T14:49:07.286986",
     "exception": false,
     "start_time": "2022-03-26T14:48:40.314338",
     "status": "completed"
    },
    "tags": []
   },
   "outputs": [],
   "source": [
    "dev = TwitterDataset(dev_data, \"text\", \"emotion\", word2vec)"
   ]
  },
  {
   "cell_type": "markdown",
   "id": "c3c9353d",
   "metadata": {
    "id": "Sr-aetH0_LH1",
    "papermill": {
     "duration": 26.276722,
     "end_time": "2022-03-26T14:49:59.533583",
     "exception": false,
     "start_time": "2022-03-26T14:49:33.256861",
     "status": "completed"
    },
    "tags": []
   },
   "source": [
    "Отлично, мы готовы с помощью эмбеддингов слов превращать твиты в векторы и обучать нейронную сеть.\n",
    "\n",
    "Превращать твиты в векторы, используя эмбеддинги слов, можно несколькими способами. А именно такими:"
   ]
  },
  {
   "cell_type": "markdown",
   "id": "2987e7d3",
   "metadata": {
    "id": "4AhHrWa196Yc",
    "papermill": {
     "duration": 26.451228,
     "end_time": "2022-03-26T14:50:52.224078",
     "exception": false,
     "start_time": "2022-03-26T14:50:25.772850",
     "status": "completed"
    },
    "tags": []
   },
   "source": [
    "## Average embedding (2 балла)\n",
    "---\n",
    "Это самый простой вариант, как получить вектор предложения, используя векторные представления слов в предложении. А именно: вектор предложения есть средний вектор всех слов в предложении (которые остались после токенизации и удаления коротких слов, конечно). "
   ]
  },
  {
   "cell_type": "code",
   "execution_count": 16,
   "id": "6d9b2a1a",
   "metadata": {
    "execution": {
     "iopub.execute_input": "2022-03-26T14:51:44.417925Z",
     "iopub.status.busy": "2022-03-26T14:51:44.417169Z",
     "iopub.status.idle": "2022-03-26T14:51:44.471101Z",
     "shell.execute_reply": "2022-03-26T14:51:44.471509Z"
    },
    "id": "ScdokSW-994t",
    "papermill": {
     "duration": 26.129547,
     "end_time": "2022-03-26T14:51:44.471664",
     "exception": false,
     "start_time": "2022-03-26T14:51:18.342117",
     "status": "completed"
    },
    "tags": []
   },
   "outputs": [
    {
     "name": "stdout",
     "output_type": "stream",
     "text": [
      "128\n"
     ]
    }
   ],
   "source": [
    "indexes = np.arange(len(dev))\n",
    "np.random.shuffle(indexes)\n",
    "example_indexes = indexes[::10000]\n",
    "\n",
    "examples = {\"features\": [np.sum(dev[i][\"feature\"], axis=0) for i in example_indexes], \n",
    "            \"targets\": [dev[i][\"target\"] for i in example_indexes]}\n",
    "print(len(examples[\"features\"]))"
   ]
  },
  {
   "cell_type": "markdown",
   "id": "31b3da5e",
   "metadata": {
    "id": "1yGQ_lOx_1NL",
    "papermill": {
     "duration": 26.346096,
     "end_time": "2022-03-26T14:52:37.455293",
     "exception": false,
     "start_time": "2022-03-26T14:52:11.109197",
     "status": "completed"
    },
    "tags": []
   },
   "source": [
    "Давайте сделаем визуализацию полученных векторов твитов тренировочного (dev) датасета. Так мы увидим, насколько хорошо твиты с разными target значениями отделяются друг от друга, т.е. насколько хорошо усреднение эмбеддингов слов предложения передает информацию о предложении."
   ]
  },
  {
   "cell_type": "markdown",
   "id": "3ecb6e5a",
   "metadata": {
    "id": "LZwFksd_8uYO",
    "papermill": {
     "duration": 26.577219,
     "end_time": "2022-03-26T14:53:30.603123",
     "exception": false,
     "start_time": "2022-03-26T14:53:04.025904",
     "status": "completed"
    },
    "tags": []
   },
   "source": [
    "Для визуализации векторов надо получить их проекцию на плоскость. Сделаем это с помощью `PCA`. Если хотите, можете вместо PCA использовать TSNE: так у вас получится более точная проекция на плоскость (а значит, более информативная, т.е. отражающая реальное положение векторов твитов в пространстве). Но TSNE будет работать намного дольше."
   ]
  },
  {
   "cell_type": "code",
   "execution_count": 17,
   "id": "c4a09677",
   "metadata": {
    "execution": {
     "iopub.execute_input": "2022-03-26T14:54:22.882801Z",
     "iopub.status.busy": "2022-03-26T14:54:22.882049Z",
     "iopub.status.idle": "2022-03-26T14:54:22.929990Z",
     "shell.execute_reply": "2022-03-26T14:54:22.930855Z"
    },
    "id": "aKFZRSHdtIac",
    "papermill": {
     "duration": 26.559348,
     "end_time": "2022-03-26T14:54:22.931085",
     "exception": false,
     "start_time": "2022-03-26T14:53:56.371737",
     "status": "completed"
    },
    "tags": []
   },
   "outputs": [],
   "source": [
    "from sklearn.decomposition import PCA\n",
    "\n",
    "\n",
    "pca = PCA(n_components=2)\n",
    "examples[\"transformed_features\"] = pca.fit_transform(examples[\"features\"])"
   ]
  },
  {
   "cell_type": "code",
   "execution_count": 18,
   "id": "9d284e90",
   "metadata": {
    "execution": {
     "iopub.execute_input": "2022-03-26T14:55:15.939526Z",
     "iopub.status.busy": "2022-03-26T14:55:15.938887Z",
     "iopub.status.idle": "2022-03-26T14:55:16.308100Z",
     "shell.execute_reply": "2022-03-26T14:55:16.308522Z"
    },
    "id": "szEOWdiNtIX8",
    "papermill": {
     "duration": 27.070991,
     "end_time": "2022-03-26T14:55:16.308669",
     "exception": false,
     "start_time": "2022-03-26T14:54:49.237678",
     "status": "completed"
    },
    "tags": []
   },
   "outputs": [
    {
     "data": {
      "text/html": [
       "\n",
       "    <div class=\"bk-root\">\n",
       "        <a href=\"https://bokeh.org\" target=\"_blank\" class=\"bk-logo bk-logo-small bk-logo-notebook\"></a>\n",
       "        <span id=\"1002\">Loading BokehJS ...</span>\n",
       "    </div>"
      ]
     },
     "metadata": {},
     "output_type": "display_data"
    },
    {
     "data": {
      "application/javascript": [
       "\n",
       "(function(root) {\n",
       "  function now() {\n",
       "    return new Date();\n",
       "  }\n",
       "\n",
       "  const force = true;\n",
       "\n",
       "  if (typeof root._bokeh_onload_callbacks === \"undefined\" || force === true) {\n",
       "    root._bokeh_onload_callbacks = [];\n",
       "    root._bokeh_is_loading = undefined;\n",
       "  }\n",
       "\n",
       "  const JS_MIME_TYPE = 'application/javascript';\n",
       "  const HTML_MIME_TYPE = 'text/html';\n",
       "  const EXEC_MIME_TYPE = 'application/vnd.bokehjs_exec.v0+json';\n",
       "  const CLASS_NAME = 'output_bokeh rendered_html';\n",
       "\n",
       "  /**\n",
       "   * Render data to the DOM node\n",
       "   */\n",
       "  function render(props, node) {\n",
       "    const script = document.createElement(\"script\");\n",
       "    node.appendChild(script);\n",
       "  }\n",
       "\n",
       "  /**\n",
       "   * Handle when an output is cleared or removed\n",
       "   */\n",
       "  function handleClearOutput(event, handle) {\n",
       "    const cell = handle.cell;\n",
       "\n",
       "    const id = cell.output_area._bokeh_element_id;\n",
       "    const server_id = cell.output_area._bokeh_server_id;\n",
       "    // Clean up Bokeh references\n",
       "    if (id != null && id in Bokeh.index) {\n",
       "      Bokeh.index[id].model.document.clear();\n",
       "      delete Bokeh.index[id];\n",
       "    }\n",
       "\n",
       "    if (server_id !== undefined) {\n",
       "      // Clean up Bokeh references\n",
       "      const cmd_clean = \"from bokeh.io.state import curstate; print(curstate().uuid_to_server['\" + server_id + \"'].get_sessions()[0].document.roots[0]._id)\";\n",
       "      cell.notebook.kernel.execute(cmd_clean, {\n",
       "        iopub: {\n",
       "          output: function(msg) {\n",
       "            const id = msg.content.text.trim();\n",
       "            if (id in Bokeh.index) {\n",
       "              Bokeh.index[id].model.document.clear();\n",
       "              delete Bokeh.index[id];\n",
       "            }\n",
       "          }\n",
       "        }\n",
       "      });\n",
       "      // Destroy server and session\n",
       "      const cmd_destroy = \"import bokeh.io.notebook as ion; ion.destroy_server('\" + server_id + \"')\";\n",
       "      cell.notebook.kernel.execute(cmd_destroy);\n",
       "    }\n",
       "  }\n",
       "\n",
       "  /**\n",
       "   * Handle when a new output is added\n",
       "   */\n",
       "  function handleAddOutput(event, handle) {\n",
       "    const output_area = handle.output_area;\n",
       "    const output = handle.output;\n",
       "\n",
       "    // limit handleAddOutput to display_data with EXEC_MIME_TYPE content only\n",
       "    if ((output.output_type != \"display_data\") || (!Object.prototype.hasOwnProperty.call(output.data, EXEC_MIME_TYPE))) {\n",
       "      return\n",
       "    }\n",
       "\n",
       "    const toinsert = output_area.element.find(\".\" + CLASS_NAME.split(' ')[0]);\n",
       "\n",
       "    if (output.metadata[EXEC_MIME_TYPE][\"id\"] !== undefined) {\n",
       "      toinsert[toinsert.length - 1].firstChild.textContent = output.data[JS_MIME_TYPE];\n",
       "      // store reference to embed id on output_area\n",
       "      output_area._bokeh_element_id = output.metadata[EXEC_MIME_TYPE][\"id\"];\n",
       "    }\n",
       "    if (output.metadata[EXEC_MIME_TYPE][\"server_id\"] !== undefined) {\n",
       "      const bk_div = document.createElement(\"div\");\n",
       "      bk_div.innerHTML = output.data[HTML_MIME_TYPE];\n",
       "      const script_attrs = bk_div.children[0].attributes;\n",
       "      for (let i = 0; i < script_attrs.length; i++) {\n",
       "        toinsert[toinsert.length - 1].firstChild.setAttribute(script_attrs[i].name, script_attrs[i].value);\n",
       "        toinsert[toinsert.length - 1].firstChild.textContent = bk_div.children[0].textContent\n",
       "      }\n",
       "      // store reference to server id on output_area\n",
       "      output_area._bokeh_server_id = output.metadata[EXEC_MIME_TYPE][\"server_id\"];\n",
       "    }\n",
       "  }\n",
       "\n",
       "  function register_renderer(events, OutputArea) {\n",
       "\n",
       "    function append_mime(data, metadata, element) {\n",
       "      // create a DOM node to render to\n",
       "      const toinsert = this.create_output_subarea(\n",
       "        metadata,\n",
       "        CLASS_NAME,\n",
       "        EXEC_MIME_TYPE\n",
       "      );\n",
       "      this.keyboard_manager.register_events(toinsert);\n",
       "      // Render to node\n",
       "      const props = {data: data, metadata: metadata[EXEC_MIME_TYPE]};\n",
       "      render(props, toinsert[toinsert.length - 1]);\n",
       "      element.append(toinsert);\n",
       "      return toinsert\n",
       "    }\n",
       "\n",
       "    /* Handle when an output is cleared or removed */\n",
       "    events.on('clear_output.CodeCell', handleClearOutput);\n",
       "    events.on('delete.Cell', handleClearOutput);\n",
       "\n",
       "    /* Handle when a new output is added */\n",
       "    events.on('output_added.OutputArea', handleAddOutput);\n",
       "\n",
       "    /**\n",
       "     * Register the mime type and append_mime function with output_area\n",
       "     */\n",
       "    OutputArea.prototype.register_mime_type(EXEC_MIME_TYPE, append_mime, {\n",
       "      /* Is output safe? */\n",
       "      safe: true,\n",
       "      /* Index of renderer in `output_area.display_order` */\n",
       "      index: 0\n",
       "    });\n",
       "  }\n",
       "\n",
       "  // register the mime type if in Jupyter Notebook environment and previously unregistered\n",
       "  if (root.Jupyter !== undefined) {\n",
       "    const events = require('base/js/events');\n",
       "    const OutputArea = require('notebook/js/outputarea').OutputArea;\n",
       "\n",
       "    if (OutputArea.prototype.mime_types().indexOf(EXEC_MIME_TYPE) == -1) {\n",
       "      register_renderer(events, OutputArea);\n",
       "    }\n",
       "  }\n",
       "\n",
       "  \n",
       "  if (typeof (root._bokeh_timeout) === \"undefined\" || force === true) {\n",
       "    root._bokeh_timeout = Date.now() + 5000;\n",
       "    root._bokeh_failed_load = false;\n",
       "  }\n",
       "\n",
       "  const NB_LOAD_WARNING = {'data': {'text/html':\n",
       "     \"<div style='background-color: #fdd'>\\n\"+\n",
       "     \"<p>\\n\"+\n",
       "     \"BokehJS does not appear to have successfully loaded. If loading BokehJS from CDN, this \\n\"+\n",
       "     \"may be due to a slow or bad network connection. Possible fixes:\\n\"+\n",
       "     \"</p>\\n\"+\n",
       "     \"<ul>\\n\"+\n",
       "     \"<li>re-rerun `output_notebook()` to attempt to load from CDN again, or</li>\\n\"+\n",
       "     \"<li>use INLINE resources instead, as so:</li>\\n\"+\n",
       "     \"</ul>\\n\"+\n",
       "     \"<code>\\n\"+\n",
       "     \"from bokeh.resources import INLINE\\n\"+\n",
       "     \"output_notebook(resources=INLINE)\\n\"+\n",
       "     \"</code>\\n\"+\n",
       "     \"</div>\"}};\n",
       "\n",
       "  function display_loaded() {\n",
       "    const el = document.getElementById(\"1002\");\n",
       "    if (el != null) {\n",
       "      el.textContent = \"BokehJS is loading...\";\n",
       "    }\n",
       "    if (root.Bokeh !== undefined) {\n",
       "      if (el != null) {\n",
       "        el.textContent = \"BokehJS \" + root.Bokeh.version + \" successfully loaded.\";\n",
       "      }\n",
       "    } else if (Date.now() < root._bokeh_timeout) {\n",
       "      setTimeout(display_loaded, 100)\n",
       "    }\n",
       "  }\n",
       "\n",
       "\n",
       "  function run_callbacks() {\n",
       "    try {\n",
       "      root._bokeh_onload_callbacks.forEach(function(callback) {\n",
       "        if (callback != null)\n",
       "          callback();\n",
       "      });\n",
       "    } finally {\n",
       "      delete root._bokeh_onload_callbacks\n",
       "    }\n",
       "    console.debug(\"Bokeh: all callbacks have finished\");\n",
       "  }\n",
       "\n",
       "  function load_libs(css_urls, js_urls, callback) {\n",
       "    if (css_urls == null) css_urls = [];\n",
       "    if (js_urls == null) js_urls = [];\n",
       "\n",
       "    root._bokeh_onload_callbacks.push(callback);\n",
       "    if (root._bokeh_is_loading > 0) {\n",
       "      console.debug(\"Bokeh: BokehJS is being loaded, scheduling callback at\", now());\n",
       "      return null;\n",
       "    }\n",
       "    if (js_urls == null || js_urls.length === 0) {\n",
       "      run_callbacks();\n",
       "      return null;\n",
       "    }\n",
       "    console.debug(\"Bokeh: BokehJS not loaded, scheduling load and callback at\", now());\n",
       "    root._bokeh_is_loading = css_urls.length + js_urls.length;\n",
       "\n",
       "    function on_load() {\n",
       "      root._bokeh_is_loading--;\n",
       "      if (root._bokeh_is_loading === 0) {\n",
       "        console.debug(\"Bokeh: all BokehJS libraries/stylesheets loaded\");\n",
       "        run_callbacks()\n",
       "      }\n",
       "    }\n",
       "\n",
       "    function on_error(url) {\n",
       "      console.error(\"failed to load \" + url);\n",
       "    }\n",
       "\n",
       "    for (let i = 0; i < css_urls.length; i++) {\n",
       "      const url = css_urls[i];\n",
       "      const element = document.createElement(\"link\");\n",
       "      element.onload = on_load;\n",
       "      element.onerror = on_error.bind(null, url);\n",
       "      element.rel = \"stylesheet\";\n",
       "      element.type = \"text/css\";\n",
       "      element.href = url;\n",
       "      console.debug(\"Bokeh: injecting link tag for BokehJS stylesheet: \", url);\n",
       "      document.body.appendChild(element);\n",
       "    }\n",
       "\n",
       "    for (let i = 0; i < js_urls.length; i++) {\n",
       "      const url = js_urls[i];\n",
       "      const element = document.createElement('script');\n",
       "      element.onload = on_load;\n",
       "      element.onerror = on_error.bind(null, url);\n",
       "      element.async = false;\n",
       "      element.src = url;\n",
       "      console.debug(\"Bokeh: injecting script tag for BokehJS library: \", url);\n",
       "      document.head.appendChild(element);\n",
       "    }\n",
       "  };\n",
       "\n",
       "  function inject_raw_css(css) {\n",
       "    const element = document.createElement(\"style\");\n",
       "    element.appendChild(document.createTextNode(css));\n",
       "    document.body.appendChild(element);\n",
       "  }\n",
       "\n",
       "  \n",
       "  const js_urls = [\"https://cdn.bokeh.org/bokeh/release/bokeh-2.4.2.min.js\", \"https://cdn.bokeh.org/bokeh/release/bokeh-gl-2.4.2.min.js\", \"https://cdn.bokeh.org/bokeh/release/bokeh-widgets-2.4.2.min.js\", \"https://cdn.bokeh.org/bokeh/release/bokeh-tables-2.4.2.min.js\", \"https://cdn.bokeh.org/bokeh/release/bokeh-mathjax-2.4.2.min.js\"];\n",
       "  const css_urls = [];\n",
       "  \n",
       "\n",
       "  const inline_js = [\n",
       "    function(Bokeh) {\n",
       "      Bokeh.set_log_level(\"info\");\n",
       "    },\n",
       "    function(Bokeh) {\n",
       "    \n",
       "    \n",
       "    }\n",
       "  ];\n",
       "\n",
       "  function run_inline_js() {\n",
       "    \n",
       "    if (root.Bokeh !== undefined || force === true) {\n",
       "      \n",
       "    for (let i = 0; i < inline_js.length; i++) {\n",
       "      inline_js[i].call(root, root.Bokeh);\n",
       "    }\n",
       "    if (force === true) {\n",
       "        display_loaded();\n",
       "      }} else if (Date.now() < root._bokeh_timeout) {\n",
       "      setTimeout(run_inline_js, 100);\n",
       "    } else if (!root._bokeh_failed_load) {\n",
       "      console.log(\"Bokeh: BokehJS failed to load within specified timeout.\");\n",
       "      root._bokeh_failed_load = true;\n",
       "    } else if (force !== true) {\n",
       "      const cell = $(document.getElementById(\"1002\")).parents('.cell').data().cell;\n",
       "      cell.output_area.append_execute_result(NB_LOAD_WARNING)\n",
       "    }\n",
       "\n",
       "  }\n",
       "\n",
       "  if (root._bokeh_is_loading === 0) {\n",
       "    console.debug(\"Bokeh: BokehJS loaded, going straight to plotting\");\n",
       "    run_inline_js();\n",
       "  } else {\n",
       "    load_libs(css_urls, js_urls, function() {\n",
       "      console.debug(\"Bokeh: BokehJS plotting callback run at\", now());\n",
       "      run_inline_js();\n",
       "    });\n",
       "  }\n",
       "}(window));"
      ],
      "application/vnd.bokehjs_load.v0+json": "\n(function(root) {\n  function now() {\n    return new Date();\n  }\n\n  const force = true;\n\n  if (typeof root._bokeh_onload_callbacks === \"undefined\" || force === true) {\n    root._bokeh_onload_callbacks = [];\n    root._bokeh_is_loading = undefined;\n  }\n\n  \n\n  \n  if (typeof (root._bokeh_timeout) === \"undefined\" || force === true) {\n    root._bokeh_timeout = Date.now() + 5000;\n    root._bokeh_failed_load = false;\n  }\n\n  const NB_LOAD_WARNING = {'data': {'text/html':\n     \"<div style='background-color: #fdd'>\\n\"+\n     \"<p>\\n\"+\n     \"BokehJS does not appear to have successfully loaded. If loading BokehJS from CDN, this \\n\"+\n     \"may be due to a slow or bad network connection. Possible fixes:\\n\"+\n     \"</p>\\n\"+\n     \"<ul>\\n\"+\n     \"<li>re-rerun `output_notebook()` to attempt to load from CDN again, or</li>\\n\"+\n     \"<li>use INLINE resources instead, as so:</li>\\n\"+\n     \"</ul>\\n\"+\n     \"<code>\\n\"+\n     \"from bokeh.resources import INLINE\\n\"+\n     \"output_notebook(resources=INLINE)\\n\"+\n     \"</code>\\n\"+\n     \"</div>\"}};\n\n  function display_loaded() {\n    const el = document.getElementById(\"1002\");\n    if (el != null) {\n      el.textContent = \"BokehJS is loading...\";\n    }\n    if (root.Bokeh !== undefined) {\n      if (el != null) {\n        el.textContent = \"BokehJS \" + root.Bokeh.version + \" successfully loaded.\";\n      }\n    } else if (Date.now() < root._bokeh_timeout) {\n      setTimeout(display_loaded, 100)\n    }\n  }\n\n\n  function run_callbacks() {\n    try {\n      root._bokeh_onload_callbacks.forEach(function(callback) {\n        if (callback != null)\n          callback();\n      });\n    } finally {\n      delete root._bokeh_onload_callbacks\n    }\n    console.debug(\"Bokeh: all callbacks have finished\");\n  }\n\n  function load_libs(css_urls, js_urls, callback) {\n    if (css_urls == null) css_urls = [];\n    if (js_urls == null) js_urls = [];\n\n    root._bokeh_onload_callbacks.push(callback);\n    if (root._bokeh_is_loading > 0) {\n      console.debug(\"Bokeh: BokehJS is being loaded, scheduling callback at\", now());\n      return null;\n    }\n    if (js_urls == null || js_urls.length === 0) {\n      run_callbacks();\n      return null;\n    }\n    console.debug(\"Bokeh: BokehJS not loaded, scheduling load and callback at\", now());\n    root._bokeh_is_loading = css_urls.length + js_urls.length;\n\n    function on_load() {\n      root._bokeh_is_loading--;\n      if (root._bokeh_is_loading === 0) {\n        console.debug(\"Bokeh: all BokehJS libraries/stylesheets loaded\");\n        run_callbacks()\n      }\n    }\n\n    function on_error(url) {\n      console.error(\"failed to load \" + url);\n    }\n\n    for (let i = 0; i < css_urls.length; i++) {\n      const url = css_urls[i];\n      const element = document.createElement(\"link\");\n      element.onload = on_load;\n      element.onerror = on_error.bind(null, url);\n      element.rel = \"stylesheet\";\n      element.type = \"text/css\";\n      element.href = url;\n      console.debug(\"Bokeh: injecting link tag for BokehJS stylesheet: \", url);\n      document.body.appendChild(element);\n    }\n\n    for (let i = 0; i < js_urls.length; i++) {\n      const url = js_urls[i];\n      const element = document.createElement('script');\n      element.onload = on_load;\n      element.onerror = on_error.bind(null, url);\n      element.async = false;\n      element.src = url;\n      console.debug(\"Bokeh: injecting script tag for BokehJS library: \", url);\n      document.head.appendChild(element);\n    }\n  };\n\n  function inject_raw_css(css) {\n    const element = document.createElement(\"style\");\n    element.appendChild(document.createTextNode(css));\n    document.body.appendChild(element);\n  }\n\n  \n  const js_urls = [\"https://cdn.bokeh.org/bokeh/release/bokeh-2.4.2.min.js\", \"https://cdn.bokeh.org/bokeh/release/bokeh-gl-2.4.2.min.js\", \"https://cdn.bokeh.org/bokeh/release/bokeh-widgets-2.4.2.min.js\", \"https://cdn.bokeh.org/bokeh/release/bokeh-tables-2.4.2.min.js\", \"https://cdn.bokeh.org/bokeh/release/bokeh-mathjax-2.4.2.min.js\"];\n  const css_urls = [];\n  \n\n  const inline_js = [\n    function(Bokeh) {\n      Bokeh.set_log_level(\"info\");\n    },\n    function(Bokeh) {\n    \n    \n    }\n  ];\n\n  function run_inline_js() {\n    \n    if (root.Bokeh !== undefined || force === true) {\n      \n    for (let i = 0; i < inline_js.length; i++) {\n      inline_js[i].call(root, root.Bokeh);\n    }\n    if (force === true) {\n        display_loaded();\n      }} else if (Date.now() < root._bokeh_timeout) {\n      setTimeout(run_inline_js, 100);\n    } else if (!root._bokeh_failed_load) {\n      console.log(\"Bokeh: BokehJS failed to load within specified timeout.\");\n      root._bokeh_failed_load = true;\n    } else if (force !== true) {\n      const cell = $(document.getElementById(\"1002\")).parents('.cell').data().cell;\n      cell.output_area.append_execute_result(NB_LOAD_WARNING)\n    }\n\n  }\n\n  if (root._bokeh_is_loading === 0) {\n    console.debug(\"Bokeh: BokehJS loaded, going straight to plotting\");\n    run_inline_js();\n  } else {\n    load_libs(css_urls, js_urls, function() {\n      console.debug(\"Bokeh: BokehJS plotting callback run at\", now());\n      run_inline_js();\n    });\n  }\n}(window));"
     },
     "metadata": {},
     "output_type": "display_data"
    }
   ],
   "source": [
    "import bokeh.models as bm, bokeh.plotting as pl\n",
    "from bokeh.io import output_notebook\n",
    "output_notebook()\n",
    "\n",
    "def draw_vectors(x, y, radius=10, alpha=0.25, color='blue',\n",
    "                 width=600, height=400, show=True, **kwargs):\n",
    "    \"\"\" draws an interactive plot for data points with auxilirary info on hover \"\"\"\n",
    "    data_source = bm.ColumnDataSource({ 'x' : x, 'y' : y, 'color': color, **kwargs })\n",
    "\n",
    "    fig = pl.figure(active_scroll='wheel_zoom', width=width, height=height)\n",
    "    fig.scatter('x', 'y', size=radius, color='color', alpha=alpha, source=data_source)\n",
    "\n",
    "    fig.add_tools(bm.HoverTool(tooltips=[(key, \"@\" + key) for key in kwargs.keys()]))\n",
    "    if show: pl.show(fig)\n",
    "    return fig"
   ]
  },
  {
   "cell_type": "code",
   "execution_count": 19,
   "id": "e007801f",
   "metadata": {
    "execution": {
     "iopub.execute_input": "2022-03-26T14:56:08.603420Z",
     "iopub.status.busy": "2022-03-26T14:56:08.598488Z",
     "iopub.status.idle": "2022-03-26T14:56:08.684099Z",
     "shell.execute_reply": "2022-03-26T14:56:08.685187Z"
    },
    "id": "7OONK8ldtIWe",
    "papermill": {
     "duration": 25.986444,
     "end_time": "2022-03-26T14:56:08.685406",
     "exception": false,
     "start_time": "2022-03-26T14:55:42.698962",
     "status": "completed"
    },
    "tags": []
   },
   "outputs": [
    {
     "data": {
      "text/html": [
       "\n",
       "\n",
       "\n",
       "\n",
       "\n",
       "\n",
       "  <div class=\"bk-root\" id=\"93a37d13-326a-4e0f-a95d-890b480b43e4\" data-root-id=\"1004\"></div>\n"
      ]
     },
     "metadata": {},
     "output_type": "display_data"
    },
    {
     "data": {
      "application/javascript": [
       "(function(root) {\n",
       "  function embed_document(root) {\n",
       "    \n",
       "  const docs_json = {\"4f39c48c-1f6c-416e-9031-8d2c7adb55c9\":{\"defs\":[],\"roots\":{\"references\":[{\"attributes\":{\"below\":[{\"id\":\"1013\"}],\"center\":[{\"id\":\"1016\"},{\"id\":\"1020\"}],\"height\":400,\"left\":[{\"id\":\"1017\"}],\"renderers\":[{\"id\":\"1039\"}],\"title\":{\"id\":\"1043\"},\"toolbar\":{\"id\":\"1028\"},\"x_range\":{\"id\":\"1005\"},\"x_scale\":{\"id\":\"1009\"},\"y_range\":{\"id\":\"1007\"},\"y_scale\":{\"id\":\"1011\"}},\"id\":\"1004\",\"subtype\":\"Figure\",\"type\":\"Plot\"},{\"attributes\":{\"fill_alpha\":{\"value\":0.1},\"fill_color\":{\"field\":\"color\"},\"hatch_alpha\":{\"value\":0.1},\"hatch_color\":{\"field\":\"color\"},\"line_alpha\":{\"value\":0.1},\"line_color\":{\"field\":\"color\"},\"size\":{\"value\":10},\"x\":{\"field\":\"x\"},\"y\":{\"field\":\"y\"}},\"id\":\"1037\",\"type\":\"Scatter\"},{\"attributes\":{\"fill_alpha\":{\"value\":0.2},\"fill_color\":{\"field\":\"color\"},\"hatch_alpha\":{\"value\":0.2},\"hatch_color\":{\"field\":\"color\"},\"line_alpha\":{\"value\":0.2},\"line_color\":{\"field\":\"color\"},\"size\":{\"value\":10},\"x\":{\"field\":\"x\"},\"y\":{\"field\":\"y\"}},\"id\":\"1038\",\"type\":\"Scatter\"},{\"attributes\":{\"coordinates\":null,\"data_source\":{\"id\":\"1003\"},\"glyph\":{\"id\":\"1036\"},\"group\":null,\"hover_glyph\":null,\"muted_glyph\":{\"id\":\"1038\"},\"nonselection_glyph\":{\"id\":\"1037\"},\"view\":{\"id\":\"1040\"}},\"id\":\"1039\",\"type\":\"GlyphRenderer\"},{\"attributes\":{\"fill_alpha\":{\"value\":0.25},\"fill_color\":{\"field\":\"color\"},\"hatch_alpha\":{\"value\":0.25},\"hatch_color\":{\"field\":\"color\"},\"line_alpha\":{\"value\":0.25},\"line_color\":{\"field\":\"color\"},\"size\":{\"value\":10},\"x\":{\"field\":\"x\"},\"y\":{\"field\":\"y\"}},\"id\":\"1036\",\"type\":\"Scatter\"},{\"attributes\":{},\"id\":\"1022\",\"type\":\"WheelZoomTool\"},{\"attributes\":{},\"id\":\"1005\",\"type\":\"DataRange1d\"},{\"attributes\":{},\"id\":\"1046\",\"type\":\"BasicTickFormatter\"},{\"attributes\":{\"coordinates\":null,\"group\":null},\"id\":\"1043\",\"type\":\"Title\"},{\"attributes\":{\"data\":{\"color\":[\"red\",\"blue\",\"blue\",\"blue\",\"red\",\"blue\",\"red\",\"blue\",\"blue\",\"red\",\"blue\",\"blue\",\"red\",\"blue\",\"red\",\"blue\",\"red\",\"red\",\"red\",\"red\",\"blue\",\"red\",\"red\",\"red\",\"red\",\"blue\",\"blue\",\"blue\",\"red\",\"red\",\"red\",\"blue\",\"blue\",\"red\",\"blue\",\"blue\",\"red\",\"red\",\"red\",\"blue\",\"blue\",\"blue\",\"red\",\"blue\",\"blue\",\"red\",\"blue\",\"blue\",\"blue\",\"red\",\"blue\",\"red\",\"red\",\"red\",\"blue\",\"blue\",\"red\",\"red\",\"red\",\"blue\",\"red\",\"blue\",\"red\",\"blue\",\"blue\",\"blue\",\"blue\",\"blue\",\"red\",\"red\",\"blue\",\"red\",\"red\",\"blue\",\"red\",\"red\",\"red\",\"blue\",\"blue\",\"blue\",\"red\",\"blue\",\"red\",\"blue\",\"red\",\"blue\",\"red\",\"blue\",\"red\",\"red\",\"red\",\"blue\",\"red\",\"blue\",\"red\",\"blue\",\"blue\",\"blue\",\"blue\",\"blue\",\"blue\",\"red\",\"blue\",\"blue\",\"red\",\"blue\",\"red\",\"red\",\"blue\",\"red\",\"blue\",\"blue\",\"blue\",\"red\",\"blue\",\"blue\",\"red\",\"blue\",\"blue\",\"blue\",\"blue\",\"blue\",\"red\",\"red\",\"red\",\"red\",\"blue\",\"red\"],\"x\":{\"__ndarray__\":\"4qeL/4mgKEAGq5mcWxFQQLVm4hTaDy5A8dXJsmQHR8CEkuuDw6HZP3gHC4eI81VAaIEk/09EP8CwMKNH4YQnwBJhjztIMURAbvhstSljOsAskHXy0CovwOv2cVhxzR1AqPAj5WEsQ8Cf+dPE8IY/wFmCkguA0D3AFjfOKfT8OEB3avZDxng2wCRihJOpliTAzs+e42cVH8CcODY1ah1SQIUJzqBQ50JAzPksS+vJ+b/WvxxPjokUQD+Oq6mfw01AeOasC0QRJkD57LXJXI7ev+IPrgSNXUVAYvBEuRzcGMBrH64h198mwKncYCCxJ0hADpfACMoNN8B1i4eiHLgMwO71NUTclipAys5c7hM8N8BjnpgGuYg8wJI5z98xjCvAw9dtM6lnQkCmT9L5lJ04wFaIGWUFATrA3ixjkfkqQ8A9meVGfqNGwD+lB3BB5UXAfvp1gzeWPEBT6s7gdTQ3wK5rj5O70kNAkPjmY6RQQsAEKU57OVPGP3uLHprVmR9AB5tzwrILK0BGu1AZjUU5QI6co6tFGjZALq3DE6Wd8z90A7JgeTUSQLeoC3SzWkbATZa8qZMsOMBSSnhbrhHZv2o/MQ/o1znAsZLw2gGPMsAMMTeFnTAkwF4vUcwBLDlADdEcLs59+r/4ANC7Qx0+wG1nsgHmgBnAJBOv6U9POMAYXQ9BmAEuwG/f1OBJqj1AwmI9H3lePUCnR0S21RBOQO9rxZ0l6jnAHD34bRGDQ8AJqQ/gfUw5wKLE/+fG2TfAxPZJU7r3QUAXSCtncyJEQF38tnoi6zRAtoUDytnQBMAPjDiTNHIVwM6c89AChjbAt8e/YTc6P0DOOXiZ4YtDwJXrVv2B4inAz40nqqhwM0Dt9n7Oh/BLwLVqATUeSkLAAkNy5qG8JcBxpm3GsZ5MQD/S/NzNbSfAP0ye/Qy4PECn74wEx5cEwMKaw/O5+S7AT458/AkUN8CPC02LwuY9QNXMMISqhzDA1CZaiKzCRsAHFV7MHBdEwMRe7SjY5DFAiP7LRUQMQkDYw3p2xIwiQOVb6L6y3kdAiTQjQ7vrHsD92xuPCsY+QHl8u10Zoi1AuGLyO7LoREDIxdKaYRU0QBVs/ZzLLT7AlIR5xKsaP8BiCqn0JdREwPIV/OYUnkFA8PfWYD9yEUBTKIV+8oI3QOqUaefOZzbAun4+L5S8EcC0/LbsqpgzwKvkZyaY5T/ANr5IlzfWP0CUMbRQeCM6wF5iRd9VkFFAxO4q7wMY9j/fQsaS/DE4QGlD4SC0RTxAH93kEarxQsD2eXAl8S1HQIgpWcr83UHAWXhEL+FANsCyPXf4ZrU5wCxFg6PxVRtA8TwXdD8gN8BdXCBDOWsvQA==\",\"dtype\":\"float64\",\"order\":\"little\",\"shape\":[128]},\"y\":{\"__ndarray__\":\"CTd4idIgG0BJfTMq/SLAvy8mUWX8nwJA+24Fnjfz8j+nU8vLEbUbwBuDuEipXTLA3GdykL9sCUDiOkDCF2kPQLBGS/G3nxBAhCfYE0nYB8ALPHh5H/XuvzoW5Ub/FxBAnyWRBTy28j8lFmAw5t0GQHrx+Z094BXA8qBsCx08KsD+FbYOWkMNwPzZkfflnztA/p/JP1w+0z+pvfsGrgzQvwe29z778RlAPX/M92m4HkAmtVhtjjcRwJJUgP7isyBAiyzzjcjqI8Cs7i60OLgBQDmE/v8IRSfAmiHpkvYb/r9GFVxjbKT9P1aAt+OjpT9AprIS1UXA5z930PEqspfDP7vFvMPqKA/AhCHyBLXHDkAQOKPD+bv0v366dOB6SxhAXGeCqtslI0A3F3auUHsJwKTyAnHZlgVALJIOWsxcEEB9xynxXlUEQO5o0Wlbhew/hSRZoMuAIsAdVe8l8pQcwHAy0/uFWh5Aln9khV6yC8BHo/QUrr4ZwAUKQ9TJSCzATDXoLLSfFkDdX33i1QUtQOGdy2m9piPA8m380u89GEBap10FXwnoP9ushPopg8W/uTA8mqMB8T82pj+NsJQwwPhefwqygNc/sMyMVmKcJUDPwWcNmRwWwNPzXkX8BDDA0ikoFUgrFkAiMPXWD0ASQIHLyQ4BPRzA/bDVNLHyC8CBYA+Bp6HLP3qhaGAK5DJAvqFl8qIYG8DKy5Ebo3kQQCLFANcFswrAKgDJAilaB8BplLJpNJsdQOXOShpkG/A/BSyOzsENA0A2gArMbCo1wIkeykxpwv6/g6TKc+tCC8DR9AZPM7/0v1KgkjENaMa/DnKBcw0/H0CkpddJTp78vz2E2kbpESPAyGNnZ/DMLcBMaM+DnGmyP2cMvf5L4wjAwr+hT+CqFECSOxjyAjEmQCOA8U/kuxPAhv1dO2pYMkDsj/1/jN8XQHodgG91Lde/XYXcZ8YTxr9mnJohGrMDQN5ECZsCmQLASBdA8KeuAkDY5+II7L8GwCW6vAKV8BtAhGlxe6NpKsBwtmqJz4gGQKmE9ar/JRfAOlNyc+CtBUCy6eIwSVA7QMkiJupude+//ZB9QMRmGcC2mE+do3InwCZx8Lj5+yRAJv/5LZnw9b/Q8huAmnvPvx4sSOZxJvG/OV9MI150EcDd+u+EWV/9vw+S/NrOnBXAVsnU9xbNE0Dp6HXpnVwKQN7Dz/ODExjAe57nuXm8JMAyJJC53ur8PzacB0/GsCBAksMqkGlOMUDynv/DrlABQNtZo3bPaQfALy5j5WOVF0A8epoeQWYpwA4Ye17hWRnAdu7p16cdEsBGSfqOUlIMwEZEh6m8ue2/JrllcxpxEMDCzxHnrnkpwA==\",\"dtype\":\"float64\",\"order\":\"little\",\"shape\":[128]}},\"selected\":{\"id\":\"1052\"},\"selection_policy\":{\"id\":\"1051\"}},\"id\":\"1003\",\"type\":\"ColumnDataSource\"},{\"attributes\":{},\"id\":\"1009\",\"type\":\"LinearScale\"},{\"attributes\":{\"axis\":{\"id\":\"1017\"},\"coordinates\":null,\"dimension\":1,\"group\":null,\"ticker\":null},\"id\":\"1020\",\"type\":\"Grid\"},{\"attributes\":{},\"id\":\"1011\",\"type\":\"LinearScale\"},{\"attributes\":{},\"id\":\"1021\",\"type\":\"PanTool\"},{\"attributes\":{\"bottom_units\":\"screen\",\"coordinates\":null,\"fill_alpha\":0.5,\"fill_color\":\"lightgrey\",\"group\":null,\"left_units\":\"screen\",\"level\":\"overlay\",\"line_alpha\":1.0,\"line_color\":\"black\",\"line_dash\":[4,4],\"line_width\":2,\"right_units\":\"screen\",\"syncable\":false,\"top_units\":\"screen\"},\"id\":\"1027\",\"type\":\"BoxAnnotation\"},{\"attributes\":{},\"id\":\"1018\",\"type\":\"BasicTicker\"},{\"attributes\":{},\"id\":\"1014\",\"type\":\"BasicTicker\"},{\"attributes\":{\"coordinates\":null,\"formatter\":{\"id\":\"1049\"},\"group\":null,\"major_label_policy\":{\"id\":\"1050\"},\"ticker\":{\"id\":\"1014\"}},\"id\":\"1013\",\"type\":\"LinearAxis\"},{\"attributes\":{},\"id\":\"1047\",\"type\":\"AllLabels\"},{\"attributes\":{\"axis\":{\"id\":\"1013\"},\"coordinates\":null,\"group\":null,\"ticker\":null},\"id\":\"1016\",\"type\":\"Grid\"},{\"attributes\":{},\"id\":\"1049\",\"type\":\"BasicTickFormatter\"},{\"attributes\":{\"coordinates\":null,\"formatter\":{\"id\":\"1046\"},\"group\":null,\"major_label_policy\":{\"id\":\"1047\"},\"ticker\":{\"id\":\"1018\"}},\"id\":\"1017\",\"type\":\"LinearAxis\"},{\"attributes\":{\"source\":{\"id\":\"1003\"}},\"id\":\"1040\",\"type\":\"CDSView\"},{\"attributes\":{},\"id\":\"1024\",\"type\":\"SaveTool\"},{\"attributes\":{},\"id\":\"1026\",\"type\":\"HelpTool\"},{\"attributes\":{\"callback\":null,\"tooltips\":[]},\"id\":\"1041\",\"type\":\"HoverTool\"},{\"attributes\":{},\"id\":\"1050\",\"type\":\"AllLabels\"},{\"attributes\":{\"overlay\":{\"id\":\"1027\"}},\"id\":\"1023\",\"type\":\"BoxZoomTool\"},{\"attributes\":{},\"id\":\"1052\",\"type\":\"Selection\"},{\"attributes\":{\"active_scroll\":{\"id\":\"1022\"},\"tools\":[{\"id\":\"1021\"},{\"id\":\"1022\"},{\"id\":\"1023\"},{\"id\":\"1024\"},{\"id\":\"1025\"},{\"id\":\"1026\"},{\"id\":\"1041\"}]},\"id\":\"1028\",\"type\":\"Toolbar\"},{\"attributes\":{},\"id\":\"1051\",\"type\":\"UnionRenderers\"},{\"attributes\":{},\"id\":\"1025\",\"type\":\"ResetTool\"},{\"attributes\":{},\"id\":\"1007\",\"type\":\"DataRange1d\"}],\"root_ids\":[\"1004\"]},\"title\":\"Bokeh Application\",\"version\":\"2.4.2\"}};\n",
       "  const render_items = [{\"docid\":\"4f39c48c-1f6c-416e-9031-8d2c7adb55c9\",\"root_ids\":[\"1004\"],\"roots\":{\"1004\":\"93a37d13-326a-4e0f-a95d-890b480b43e4\"}}];\n",
       "  root.Bokeh.embed.embed_items_notebook(docs_json, render_items);\n",
       "\n",
       "  }\n",
       "  if (root.Bokeh !== undefined) {\n",
       "    embed_document(root);\n",
       "  } else {\n",
       "    let attempts = 0;\n",
       "    const timer = setInterval(function(root) {\n",
       "      if (root.Bokeh !== undefined) {\n",
       "        clearInterval(timer);\n",
       "        embed_document(root);\n",
       "      } else {\n",
       "        attempts++;\n",
       "        if (attempts > 100) {\n",
       "          clearInterval(timer);\n",
       "          console.log(\"Bokeh: ERROR: Unable to run BokehJS code because BokehJS library is missing\");\n",
       "        }\n",
       "      }\n",
       "    }, 10, root)\n",
       "  }\n",
       "})(window);"
      ],
      "application/vnd.bokehjs_exec.v0+json": ""
     },
     "metadata": {
      "application/vnd.bokehjs_exec.v0+json": {
       "id": "1004"
      }
     },
     "output_type": "display_data"
    },
    {
     "data": {
      "text/html": [
       "<div style=\"display: table;\"><div style=\"display: table-row;\"><div style=\"display: table-cell;\"><b title=\"bokeh.plotting.figure.Figure\">Figure</b>(</div><div style=\"display: table-cell;\">id&nbsp;=&nbsp;'1004', <span id=\"1110\" style=\"cursor: pointer;\">&hellip;)</span></div></div><div class=\"1109\" style=\"display: none;\"><div style=\"display: table-cell;\"></div><div style=\"display: table-cell;\">above&nbsp;=&nbsp;[],</div></div><div class=\"1109\" style=\"display: none;\"><div style=\"display: table-cell;\"></div><div style=\"display: table-cell;\">align&nbsp;=&nbsp;'start',</div></div><div class=\"1109\" style=\"display: none;\"><div style=\"display: table-cell;\"></div><div style=\"display: table-cell;\">aspect_ratio&nbsp;=&nbsp;None,</div></div><div class=\"1109\" style=\"display: none;\"><div style=\"display: table-cell;\"></div><div style=\"display: table-cell;\">aspect_scale&nbsp;=&nbsp;1,</div></div><div class=\"1109\" style=\"display: none;\"><div style=\"display: table-cell;\"></div><div style=\"display: table-cell;\">background&nbsp;=&nbsp;None,</div></div><div class=\"1109\" style=\"display: none;\"><div style=\"display: table-cell;\"></div><div style=\"display: table-cell;\">background_fill_alpha&nbsp;=&nbsp;1.0,</div></div><div class=\"1109\" style=\"display: none;\"><div style=\"display: table-cell;\"></div><div style=\"display: table-cell;\">background_fill_color&nbsp;=&nbsp;'#ffffff',</div></div><div class=\"1109\" style=\"display: none;\"><div style=\"display: table-cell;\"></div><div style=\"display: table-cell;\">below&nbsp;=&nbsp;[LinearAxis(id='1013', ...)],</div></div><div class=\"1109\" style=\"display: none;\"><div style=\"display: table-cell;\"></div><div style=\"display: table-cell;\">border_fill_alpha&nbsp;=&nbsp;1.0,</div></div><div class=\"1109\" style=\"display: none;\"><div style=\"display: table-cell;\"></div><div style=\"display: table-cell;\">border_fill_color&nbsp;=&nbsp;'#ffffff',</div></div><div class=\"1109\" style=\"display: none;\"><div style=\"display: table-cell;\"></div><div style=\"display: table-cell;\">center&nbsp;=&nbsp;[Grid(id='1016', ...), Grid(id='1020', ...)],</div></div><div class=\"1109\" style=\"display: none;\"><div style=\"display: table-cell;\"></div><div style=\"display: table-cell;\">css_classes&nbsp;=&nbsp;[],</div></div><div class=\"1109\" style=\"display: none;\"><div style=\"display: table-cell;\"></div><div style=\"display: table-cell;\">disabled&nbsp;=&nbsp;False,</div></div><div class=\"1109\" style=\"display: none;\"><div style=\"display: table-cell;\"></div><div style=\"display: table-cell;\">extra_x_ranges&nbsp;=&nbsp;{},</div></div><div class=\"1109\" style=\"display: none;\"><div style=\"display: table-cell;\"></div><div style=\"display: table-cell;\">extra_x_scales&nbsp;=&nbsp;{},</div></div><div class=\"1109\" style=\"display: none;\"><div style=\"display: table-cell;\"></div><div style=\"display: table-cell;\">extra_y_ranges&nbsp;=&nbsp;{},</div></div><div class=\"1109\" style=\"display: none;\"><div style=\"display: table-cell;\"></div><div style=\"display: table-cell;\">extra_y_scales&nbsp;=&nbsp;{},</div></div><div class=\"1109\" style=\"display: none;\"><div style=\"display: table-cell;\"></div><div style=\"display: table-cell;\">frame_height&nbsp;=&nbsp;None,</div></div><div class=\"1109\" style=\"display: none;\"><div style=\"display: table-cell;\"></div><div style=\"display: table-cell;\">frame_width&nbsp;=&nbsp;None,</div></div><div class=\"1109\" style=\"display: none;\"><div style=\"display: table-cell;\"></div><div style=\"display: table-cell;\">height&nbsp;=&nbsp;400,</div></div><div class=\"1109\" style=\"display: none;\"><div style=\"display: table-cell;\"></div><div style=\"display: table-cell;\">height_policy&nbsp;=&nbsp;'auto',</div></div><div class=\"1109\" style=\"display: none;\"><div style=\"display: table-cell;\"></div><div style=\"display: table-cell;\">hidpi&nbsp;=&nbsp;True,</div></div><div class=\"1109\" style=\"display: none;\"><div style=\"display: table-cell;\"></div><div style=\"display: table-cell;\">inner_height&nbsp;=&nbsp;0,</div></div><div class=\"1109\" style=\"display: none;\"><div style=\"display: table-cell;\"></div><div style=\"display: table-cell;\">inner_width&nbsp;=&nbsp;0,</div></div><div class=\"1109\" style=\"display: none;\"><div style=\"display: table-cell;\"></div><div style=\"display: table-cell;\">js_event_callbacks&nbsp;=&nbsp;{},</div></div><div class=\"1109\" style=\"display: none;\"><div style=\"display: table-cell;\"></div><div style=\"display: table-cell;\">js_property_callbacks&nbsp;=&nbsp;{},</div></div><div class=\"1109\" style=\"display: none;\"><div style=\"display: table-cell;\"></div><div style=\"display: table-cell;\">left&nbsp;=&nbsp;[LinearAxis(id='1017', ...)],</div></div><div class=\"1109\" style=\"display: none;\"><div style=\"display: table-cell;\"></div><div style=\"display: table-cell;\">lod_factor&nbsp;=&nbsp;10,</div></div><div class=\"1109\" style=\"display: none;\"><div style=\"display: table-cell;\"></div><div style=\"display: table-cell;\">lod_interval&nbsp;=&nbsp;300,</div></div><div class=\"1109\" style=\"display: none;\"><div style=\"display: table-cell;\"></div><div style=\"display: table-cell;\">lod_threshold&nbsp;=&nbsp;2000,</div></div><div class=\"1109\" style=\"display: none;\"><div style=\"display: table-cell;\"></div><div style=\"display: table-cell;\">lod_timeout&nbsp;=&nbsp;500,</div></div><div class=\"1109\" style=\"display: none;\"><div style=\"display: table-cell;\"></div><div style=\"display: table-cell;\">margin&nbsp;=&nbsp;(0, 0, 0, 0),</div></div><div class=\"1109\" style=\"display: none;\"><div style=\"display: table-cell;\"></div><div style=\"display: table-cell;\">match_aspect&nbsp;=&nbsp;False,</div></div><div class=\"1109\" style=\"display: none;\"><div style=\"display: table-cell;\"></div><div style=\"display: table-cell;\">max_height&nbsp;=&nbsp;None,</div></div><div class=\"1109\" style=\"display: none;\"><div style=\"display: table-cell;\"></div><div style=\"display: table-cell;\">max_width&nbsp;=&nbsp;None,</div></div><div class=\"1109\" style=\"display: none;\"><div style=\"display: table-cell;\"></div><div style=\"display: table-cell;\">min_border&nbsp;=&nbsp;5,</div></div><div class=\"1109\" style=\"display: none;\"><div style=\"display: table-cell;\"></div><div style=\"display: table-cell;\">min_border_bottom&nbsp;=&nbsp;None,</div></div><div class=\"1109\" style=\"display: none;\"><div style=\"display: table-cell;\"></div><div style=\"display: table-cell;\">min_border_left&nbsp;=&nbsp;None,</div></div><div class=\"1109\" style=\"display: none;\"><div style=\"display: table-cell;\"></div><div style=\"display: table-cell;\">min_border_right&nbsp;=&nbsp;None,</div></div><div class=\"1109\" style=\"display: none;\"><div style=\"display: table-cell;\"></div><div style=\"display: table-cell;\">min_border_top&nbsp;=&nbsp;None,</div></div><div class=\"1109\" style=\"display: none;\"><div style=\"display: table-cell;\"></div><div style=\"display: table-cell;\">min_height&nbsp;=&nbsp;None,</div></div><div class=\"1109\" style=\"display: none;\"><div style=\"display: table-cell;\"></div><div style=\"display: table-cell;\">min_width&nbsp;=&nbsp;None,</div></div><div class=\"1109\" style=\"display: none;\"><div style=\"display: table-cell;\"></div><div style=\"display: table-cell;\">name&nbsp;=&nbsp;None,</div></div><div class=\"1109\" style=\"display: none;\"><div style=\"display: table-cell;\"></div><div style=\"display: table-cell;\">outer_height&nbsp;=&nbsp;0,</div></div><div class=\"1109\" style=\"display: none;\"><div style=\"display: table-cell;\"></div><div style=\"display: table-cell;\">outer_width&nbsp;=&nbsp;0,</div></div><div class=\"1109\" style=\"display: none;\"><div style=\"display: table-cell;\"></div><div style=\"display: table-cell;\">outline_line_alpha&nbsp;=&nbsp;1.0,</div></div><div class=\"1109\" style=\"display: none;\"><div style=\"display: table-cell;\"></div><div style=\"display: table-cell;\">outline_line_cap&nbsp;=&nbsp;'butt',</div></div><div class=\"1109\" style=\"display: none;\"><div style=\"display: table-cell;\"></div><div style=\"display: table-cell;\">outline_line_color&nbsp;=&nbsp;'#e5e5e5',</div></div><div class=\"1109\" style=\"display: none;\"><div style=\"display: table-cell;\"></div><div style=\"display: table-cell;\">outline_line_dash&nbsp;=&nbsp;[],</div></div><div class=\"1109\" style=\"display: none;\"><div style=\"display: table-cell;\"></div><div style=\"display: table-cell;\">outline_line_dash_offset&nbsp;=&nbsp;0,</div></div><div class=\"1109\" style=\"display: none;\"><div style=\"display: table-cell;\"></div><div style=\"display: table-cell;\">outline_line_join&nbsp;=&nbsp;'bevel',</div></div><div class=\"1109\" style=\"display: none;\"><div style=\"display: table-cell;\"></div><div style=\"display: table-cell;\">outline_line_width&nbsp;=&nbsp;1,</div></div><div class=\"1109\" style=\"display: none;\"><div style=\"display: table-cell;\"></div><div style=\"display: table-cell;\">output_backend&nbsp;=&nbsp;'canvas',</div></div><div class=\"1109\" style=\"display: none;\"><div style=\"display: table-cell;\"></div><div style=\"display: table-cell;\">renderers&nbsp;=&nbsp;[GlyphRenderer(id='1039', ...)],</div></div><div class=\"1109\" style=\"display: none;\"><div style=\"display: table-cell;\"></div><div style=\"display: table-cell;\">reset_policy&nbsp;=&nbsp;'standard',</div></div><div class=\"1109\" style=\"display: none;\"><div style=\"display: table-cell;\"></div><div style=\"display: table-cell;\">right&nbsp;=&nbsp;[],</div></div><div class=\"1109\" style=\"display: none;\"><div style=\"display: table-cell;\"></div><div style=\"display: table-cell;\">sizing_mode&nbsp;=&nbsp;None,</div></div><div class=\"1109\" style=\"display: none;\"><div style=\"display: table-cell;\"></div><div style=\"display: table-cell;\">subscribed_events&nbsp;=&nbsp;[],</div></div><div class=\"1109\" style=\"display: none;\"><div style=\"display: table-cell;\"></div><div style=\"display: table-cell;\">syncable&nbsp;=&nbsp;True,</div></div><div class=\"1109\" style=\"display: none;\"><div style=\"display: table-cell;\"></div><div style=\"display: table-cell;\">tags&nbsp;=&nbsp;[],</div></div><div class=\"1109\" style=\"display: none;\"><div style=\"display: table-cell;\"></div><div style=\"display: table-cell;\">title&nbsp;=&nbsp;Title(id='1043', ...),</div></div><div class=\"1109\" style=\"display: none;\"><div style=\"display: table-cell;\"></div><div style=\"display: table-cell;\">title_location&nbsp;=&nbsp;'above',</div></div><div class=\"1109\" style=\"display: none;\"><div style=\"display: table-cell;\"></div><div style=\"display: table-cell;\">toolbar&nbsp;=&nbsp;Toolbar(id='1028', ...),</div></div><div class=\"1109\" style=\"display: none;\"><div style=\"display: table-cell;\"></div><div style=\"display: table-cell;\">toolbar_location&nbsp;=&nbsp;'right',</div></div><div class=\"1109\" style=\"display: none;\"><div style=\"display: table-cell;\"></div><div style=\"display: table-cell;\">toolbar_sticky&nbsp;=&nbsp;True,</div></div><div class=\"1109\" style=\"display: none;\"><div style=\"display: table-cell;\"></div><div style=\"display: table-cell;\">visible&nbsp;=&nbsp;True,</div></div><div class=\"1109\" style=\"display: none;\"><div style=\"display: table-cell;\"></div><div style=\"display: table-cell;\">width&nbsp;=&nbsp;600,</div></div><div class=\"1109\" style=\"display: none;\"><div style=\"display: table-cell;\"></div><div style=\"display: table-cell;\">width_policy&nbsp;=&nbsp;'auto',</div></div><div class=\"1109\" style=\"display: none;\"><div style=\"display: table-cell;\"></div><div style=\"display: table-cell;\">x_range&nbsp;=&nbsp;DataRange1d(id='1005', ...),</div></div><div class=\"1109\" style=\"display: none;\"><div style=\"display: table-cell;\"></div><div style=\"display: table-cell;\">x_scale&nbsp;=&nbsp;LinearScale(id='1009', ...),</div></div><div class=\"1109\" style=\"display: none;\"><div style=\"display: table-cell;\"></div><div style=\"display: table-cell;\">y_range&nbsp;=&nbsp;DataRange1d(id='1007', ...),</div></div><div class=\"1109\" style=\"display: none;\"><div style=\"display: table-cell;\"></div><div style=\"display: table-cell;\">y_scale&nbsp;=&nbsp;LinearScale(id='1011', ...))</div></div></div>\n",
       "<script>\n",
       "(function() {\n",
       "  let expanded = false;\n",
       "  const ellipsis = document.getElementById(\"1110\");\n",
       "  ellipsis.addEventListener(\"click\", function() {\n",
       "    const rows = document.getElementsByClassName(\"1109\");\n",
       "    for (let i = 0; i < rows.length; i++) {\n",
       "      const el = rows[i];\n",
       "      el.style.display = expanded ? \"none\" : \"table-row\";\n",
       "    }\n",
       "    ellipsis.innerHTML = expanded ? \"&hellip;)\" : \"&lsaquo;&lsaquo;&lsaquo;\";\n",
       "    expanded = !expanded;\n",
       "  });\n",
       "})();\n",
       "</script>\n"
      ],
      "text/plain": [
       "Figure(id='1004', ...)"
      ]
     },
     "execution_count": 19,
     "metadata": {},
     "output_type": "execute_result"
    }
   ],
   "source": [
    "draw_vectors(\n",
    "    examples[\"transformed_features\"][:, 0], \n",
    "    examples[\"transformed_features\"][:, 1], \n",
    "    color=[[\"red\", \"blue\"][t] for t in examples[\"targets\"]]\n",
    "    )"
   ]
  },
  {
   "cell_type": "markdown",
   "id": "524a0401",
   "metadata": {
    "id": "0fNF6LRQ9MPI",
    "papermill": {
     "duration": 26.402125,
     "end_time": "2022-03-26T14:57:01.734762",
     "exception": false,
     "start_time": "2022-03-26T14:56:35.332637",
     "status": "completed"
    },
    "tags": []
   },
   "source": [
    "Скорее всего, на визуализации нет четкого разделения твитов между классами. Это значит, что по полученным нами векторам твитов не так-то просто определить, к какому классу твит пренадлежит. Значит, обычный линейный классификатор не очень хорошо справится с задачей. Надо будет делать глубокую (хотя бы два слоя) нейронную сеть.\n",
    "\n",
    "Подготовим загрузчики данных.\n",
    "Усреднее векторов будем делать в \"батчевалке\"(`collate_fn`). Она используется для того, чтобы собирать из данных `torch.Tensor` батчи, которые можно отправлять в модель.\n"
   ]
  },
  {
   "cell_type": "code",
   "execution_count": 20,
   "id": "5e3aa6b1",
   "metadata": {
    "execution": {
     "iopub.execute_input": "2022-03-26T14:57:54.676252Z",
     "iopub.status.busy": "2022-03-26T14:57:54.675484Z",
     "iopub.status.idle": "2022-03-26T14:57:54.808382Z",
     "shell.execute_reply": "2022-03-26T14:57:54.807872Z"
    },
    "id": "y1XapsADtITv",
    "papermill": {
     "duration": 26.514922,
     "end_time": "2022-03-26T14:57:54.808534",
     "exception": false,
     "start_time": "2022-03-26T14:57:28.293612",
     "status": "completed"
    },
    "tags": []
   },
   "outputs": [],
   "source": [
    "from torch.utils.data import DataLoader\n",
    "\n",
    "batch_size = 1024\n",
    "num_workers = 2\n",
    "num_classes = 2\n",
    "\n",
    "def average_emb(batch):\n",
    "    features = [np.mean(b[\"feature\"], axis=0) for b in batch]\n",
    "    targets = [b[\"target\"] for b in batch]\n",
    "    return {\"features\": torch.FloatTensor(features), \"targets\": torch.LongTensor(targets)}\n",
    "\n",
    "\n",
    "train_size = math.ceil(len(dev) * 0.8)\n",
    "\n",
    "train, valid = random_split(dev, [train_size, len(dev) - train_size])\n",
    "\n",
    "train_loader = DataLoader(train, batch_size=batch_size, num_workers=num_workers, shuffle=True, drop_last=True, collate_fn=average_emb)\n",
    "valid_loader = DataLoader(valid, batch_size=batch_size, num_workers=num_workers, shuffle=False, drop_last=False, collate_fn=average_emb)"
   ]
  },
  {
   "cell_type": "markdown",
   "id": "16227a82",
   "metadata": {
    "id": "p-zs0WEK-Vkt",
    "papermill": {
     "duration": 26.779305,
     "end_time": "2022-03-26T14:58:47.240440",
     "exception": false,
     "start_time": "2022-03-26T14:58:20.461135",
     "status": "completed"
    },
    "tags": []
   },
   "source": [
    "Определим функции для тренировки и теста модели:"
   ]
  },
  {
   "cell_type": "code",
   "execution_count": 21,
   "id": "c5d46bda",
   "metadata": {
    "execution": {
     "iopub.execute_input": "2022-03-26T14:59:40.503103Z",
     "iopub.status.busy": "2022-03-26T14:59:40.501515Z",
     "iopub.status.idle": "2022-03-26T14:59:40.505687Z",
     "shell.execute_reply": "2022-03-26T14:59:40.505186Z"
    },
    "id": "U--T2Gjw1r27",
    "papermill": {
     "duration": 26.599228,
     "end_time": "2022-03-26T14:59:40.505811",
     "exception": false,
     "start_time": "2022-03-26T14:59:13.906583",
     "status": "completed"
    },
    "tags": []
   },
   "outputs": [],
   "source": [
    "# from tqdm.notebook import tqdm\n",
    "from tqdm import tqdm\n",
    "\n",
    "def training(model, optimizer, criterion, train_loader, epoch, device=\"cpu\"):\n",
    "#     pbar = tqdm(train_loader, desc=f\"Epoch {e + 1}. Train Loss: {0}\")\n",
    "    model.train()\n",
    "    for batch in tqdm(train_loader):\n",
    "        optimizer.zero_grad()\n",
    "        features = batch[\"features\"].to(device)\n",
    "        targets = batch[\"targets\"].to(device)\n",
    "        output = model(features)\n",
    "        loss = criterion(output, targets)\n",
    "        loss.backward()\n",
    "        optimizer.step()\n",
    "#         pbar.set_description(f\"Epoch {e + 1}. Train Loss: {loss:.4}\")\n",
    "\n",
    "def testing(model, criterion, test_loader, device=\"cpu\"):\n",
    "#     pbar = tqdm(test_loader, desc=f\"Test Loss: {0}, Test Acc: {0}\")\n",
    "    mean_loss = 0\n",
    "    mean_acc = 0\n",
    "    model.eval()\n",
    "    with torch.no_grad():\n",
    "        for batch in tqdm(test_loader):\n",
    "            features = batch[\"features\"].to(device)\n",
    "            targets = batch[\"targets\"].to(device)\n",
    "\n",
    "            output = model(features)\n",
    "            _, indices = torch.max(output, 1)\n",
    "            \n",
    "            loss = criterion(output, targets)\n",
    "            acc = torch.sum(indices == targets.data) / targets.size(0)\n",
    "\n",
    "            mean_loss += loss.item()\n",
    "            mean_acc += acc.item()\n",
    "\n",
    "#             pbar.set_description(f\"Test Loss: {loss:.4}, Test Acc: {acc:.4}\")\n",
    "\n",
    "#     pbar.set_description(f\"Test Loss: {mean_loss / len(test_loader):.4}, Test Acc: {mean_acc / len(test_loader):.4}\")\n",
    "\n",
    "    return {\"Test Loss\": mean_loss / len(test_loader), \"Test Acc\": mean_acc / len(test_loader)}"
   ]
  },
  {
   "cell_type": "markdown",
   "id": "696885d5",
   "metadata": {
    "id": "oVg_XBBb-YBH",
    "papermill": {
     "duration": 25.929761,
     "end_time": "2022-03-26T15:00:32.780664",
     "exception": false,
     "start_time": "2022-03-26T15:00:06.850903",
     "status": "completed"
    },
    "tags": []
   },
   "source": [
    "Создадим модель, оптимизатор и целевую функцию. Вы можете сами выбрать количество слоев в нейронной сети, ваш любимый оптимизатор и целевую функцию.\n"
   ]
  },
  {
   "cell_type": "code",
   "execution_count": 22,
   "id": "ece2c75b",
   "metadata": {
    "execution": {
     "iopub.execute_input": "2022-03-26T15:01:25.602635Z",
     "iopub.status.busy": "2022-03-26T15:01:25.601694Z",
     "iopub.status.idle": "2022-03-26T15:01:25.603474Z",
     "shell.execute_reply": "2022-03-26T15:01:25.603928Z"
    },
    "papermill": {
     "duration": 26.30688,
     "end_time": "2022-03-26T15:01:25.604061",
     "exception": false,
     "start_time": "2022-03-26T15:00:59.297181",
     "status": "completed"
    },
    "tags": []
   },
   "outputs": [],
   "source": [
    "import torch.nn as nn\n",
    "from torch.optim import Adam\n",
    "import torch.nn.functional as F"
   ]
  },
  {
   "cell_type": "code",
   "execution_count": 23,
   "id": "4075751e",
   "metadata": {
    "execution": {
     "iopub.execute_input": "2022-03-26T15:02:18.716650Z",
     "iopub.status.busy": "2022-03-26T15:02:18.715981Z",
     "iopub.status.idle": "2022-03-26T15:02:21.440132Z",
     "shell.execute_reply": "2022-03-26T15:02:21.439551Z",
     "shell.execute_reply.started": "2022-03-26T14:25:39.743079Z"
    },
    "id": "EBoZ4F3Fx1Hm",
    "papermill": {
     "duration": 29.203042,
     "end_time": "2022-03-26T15:02:21.440257",
     "exception": false,
     "start_time": "2022-03-26T15:01:52.237215",
     "status": "completed"
    },
    "tags": []
   },
   "outputs": [],
   "source": [
    "lr = 0.001\n",
    "num_epochs = 1\n",
    "model = nn.Sequential(\n",
    "        nn.Linear(word2vec.vector_size, 600),\n",
    "        nn.ReLU(),\n",
    "        nn.Linear(600, 600),\n",
    "        nn.ReLU(),\n",
    "        nn.Linear(600, 300),\n",
    "        nn.ReLU(),\n",
    "        nn.Linear(300, num_classes),\n",
    "        nn.Softmax(dim=1)\n",
    "    )\n",
    "\n",
    "model = model.to(device)\n",
    "criterion = nn.CrossEntropyLoss()\n",
    "optimizer = Adam(model.parameters(), lr=lr)"
   ]
  },
  {
   "cell_type": "markdown",
   "id": "79c3dad1",
   "metadata": {
    "id": "-AitU8AR-zBj",
    "papermill": {
     "duration": 26.391592,
     "end_time": "2022-03-26T15:03:14.051787",
     "exception": false,
     "start_time": "2022-03-26T15:02:47.660195",
     "status": "completed"
    },
    "tags": []
   },
   "source": [
    "Наконец, обучим модель и протестируем её.\n",
    "\n",
    "После каждой эпохи будем проверять качество модели на валидационной части датасета. Если метрика стала лучше, будем сохранять модель. **Подумайте, какая метрика (точность или лосс) будет лучше работать в этой задаче?** "
   ]
  },
  {
   "cell_type": "code",
   "execution_count": 24,
   "id": "4e6a94ef",
   "metadata": {
    "execution": {
     "iopub.execute_input": "2022-03-26T15:04:07.197954Z",
     "iopub.status.busy": "2022-03-26T15:04:07.197035Z",
     "iopub.status.idle": "2022-03-26T15:06:51.099566Z",
     "shell.execute_reply": "2022-03-26T15:06:51.016398Z",
     "shell.execute_reply.started": "2022-03-26T14:25:43.076183Z"
    },
    "id": "gKhk71Pmx1F1",
    "papermill": {
     "duration": 190.375593,
     "end_time": "2022-03-26T15:06:51.099702",
     "exception": false,
     "start_time": "2022-03-26T15:03:40.724109",
     "status": "completed"
    },
    "tags": []
   },
   "outputs": [
    {
     "name": "stderr",
     "output_type": "stream",
     "text": [
      "100%|██████████| 1000/1000 [01:49<00:00,  9.13it/s]\n",
      "100%|██████████| 250/250 [00:37<00:00,  6.58it/s]"
     ]
    },
    {
     "name": "stdout",
     "output_type": "stream",
     "text": [
      "{'Test Loss': 0.5372251515388489, 'Test Acc': 0.758109375}\n"
     ]
    },
    {
     "name": "stderr",
     "output_type": "stream",
     "text": [
      "\n"
     ]
    }
   ],
   "source": [
    "best_metric = np.inf\n",
    "for e in range(num_epochs):\n",
    "    training(model, optimizer, criterion, train_loader, e, device)\n",
    "    log = testing(model, criterion, valid_loader, device)\n",
    "    print(log)\n",
    "    if log[\"Test Loss\"] < best_metric:\n",
    "        torch.save(model.state_dict(), \"model.pt\")\n",
    "        best_metric = log[\"Test Loss\"]"
   ]
  },
  {
   "cell_type": "code",
   "execution_count": 25,
   "id": "327b10e0",
   "metadata": {
    "execution": {
     "iopub.execute_input": "2022-03-26T15:07:45.626088Z",
     "iopub.status.busy": "2022-03-26T15:07:45.625069Z",
     "iopub.status.idle": "2022-03-26T15:08:20.521402Z",
     "shell.execute_reply": "2022-03-26T15:08:20.521873Z",
     "shell.execute_reply.started": "2022-03-26T14:29:22.470168Z"
    },
    "id": "di4dGwD4x1Dt",
    "papermill": {
     "duration": 61.794732,
     "end_time": "2022-03-26T15:08:20.522031",
     "exception": false,
     "start_time": "2022-03-26T15:07:18.727299",
     "status": "completed"
    },
    "tags": []
   },
   "outputs": [
    {
     "name": "stderr",
     "output_type": "stream",
     "text": [
      "100%|██████████| 313/313 [00:34<00:00,  9.16it/s]"
     ]
    },
    {
     "name": "stdout",
     "output_type": "stream",
     "text": [
      "{'Test Loss': 0.5386969075797085, 'Test Acc': 0.7575660193690096}\n"
     ]
    },
    {
     "name": "stderr",
     "output_type": "stream",
     "text": [
      "\n"
     ]
    }
   ],
   "source": [
    "test_loader = DataLoader(\n",
    "    TwitterDataset(test_data, \"text\", \"emotion\", word2vec), \n",
    "    batch_size=batch_size, \n",
    "    num_workers=num_workers, \n",
    "    shuffle=False,\n",
    "    drop_last=False, \n",
    "    collate_fn=average_emb)\n",
    "\n",
    "model.load_state_dict(torch.load(\"model.pt\", map_location=device))\n",
    "\n",
    "print(testing(model, criterion, test_loader, device=device))"
   ]
  },
  {
   "cell_type": "markdown",
   "id": "3097470b",
   "metadata": {
    "id": "ZRvzpldHSAu0",
    "papermill": {
     "duration": 26.695514,
     "end_time": "2022-03-26T15:09:13.233135",
     "exception": false,
     "start_time": "2022-03-26T15:08:46.537621",
     "status": "completed"
    },
    "tags": []
   },
   "source": [
    "## Embeddings for unknown words (8 баллов)\n",
    "\n",
    "Пока что использовалась не вся информация из текста. Часть информации фильтровалось – если слова не было в словаре эмбеддингов, то мы просто превращали слово в нулевой вектор. Хочется использовать информацию по-максимуму. Поэтому рассмотрим другие способы обработки слов, которых нет в словаре. А именно:\n",
    "\n",
    "- Для каждого незнакомого слова будем запоминать его контекст(слова слева и справа от этого слова). Эмбеддингом нашего незнакомого слова будет сумма эмбеддингов всех слов из его контекста. (4 балла)\n",
    "- Для каждого слова текста получим его эмбеддинг из Tfidf с помощью ```TfidfVectorizer``` из [sklearn](https://scikit-learn.org/stable/modules/generated/sklearn.feature_extraction.text.TfidfVectorizer.html#sklearn.feature_extraction.text.TfidfVectorizer). Итоговым эмбеддингом для каждого слова будет сумма двух эмбеддингов: предобученного и Tfidf-ного. Для слов, которых нет в словаре предобученных эмбеддингов, результирующий эмбеддинг будет просто полученный из Tfidf. (4 балла)\n",
    "\n",
    "Реализуйте оба варианта **ниже**. Напишите, какой способ сработал лучше и ваши мысли, почему так получилось."
   ]
  },
  {
   "cell_type": "markdown",
   "id": "8f85ae2f",
   "metadata": {
    "papermill": {
     "duration": 26.84272,
     "end_time": "2022-03-26T15:10:06.675569",
     "exception": false,
     "start_time": "2022-03-26T15:09:39.832849",
     "status": "completed"
    },
    "tags": []
   },
   "source": [
    "#### Context embedding of unknown words"
   ]
  },
  {
   "cell_type": "code",
   "execution_count": 26,
   "id": "ab52742a",
   "metadata": {
    "execution": {
     "iopub.execute_input": "2022-03-26T15:10:59.179983Z",
     "iopub.status.busy": "2022-03-26T15:10:59.179088Z",
     "iopub.status.idle": "2022-03-26T15:11:00.187229Z",
     "shell.execute_reply": "2022-03-26T15:11:00.188047Z",
     "shell.execute_reply.started": "2022-03-26T14:30:09.722897Z"
    },
    "id": "RxhEpKalU1UQ",
    "papermill": {
     "duration": 27.142649,
     "end_time": "2022-03-26T15:11:00.188262",
     "exception": false,
     "start_time": "2022-03-26T15:10:33.045613",
     "status": "completed"
    },
    "tags": []
   },
   "outputs": [],
   "source": [
    "class TwitterDataset_UnknownTokens(TwitterDataset):\n",
    "    def get_embeddings_(self, tokens, window=3):\n",
    "        context_size = len(tokens)\n",
    "        embeddings = []\n",
    "        unknown_words = []\n",
    "        for n, token in enumerate(tokens):\n",
    "            if token in word2vec:\n",
    "                vec = (word2vec.get_vector(token) - mean) / std\n",
    "                embeddings.append(vec)\n",
    "            else:\n",
    "                unknown_words.append(token)\n",
    "                \n",
    "        for token in unknown_words:\n",
    "            unknown_embedding  = []\n",
    "            pos = tokens.index(token)\n",
    "            left = pos - window\n",
    "            right = pos + window\n",
    "                \n",
    "            for i in range(window):\n",
    "                try:\n",
    "                    unknown_embedding.append(word2vec.get_vector(token[left]))\n",
    "                    unknown_embedding.append(word2vec.get_vector(token[right]))\n",
    "                    embeddings.append(np.add.reduce(unknown_embedding, axis=0))\n",
    "                except: \n",
    "                    pass\n",
    "                left += 1\n",
    "                right -= 1\n",
    "\n",
    "        if len(embeddings) == 0:\n",
    "            embeddings = np.zeros((1, self.word2vec.vector_size))\n",
    "        else:\n",
    "            embeddings = np.array(embeddings)\n",
    "            if len(embeddings.shape) == 1:\n",
    "                embeddings = embeddings.reshape(-1, 1)\n",
    "        return embeddings\n",
    "\n",
    "dev = TwitterDataset_UnknownTokens(dev_data, \"text\", \"emotion\", word2vec)"
   ]
  },
  {
   "cell_type": "code",
   "execution_count": 27,
   "id": "3ed87007",
   "metadata": {
    "execution": {
     "iopub.execute_input": "2022-03-26T15:11:53.397361Z",
     "iopub.status.busy": "2022-03-26T15:11:53.396434Z",
     "iopub.status.idle": "2022-03-26T15:11:53.530008Z",
     "shell.execute_reply": "2022-03-26T15:11:53.529536Z",
     "shell.execute_reply.started": "2022-03-26T14:30:10.670208Z"
    },
    "papermill": {
     "duration": 26.714957,
     "end_time": "2022-03-26T15:11:53.530138",
     "exception": false,
     "start_time": "2022-03-26T15:11:26.815181",
     "status": "completed"
    },
    "tags": []
   },
   "outputs": [],
   "source": [
    "train_size = math.ceil(len(dev) * 0.8)\n",
    "train, valid = random_split(dev, [train_size, len(dev) - train_size])\n",
    "train_loader = DataLoader(train, batch_size=batch_size, num_workers=2, shuffle=True, drop_last=True, collate_fn=average_emb)\n",
    "valid_loader = DataLoader(valid, batch_size=batch_size, num_workers=2, shuffle=False, drop_last=False, collate_fn=average_emb)"
   ]
  },
  {
   "cell_type": "code",
   "execution_count": 28,
   "id": "d1973d79",
   "metadata": {
    "execution": {
     "iopub.execute_input": "2022-03-26T15:12:46.867090Z",
     "iopub.status.busy": "2022-03-26T15:12:46.866304Z",
     "iopub.status.idle": "2022-03-26T15:12:46.877823Z",
     "shell.execute_reply": "2022-03-26T15:12:46.877280Z",
     "shell.execute_reply.started": "2022-03-26T14:30:10.844575Z"
    },
    "papermill": {
     "duration": 26.51793,
     "end_time": "2022-03-26T15:12:46.877986",
     "exception": false,
     "start_time": "2022-03-26T15:12:20.360056",
     "status": "completed"
    },
    "tags": []
   },
   "outputs": [],
   "source": [
    "model = nn.Sequential(\n",
    "        nn.Linear(word2vec.vector_size, 600),\n",
    "        nn.ReLU(),\n",
    "        nn.Linear(600, 600),\n",
    "        nn.ReLU(),\n",
    "        nn.Linear(600, 300),\n",
    "        nn.ReLU(),\n",
    "        nn.Linear(300, num_classes),\n",
    "        nn.Softmax(dim=1)\n",
    "    )\n",
    "\n",
    "model = model.to(device)\n",
    "criterion = nn.CrossEntropyLoss()\n",
    "optimizer = Adam(model.parameters(), lr=lr)"
   ]
  },
  {
   "cell_type": "code",
   "execution_count": 29,
   "id": "d0b250c8",
   "metadata": {
    "execution": {
     "iopub.execute_input": "2022-03-26T15:13:39.789379Z",
     "iopub.status.busy": "2022-03-26T15:13:39.788481Z",
     "iopub.status.idle": "2022-03-26T15:16:20.769253Z",
     "shell.execute_reply": "2022-03-26T15:16:20.769698Z",
     "shell.execute_reply.started": "2022-03-26T14:30:10.868467Z"
    },
    "papermill": {
     "duration": 186.9942,
     "end_time": "2022-03-26T15:16:20.769865",
     "exception": false,
     "start_time": "2022-03-26T15:13:13.775665",
     "status": "completed"
    },
    "tags": []
   },
   "outputs": [
    {
     "name": "stderr",
     "output_type": "stream",
     "text": [
      "100%|██████████| 1000/1000 [02:08<00:00,  7.78it/s]\n",
      "100%|██████████| 250/250 [00:32<00:00,  7.72it/s]"
     ]
    },
    {
     "name": "stdout",
     "output_type": "stream",
     "text": [
      "{'Test Loss': 0.5409268312454224, 'Test Acc': 0.755171875}\n"
     ]
    },
    {
     "name": "stderr",
     "output_type": "stream",
     "text": [
      "\n"
     ]
    }
   ],
   "source": [
    "best_metric = np.inf\n",
    "for e in range(num_epochs):\n",
    "    training(model, optimizer, criterion, train_loader, e, device)\n",
    "    log = testing(model, criterion, valid_loader, device)\n",
    "    print(log)\n",
    "    if log[\"Test Loss\"] < best_metric:\n",
    "        torch.save(model.state_dict(), \"model.pt\")\n",
    "        best_metric = log[\"Test Loss\"]"
   ]
  },
  {
   "cell_type": "code",
   "execution_count": 30,
   "id": "47009c05",
   "metadata": {
    "execution": {
     "iopub.execute_input": "2022-03-26T15:17:14.573946Z",
     "iopub.status.busy": "2022-03-26T15:17:14.572987Z",
     "iopub.status.idle": "2022-03-26T15:17:55.321923Z",
     "shell.execute_reply": "2022-03-26T15:17:55.321115Z",
     "shell.execute_reply.started": "2022-03-26T14:33:50.700728Z"
    },
    "papermill": {
     "duration": 67.809573,
     "end_time": "2022-03-26T15:17:55.322054",
     "exception": false,
     "start_time": "2022-03-26T15:16:47.512481",
     "status": "completed"
    },
    "tags": []
   },
   "outputs": [
    {
     "name": "stderr",
     "output_type": "stream",
     "text": [
      "100%|██████████| 313/313 [00:39<00:00,  7.83it/s]"
     ]
    },
    {
     "name": "stdout",
     "output_type": "stream",
     "text": [
      "{'Test Loss': 0.5420718410144598, 'Test Acc': 0.7536722494009584}\n"
     ]
    },
    {
     "name": "stderr",
     "output_type": "stream",
     "text": [
      "\n"
     ]
    }
   ],
   "source": [
    "test_loader = DataLoader(\n",
    "    TwitterDataset_UnknownTokens(test_data, \"text\", \"emotion\", word2vec), \n",
    "    batch_size=batch_size, \n",
    "    num_workers=num_workers, \n",
    "    shuffle=False,\n",
    "    drop_last=False, \n",
    "    collate_fn=average_emb)\n",
    "\n",
    "model.load_state_dict(torch.load(\"model.pt\", map_location=device))\n",
    "\n",
    "print(testing(model, criterion, test_loader, device=device))"
   ]
  },
  {
   "cell_type": "code",
   "execution_count": null,
   "id": "f648099f",
   "metadata": {
    "papermill": {
     "duration": 26.799747,
     "end_time": "2022-03-26T15:18:49.519149",
     "exception": false,
     "start_time": "2022-03-26T15:18:22.719402",
     "status": "completed"
    },
    "tags": []
   },
   "outputs": [],
   "source": []
  },
  {
   "cell_type": "markdown",
   "id": "31db25d4",
   "metadata": {
    "papermill": {
     "duration": 26.788125,
     "end_time": "2022-03-26T15:19:43.318037",
     "exception": false,
     "start_time": "2022-03-26T15:19:16.529912",
     "status": "completed"
    },
    "tags": []
   },
   "source": [
    "#### TF-IDF embeddings"
   ]
  },
  {
   "cell_type": "code",
   "execution_count": 31,
   "id": "7a1c94cf",
   "metadata": {
    "execution": {
     "iopub.execute_input": "2022-03-26T15:20:36.779924Z",
     "iopub.status.busy": "2022-03-26T15:20:36.779215Z",
     "iopub.status.idle": "2022-03-26T15:20:36.782585Z",
     "shell.execute_reply": "2022-03-26T15:20:36.782132Z",
     "shell.execute_reply.started": "2022-03-26T14:34:46.365637Z"
    },
    "papermill": {
     "duration": 27.133994,
     "end_time": "2022-03-26T15:20:36.782713",
     "exception": false,
     "start_time": "2022-03-26T15:20:09.648719",
     "status": "completed"
    },
    "tags": []
   },
   "outputs": [],
   "source": [
    "from sklearn.feature_extraction.text import TfidfVectorizer"
   ]
  },
  {
   "cell_type": "code",
   "execution_count": 32,
   "id": "efebba0d",
   "metadata": {
    "execution": {
     "iopub.execute_input": "2022-03-26T15:21:31.023673Z",
     "iopub.status.busy": "2022-03-26T15:21:31.018639Z",
     "iopub.status.idle": "2022-03-26T15:21:54.293663Z",
     "shell.execute_reply": "2022-03-26T15:21:54.293185Z",
     "shell.execute_reply.started": "2022-03-26T14:34:46.375412Z"
    },
    "papermill": {
     "duration": 50.687695,
     "end_time": "2022-03-26T15:21:54.293800",
     "exception": false,
     "start_time": "2022-03-26T15:21:03.606105",
     "status": "completed"
    },
    "tags": []
   },
   "outputs": [
    {
     "data": {
      "text/plain": [
       "(1280000, 200)"
      ]
     },
     "execution_count": 32,
     "metadata": {},
     "output_type": "execute_result"
    }
   ],
   "source": [
    "tf_df_vectorizer = TfidfVectorizer(max_features=word2vec.vector_size)\n",
    "tweets_tfidf_vectors = tf_df_vectorizer.fit_transform(dev_data.text.values)\n",
    "tweets_tfidf_vectors.shape"
   ]
  },
  {
   "cell_type": "code",
   "execution_count": 33,
   "id": "7513bbf6",
   "metadata": {
    "execution": {
     "iopub.execute_input": "2022-03-26T15:22:47.694754Z",
     "iopub.status.busy": "2022-03-26T15:22:47.693189Z",
     "iopub.status.idle": "2022-03-26T15:22:47.695319Z",
     "shell.execute_reply": "2022-03-26T15:22:47.695746Z",
     "shell.execute_reply.started": "2022-03-26T14:35:15.746150Z"
    },
    "papermill": {
     "duration": 27.136976,
     "end_time": "2022-03-26T15:22:47.695901",
     "exception": false,
     "start_time": "2022-03-26T15:22:20.558925",
     "status": "completed"
    },
    "tags": []
   },
   "outputs": [],
   "source": [
    "class TwitterDataset_TFIDF(Dataset):\n",
    "    def __init__(self, data: pd.DataFrame, feature_column: str, target_column: str, word2vec: gensim.models.Word2Vec, tfidf_vectors):\n",
    "        self.tokenizer = nltk.WordPunctTokenizer()\n",
    "        self.data = data\n",
    "        self.feature_column = feature_column\n",
    "        self.target_column = target_column\n",
    "        self.word2vec = word2vec\n",
    "        self.label2num = lambda label: 0 if label == 0 else 1\n",
    "        self.tfidf_vectors = tfidf_vectors\n",
    "\n",
    "    def __getitem__(self, item):\n",
    "        text = self.data[self.feature_column][item]\n",
    "        tf_idf = self.tfidf_vectors[item].toarray()\n",
    "        label = self.label2num(self.data[self.target_column][item])\n",
    "        tokens = self.get_tokens_(text)\n",
    "        embeddings = self.get_embeddings_(tokens, tf_idf)\n",
    "        \n",
    "        return {\"feature\": embeddings, \"target\": label}\n",
    "\n",
    "    def get_tokens_(self, text):\n",
    "        tokens = self.tokenizer.tokenize(text.lower())\n",
    "        tokens = [w for w in tokens if all(c not in string.punctuation for c in w) and len(w) > 3]\n",
    "        return tokens\n",
    "\n",
    "    def get_embeddings_(self, tokens, tf_idf):\n",
    "        embeddings = [(word2vec.get_vector(w) - mean) / std  for w in tokens if w in word2vec]\n",
    "        if len(embeddings) == 0:\n",
    "            return tf_idf\n",
    "            \n",
    "        else:\n",
    "            embeddings = np.array(embeddings)\n",
    "            if len(embeddings.shape) == 1:\n",
    "                embeddings = embeddings.reshape(-1, 1)\n",
    "        embeddings = np.add(embeddings, tf_idf)\n",
    "        return embeddings\n",
    "\n",
    "    def __len__(self):\n",
    "        return self.data.shape[0]\n",
    "    \n",
    "dev = TwitterDataset_TFIDF(dev_data, \"text\", \"emotion\", word2vec, tweets_tfidf_vectors)"
   ]
  },
  {
   "cell_type": "code",
   "execution_count": 34,
   "id": "74554621",
   "metadata": {
    "execution": {
     "iopub.execute_input": "2022-03-26T15:23:41.684469Z",
     "iopub.status.busy": "2022-03-26T15:23:41.683393Z",
     "iopub.status.idle": "2022-03-26T15:23:41.802219Z",
     "shell.execute_reply": "2022-03-26T15:23:41.801745Z",
     "shell.execute_reply.started": "2022-03-26T14:35:15.762206Z"
    },
    "papermill": {
     "duration": 27.337917,
     "end_time": "2022-03-26T15:23:41.802361",
     "exception": false,
     "start_time": "2022-03-26T15:23:14.464444",
     "status": "completed"
    },
    "tags": []
   },
   "outputs": [],
   "source": [
    "train_size = math.ceil(len(dev) * 0.8)\n",
    "train, valid = random_split(dev, [train_size, len(dev) - train_size])\n",
    "train_loader = DataLoader(train, batch_size=batch_size, num_workers=2, shuffle=True, drop_last=True, collate_fn=average_emb)\n",
    "valid_loader = DataLoader(valid, batch_size=batch_size, num_workers=2, shuffle=False, drop_last=False, collate_fn=average_emb)"
   ]
  },
  {
   "cell_type": "code",
   "execution_count": 35,
   "id": "1142ebb0",
   "metadata": {
    "execution": {
     "iopub.execute_input": "2022-03-26T15:24:35.250203Z",
     "iopub.status.busy": "2022-03-26T15:24:35.249416Z",
     "iopub.status.idle": "2022-03-26T15:24:35.260294Z",
     "shell.execute_reply": "2022-03-26T15:24:35.259890Z",
     "shell.execute_reply.started": "2022-03-26T14:36:56.373415Z"
    },
    "papermill": {
     "duration": 26.700645,
     "end_time": "2022-03-26T15:24:35.260423",
     "exception": false,
     "start_time": "2022-03-26T15:24:08.559778",
     "status": "completed"
    },
    "tags": []
   },
   "outputs": [],
   "source": [
    "model = nn.Sequential(\n",
    "        nn.Linear(word2vec.vector_size, 600),\n",
    "        nn.ReLU(),\n",
    "        nn.Linear(600, 600),\n",
    "        nn.ReLU(),\n",
    "        nn.Linear(600, 300),\n",
    "        nn.ReLU(),\n",
    "        nn.Linear(300, num_classes),\n",
    "        nn.Softmax(dim=1)\n",
    "    )\n",
    "\n",
    "model = model.to(device)\n",
    "criterion = nn.CrossEntropyLoss()\n",
    "optimizer = Adam(model.parameters(), lr=lr)"
   ]
  },
  {
   "cell_type": "code",
   "execution_count": 36,
   "id": "865852ab",
   "metadata": {
    "execution": {
     "iopub.execute_input": "2022-03-26T15:25:29.475864Z",
     "iopub.status.busy": "2022-03-26T15:25:29.475243Z",
     "iopub.status.idle": "2022-03-26T15:30:23.922942Z",
     "shell.execute_reply": "2022-03-26T15:30:23.860181Z",
     "shell.execute_reply.started": "2022-03-26T14:36:58.697340Z"
    },
    "papermill": {
     "duration": 321.947597,
     "end_time": "2022-03-26T15:30:23.923070",
     "exception": false,
     "start_time": "2022-03-26T15:25:01.975473",
     "status": "completed"
    },
    "tags": []
   },
   "outputs": [
    {
     "name": "stderr",
     "output_type": "stream",
     "text": [
      "100%|██████████| 1000/1000 [03:34<00:00,  4.66it/s]\n",
      "100%|██████████| 250/250 [01:09<00:00,  3.59it/s]"
     ]
    },
    {
     "name": "stdout",
     "output_type": "stream",
     "text": [
      "{'Test Loss': 0.5347333054542541, 'Test Acc': 0.761765625}\n"
     ]
    },
    {
     "name": "stderr",
     "output_type": "stream",
     "text": [
      "\n"
     ]
    }
   ],
   "source": [
    "best_metric = np.inf\n",
    "for e in range(num_epochs):\n",
    "    training(model, optimizer, criterion, train_loader, e, device)\n",
    "    log = testing(model, criterion, valid_loader, device)\n",
    "    print(log)\n",
    "    if log[\"Test Loss\"] < best_metric:\n",
    "        torch.save(model.state_dict(), \"model.pt\")\n",
    "        best_metric = log[\"Test Loss\"]"
   ]
  },
  {
   "cell_type": "code",
   "execution_count": 37,
   "id": "ff554ae6",
   "metadata": {
    "execution": {
     "iopub.execute_input": "2022-03-26T15:31:18.333808Z",
     "iopub.status.busy": "2022-03-26T15:31:18.332903Z",
     "iopub.status.idle": "2022-03-26T15:32:26.127299Z",
     "shell.execute_reply": "2022-03-26T15:32:26.126890Z",
     "shell.execute_reply.started": "2022-03-26T14:35:17.568767Z"
    },
    "papermill": {
     "duration": 94.894412,
     "end_time": "2022-03-26T15:32:26.127432",
     "exception": false,
     "start_time": "2022-03-26T15:30:51.233020",
     "status": "completed"
    },
    "tags": []
   },
   "outputs": [
    {
     "name": "stderr",
     "output_type": "stream",
     "text": [
      "100%|██████████| 313/313 [01:07<00:00,  4.62it/s]"
     ]
    },
    {
     "name": "stdout",
     "output_type": "stream",
     "text": [
      "{'Test Loss': 0.5440675115432984, 'Test Acc': 0.751812724640575}\n"
     ]
    },
    {
     "name": "stderr",
     "output_type": "stream",
     "text": [
      "\n"
     ]
    }
   ],
   "source": [
    "test_loader = DataLoader(\n",
    "    TwitterDataset_TFIDF(test_data, \"text\", \"emotion\", word2vec, tweets_tfidf_vectors), \n",
    "    batch_size=batch_size, \n",
    "    num_workers=num_workers, \n",
    "    shuffle=False,\n",
    "    drop_last=False, \n",
    "    collate_fn=average_emb)\n",
    "\n",
    "model.load_state_dict(torch.load(\"model.pt\", map_location=device))\n",
    "\n",
    "print(testing(model, criterion, test_loader, device=device))"
   ]
  },
  {
   "cell_type": "code",
   "execution_count": null,
   "id": "1d51264a",
   "metadata": {
    "papermill": {
     "duration": 27.151365,
     "end_time": "2022-03-26T15:33:20.414845",
     "exception": false,
     "start_time": "2022-03-26T15:32:53.263480",
     "status": "completed"
    },
    "tags": []
   },
   "outputs": [],
   "source": []
  },
  {
   "cell_type": "markdown",
   "id": "5866f94b",
   "metadata": {
    "papermill": {
     "duration": 26.963796,
     "end_time": "2022-03-26T15:34:14.805407",
     "exception": false,
     "start_time": "2022-03-26T15:33:47.841611",
     "status": "completed"
    },
    "tags": []
   },
   "source": [
    "Метрика `accuracy` получилось у контестных эмбеддингов. Возможно потому что эмбеддинги соседних слов содержат больше информации о неизвестных словах, чем практически пустые вектора от TF-IDF"
   ]
  },
  {
   "cell_type": "code",
   "execution_count": null,
   "id": "617afe20",
   "metadata": {
    "papermill": {
     "duration": 27.459642,
     "end_time": "2022-03-26T15:35:09.506870",
     "exception": false,
     "start_time": "2022-03-26T15:34:42.047228",
     "status": "completed"
    },
    "tags": []
   },
   "outputs": [],
   "source": []
  }
 ],
 "metadata": {
  "kernelspec": {
   "display_name": "Python 3",
   "language": "python",
   "name": "python3"
  },
  "language_info": {
   "codemirror_mode": {
    "name": "ipython",
    "version": 3
   },
   "file_extension": ".py",
   "mimetype": "text/x-python",
   "name": "python",
   "nbconvert_exporter": "python",
   "pygments_lexer": "ipython3",
   "version": "3.7.12"
  },
  "papermill": {
   "default_parameters": {},
   "duration": 3502.534603,
   "end_time": "2022-03-26T15:35:38.617498",
   "environment_variables": {},
   "exception": null,
   "input_path": "__notebook__.ipynb",
   "output_path": "__notebook__.ipynb",
   "parameters": {},
   "start_time": "2022-03-26T14:37:16.082895",
   "version": "2.3.3"
  }
 },
 "nbformat": 4,
 "nbformat_minor": 5
}
