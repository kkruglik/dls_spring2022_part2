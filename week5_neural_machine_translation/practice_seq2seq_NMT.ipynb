{
 "cells": [
  {
   "cell_type": "markdown",
   "id": "fc64495b",
   "metadata": {
    "papermill": {
     "duration": 0.015953,
     "end_time": "2022-07-08T11:50:25.658830",
     "exception": false,
     "start_time": "2022-07-08T11:50:25.642877",
     "status": "completed"
    },
    "tags": []
   },
   "source": [
    "## Practice: Sequence to Sequence for Neural Machne Translation.\n",
    "\n",
    "*This notebook is based on [open-source implementation](https://github.com/bentrevett/pytorch-seq2seq/blob/master/1%20-%20Sequence%20to%20Sequence%20Learning%20with%20Neural%20Networks.ipynb) of seq2seq NMT in PyTorch.*\n",
    "\n",
    "We are going to implement the model from the [Sequence to Sequence Learning with Neural Networks](https://arxiv.org/abs/1409.3215) paper. \n",
    "\n",
    "The model will be trained for German to English translations, but it can be applied to any problem that involves going from one sequence to another, such as summarization.\n",
    "\n",
    "\n",
    "## Introduction\n",
    "\n",
    "The most common sequence-to-sequence (seq2seq) models are *encoder-decoder* models, which (commonly) use a *recurrent neural network* (RNN) to *encode* the source (input) sentence into a single vector. In this notebook, we'll refer to this single vector as a *context vector*. You can think of the context vector as being an abstract representation of the entire input sentence. This vector is then *decoded* by a second RNN which learns to output the target (output) sentence by generating it one word at a time.\n",
    "\n",
    "![](img/seq2seq1.png)\n",
    "\n",
    "The above image shows an example translation. The input/source sentence, \"guten morgen\", is input into the encoder (green) one word at a time. We also append a *start of sequence* (`<sos>`) and *end of sequence* (`<eos>`) token to the start and end of sentence, respectively. At each time-step, the input to the encoder RNN is both the current word, $x_t$, as well as the hidden state from the previous time-step, $h_{t-1}$, and the encoder RNN outputs a new hidden state $h_t$. You can think of the hidden state as a vector representation of the sentence so far. The RNN can be represented as a function of both of $x_t$ and $h_{t-1}$:\n",
    "\n",
    "$$h_t = \\text{EncoderRNN}(x_t, h_{t-1})$$\n",
    "\n",
    "We're using the term RNN generally here, it could be any recurrent architecture, such as an *LSTM* (Long Short-Term Memory) or a *GRU* (Gated Recurrent Unit). \n",
    "\n",
    "Here, we have $X = \\{x_1, x_2, ..., x_T\\}$, where $x_1 = \\text{<sos>}, x_2 = \\text{guten}$, etc. The initial hidden state, $h_0$, is usually either initialized to zeros or a learned parameter.\n",
    "\n",
    "Once the final word, $x_T$, has been passed into the RNN, we use the final hidden state, $h_T$, as the context vector, i.e. $h_T = z$. This is a vector representation of the entire source sentence.\n",
    "\n",
    "Now we have our context vector, $z$, we can start decoding it to get the target sentence, \"good morning\". Again, we append start and end of sequence tokens to the target sentence. At each time-step, the input to the decoder RNN (blue) is the current word, $y_t$, as well as the hidden state from the previous time-step, $s_{t-1}$, where the initial decoder hidden state, $s_0$, is the context vector, $s_0 = z = h_T$, i.e. the initial decoder hidden state is the final encoder hidden state. Thus, similar to the encoder, we can represent the decoder as:\n",
    "\n",
    "$$s_t = \\text{DecoderRNN}(y_t, s_{t-1})$$\n",
    "\n",
    "In the decoder, we need to go from the hidden state to an actual word, therefore at each time-step we use $s_t$ to predict (by passing it through a `Linear` layer, shown in purple) what we think is the next word in the sequence, $\\hat{y}_t$. \n",
    "\n",
    "$$\\hat{y}_t = f(s_t)$$\n",
    "\n",
    "We always use `<sos>` for the first input to the decoder, $y_1$, but for subsequent inputs, $y_{t>1}$, we will sometimes use the actual, ground truth next word in the sequence, $y_t$ and sometimes use the word predicted by our decoder, $\\hat{y}_{t-1}$. This is called *teacher forcing*, and you can read about it more [here](https://machinelearningmastery.com/teacher-forcing-for-recurrent-neural-networks/).\n",
    "\n",
    "When training/testing our model, we always know how many words are in our target sentence, so we stop generating words once we hit that many. During inference (i.e. real world usage) it is common to keep generating words until the model outputs an `<eos>` token or after a certain amount of words have been generated.\n",
    "\n",
    "Once we have our predicted target sentence, $\\hat{Y} = \\{ \\hat{y}_1, \\hat{y}_2, ..., \\hat{y}_T \\}$, we compare it against our actual target sentence, $Y = \\{ y_1, y_2, ..., y_T \\}$, to calculate our loss. We then use this loss to update all of the parameters in our model.\n",
    "\n",
    "## Preparing Data\n",
    "\n",
    "We'll be coding up the models in PyTorch and using TorchText to help us do all of the pre-processing required. We'll also be using spaCy to assist in the tokenization of the data."
   ]
  },
  {
   "cell_type": "markdown",
   "id": "4358d9ef",
   "metadata": {
    "papermill": {
     "duration": 0.013904,
     "end_time": "2022-07-08T11:50:25.687030",
     "exception": false,
     "start_time": "2022-07-08T11:50:25.673126",
     "status": "completed"
    },
    "tags": []
   },
   "source": [
    "Uncomment the next cell if `torchtext` is not present on your machine."
   ]
  },
  {
   "cell_type": "code",
   "execution_count": 1,
   "id": "c6aa4e85",
   "metadata": {
    "execution": {
     "iopub.execute_input": "2022-07-08T11:50:25.719288Z",
     "iopub.status.busy": "2022-07-08T11:50:25.718457Z",
     "iopub.status.idle": "2022-07-08T11:51:47.324293Z",
     "shell.execute_reply": "2022-07-08T11:51:47.323131Z"
    },
    "papermill": {
     "duration": 81.625781,
     "end_time": "2022-07-08T11:51:47.327181",
     "exception": false,
     "start_time": "2022-07-08T11:50:25.701400",
     "status": "completed"
    },
    "scrolled": true,
    "tags": []
   },
   "outputs": [
    {
     "name": "stdout",
     "output_type": "stream",
     "text": [
      "Collecting torchtext==0.10.0\r\n",
      "  Downloading torchtext-0.10.0-cp37-cp37m-manylinux1_x86_64.whl (7.6 MB)\r\n",
      "\u001b[2K     \u001b[90m━━━━━━━━━━━━━━━━━━━━━━━━━━━━━━━━━━━━━━━━\u001b[0m \u001b[32m7.6/7.6 MB\u001b[0m \u001b[31m15.7 MB/s\u001b[0m eta \u001b[36m0:00:00\u001b[0m\r\n",
      "\u001b[?25hRequirement already satisfied: requests in /opt/conda/lib/python3.7/site-packages (from torchtext==0.10.0) (2.27.1)\r\n",
      "Requirement already satisfied: numpy in /opt/conda/lib/python3.7/site-packages (from torchtext==0.10.0) (1.21.6)\r\n",
      "Collecting torch==1.9.0\r\n",
      "  Downloading torch-1.9.0-cp37-cp37m-manylinux1_x86_64.whl (831.4 MB)\r\n",
      "\u001b[2K     \u001b[90m━━━━━━━━━━━━━━━━━━━━━━━━━━━━━━━━━━━━━━━\u001b[0m \u001b[32m831.4/831.4 MB\u001b[0m \u001b[31m1.2 MB/s\u001b[0m eta \u001b[36m0:00:00\u001b[0m\r\n",
      "\u001b[?25hRequirement already satisfied: tqdm in /opt/conda/lib/python3.7/site-packages (from torchtext==0.10.0) (4.64.0)\r\n",
      "Requirement already satisfied: typing-extensions in /opt/conda/lib/python3.7/site-packages (from torch==1.9.0->torchtext==0.10.0) (4.1.1)\r\n",
      "Requirement already satisfied: urllib3<1.27,>=1.21.1 in /opt/conda/lib/python3.7/site-packages (from requests->torchtext==0.10.0) (1.26.9)\r\n",
      "Requirement already satisfied: certifi>=2017.4.17 in /opt/conda/lib/python3.7/site-packages (from requests->torchtext==0.10.0) (2022.6.15)\r\n",
      "Requirement already satisfied: charset-normalizer~=2.0.0 in /opt/conda/lib/python3.7/site-packages (from requests->torchtext==0.10.0) (2.0.12)\r\n",
      "Requirement already satisfied: idna<4,>=2.5 in /opt/conda/lib/python3.7/site-packages (from requests->torchtext==0.10.0) (3.3)\r\n",
      "Installing collected packages: torch, torchtext\r\n",
      "  Attempting uninstall: torch\r\n",
      "    Found existing installation: torch 1.11.0\r\n",
      "    Uninstalling torch-1.11.0:\r\n",
      "      Successfully uninstalled torch-1.11.0\r\n",
      "  Attempting uninstall: torchtext\r\n",
      "    Found existing installation: torchtext 0.12.0\r\n",
      "    Uninstalling torchtext-0.12.0:\r\n",
      "      Successfully uninstalled torchtext-0.12.0\r\n",
      "Successfully installed torch-1.9.0 torchtext-0.10.0\r\n",
      "\u001b[33mWARNING: Running pip as the 'root' user can result in broken permissions and conflicting behaviour with the system package manager. It is recommended to use a virtual environment instead: https://pip.pypa.io/warnings/venv\u001b[0m\u001b[33m\r\n",
      "\u001b[0m"
     ]
    }
   ],
   "source": [
    "!pip install torchtext==0.10.0"
   ]
  },
  {
   "cell_type": "code",
   "execution_count": 2,
   "id": "6821e87c",
   "metadata": {
    "execution": {
     "iopub.execute_input": "2022-07-08T11:51:47.415405Z",
     "iopub.status.busy": "2022-07-08T11:51:47.415067Z",
     "iopub.status.idle": "2022-07-08T11:51:50.514379Z",
     "shell.execute_reply": "2022-07-08T11:51:50.513429Z"
    },
    "papermill": {
     "duration": 3.145988,
     "end_time": "2022-07-08T11:51:50.516951",
     "exception": false,
     "start_time": "2022-07-08T11:51:47.370963",
     "status": "completed"
    },
    "tags": []
   },
   "outputs": [],
   "source": [
    "import torch\n",
    "import torch.nn as nn\n",
    "import torch.optim as optim\n",
    "\n",
    "from torchtext.legacy.datasets import TranslationDataset, Multi30k\n",
    "from torchtext.legacy.data import Field, BucketIterator\n",
    "\n",
    "import spacy\n",
    "\n",
    "import random\n",
    "import math\n",
    "import time"
   ]
  },
  {
   "cell_type": "markdown",
   "id": "6eb28051",
   "metadata": {
    "papermill": {
     "duration": 0.073468,
     "end_time": "2022-07-08T11:51:50.658212",
     "exception": false,
     "start_time": "2022-07-08T11:51:50.584744",
     "status": "completed"
    },
    "tags": []
   },
   "source": [
    "We'll set the random seeds for deterministic results."
   ]
  },
  {
   "cell_type": "code",
   "execution_count": 3,
   "id": "37d6d159",
   "metadata": {
    "execution": {
     "iopub.execute_input": "2022-07-08T11:51:50.810034Z",
     "iopub.status.busy": "2022-07-08T11:51:50.809303Z",
     "iopub.status.idle": "2022-07-08T11:51:50.816384Z",
     "shell.execute_reply": "2022-07-08T11:51:50.815458Z"
    },
    "papermill": {
     "duration": 0.093913,
     "end_time": "2022-07-08T11:51:50.821461",
     "exception": false,
     "start_time": "2022-07-08T11:51:50.727548",
     "status": "completed"
    },
    "tags": []
   },
   "outputs": [],
   "source": [
    "SEED = 1234\n",
    "\n",
    "random.seed(SEED)\n",
    "torch.manual_seed(SEED)\n",
    "torch.backends.cudnn.deterministic = True"
   ]
  },
  {
   "cell_type": "markdown",
   "id": "5fc4622e",
   "metadata": {
    "papermill": {
     "duration": 0.069815,
     "end_time": "2022-07-08T11:51:50.967164",
     "exception": false,
     "start_time": "2022-07-08T11:51:50.897349",
     "status": "completed"
    },
    "tags": []
   },
   "source": [
    "Next, we'll create the tokenizers. A tokenizer is used to turn a string containing a sentence into a list of individual tokens that make up that string, e.g. \"good morning!\" becomes [\"good\", \"morning\", \"!\"]. We'll start talking about the sentences being a sequence of tokens from now, instead of saying they're a sequence of words. What's the difference? Well, \"good\" and \"morning\" are both words and tokens, but \"!\" is a token, not a word. \n",
    "\n",
    "spaCy has model for each language (\"de\" for German and \"en\" for English) which need to be loaded so we can access the tokenizer of each model. \n",
    "\n",
    "**Note**: the models must first be downloaded using the following on the command line: \n",
    "```\n",
    "python -m spacy download en\n",
    "python -m spacy download de\n",
    "```"
   ]
  },
  {
   "cell_type": "markdown",
   "id": "e7f46a4b",
   "metadata": {
    "papermill": {
     "duration": 0.062726,
     "end_time": "2022-07-08T11:51:51.110683",
     "exception": false,
     "start_time": "2022-07-08T11:51:51.047957",
     "status": "completed"
    },
    "tags": []
   },
   "source": [
    "Uncomment the next cell if you are using Colab or it's the first time you work with this notebook.\n",
    "\n",
    "__If you a working on local machine and in special env, you should run the code below in the exact env the current jupyter kernel is based on.__ E.g. using the following command if you use `conda`:\n",
    "\n",
    "```\n",
    "conda activate my_special_env\n",
    "python -m spacy download en\n",
    "python -m spacy download de\n",
    "```"
   ]
  },
  {
   "cell_type": "code",
   "execution_count": 4,
   "id": "11098b43",
   "metadata": {
    "execution": {
     "iopub.execute_input": "2022-07-08T11:51:51.267998Z",
     "iopub.status.busy": "2022-07-08T11:51:51.267567Z",
     "iopub.status.idle": "2022-07-08T11:52:24.293659Z",
     "shell.execute_reply": "2022-07-08T11:52:24.292102Z"
    },
    "papermill": {
     "duration": 33.106721,
     "end_time": "2022-07-08T11:52:24.296505",
     "exception": false,
     "start_time": "2022-07-08T11:51:51.189784",
     "status": "completed"
    },
    "tags": []
   },
   "outputs": [
    {
     "name": "stdout",
     "output_type": "stream",
     "text": [
      "Collecting en_core_web_sm==2.3.1\r\n",
      "  Downloading https://github.com/explosion/spacy-models/releases/download/en_core_web_sm-2.3.1/en_core_web_sm-2.3.1.tar.gz (12.0 MB)\r\n",
      "\u001b[2K     \u001b[90m━━━━━━━━━━━━━━━━━━━━━━━━━━━━━━━━━━━━━━━━\u001b[0m \u001b[32m12.0/12.0 MB\u001b[0m \u001b[31m75.2 MB/s\u001b[0m eta \u001b[36m0:00:00\u001b[0m\r\n",
      "\u001b[?25h  Preparing metadata (setup.py) ... \u001b[?25l-\b \bdone\r\n",
      "\u001b[?25hRequirement already satisfied: spacy<2.4.0,>=2.3.0 in /opt/conda/lib/python3.7/site-packages (from en_core_web_sm==2.3.1) (2.3.7)\r\n",
      "Requirement already satisfied: numpy>=1.15.0 in /opt/conda/lib/python3.7/site-packages (from spacy<2.4.0,>=2.3.0->en_core_web_sm==2.3.1) (1.21.6)\r\n",
      "Requirement already satisfied: requests<3.0.0,>=2.13.0 in /opt/conda/lib/python3.7/site-packages (from spacy<2.4.0,>=2.3.0->en_core_web_sm==2.3.1) (2.27.1)\r\n",
      "Requirement already satisfied: setuptools in /opt/conda/lib/python3.7/site-packages (from spacy<2.4.0,>=2.3.0->en_core_web_sm==2.3.1) (59.8.0)\r\n",
      "Requirement already satisfied: tqdm<5.0.0,>=4.38.0 in /opt/conda/lib/python3.7/site-packages (from spacy<2.4.0,>=2.3.0->en_core_web_sm==2.3.1) (4.64.0)\r\n",
      "Requirement already satisfied: preshed<3.1.0,>=3.0.2 in /opt/conda/lib/python3.7/site-packages (from spacy<2.4.0,>=2.3.0->en_core_web_sm==2.3.1) (3.0.6)\r\n",
      "Requirement already satisfied: srsly<1.1.0,>=1.0.2 in /opt/conda/lib/python3.7/site-packages (from spacy<2.4.0,>=2.3.0->en_core_web_sm==2.3.1) (1.0.5)\r\n",
      "Requirement already satisfied: catalogue<1.1.0,>=0.0.7 in /opt/conda/lib/python3.7/site-packages (from spacy<2.4.0,>=2.3.0->en_core_web_sm==2.3.1) (1.0.0)\r\n",
      "Requirement already satisfied: blis<0.8.0,>=0.4.0 in /opt/conda/lib/python3.7/site-packages (from spacy<2.4.0,>=2.3.0->en_core_web_sm==2.3.1) (0.7.7)\r\n",
      "Requirement already satisfied: cymem<2.1.0,>=2.0.2 in /opt/conda/lib/python3.7/site-packages (from spacy<2.4.0,>=2.3.0->en_core_web_sm==2.3.1) (2.0.6)\r\n",
      "Requirement already satisfied: murmurhash<1.1.0,>=0.28.0 in /opt/conda/lib/python3.7/site-packages (from spacy<2.4.0,>=2.3.0->en_core_web_sm==2.3.1) (1.0.7)\r\n",
      "Requirement already satisfied: wasabi<1.1.0,>=0.4.0 in /opt/conda/lib/python3.7/site-packages (from spacy<2.4.0,>=2.3.0->en_core_web_sm==2.3.1) (0.9.1)\r\n",
      "Requirement already satisfied: thinc<7.5.0,>=7.4.1 in /opt/conda/lib/python3.7/site-packages (from spacy<2.4.0,>=2.3.0->en_core_web_sm==2.3.1) (7.4.5)\r\n",
      "Requirement already satisfied: plac<1.2.0,>=0.9.6 in /opt/conda/lib/python3.7/site-packages (from spacy<2.4.0,>=2.3.0->en_core_web_sm==2.3.1) (1.1.3)\r\n",
      "Requirement already satisfied: importlib-metadata>=0.20 in /opt/conda/lib/python3.7/site-packages (from catalogue<1.1.0,>=0.0.7->spacy<2.4.0,>=2.3.0->en_core_web_sm==2.3.1) (4.11.4)\r\n",
      "Requirement already satisfied: idna<4,>=2.5 in /opt/conda/lib/python3.7/site-packages (from requests<3.0.0,>=2.13.0->spacy<2.4.0,>=2.3.0->en_core_web_sm==2.3.1) (3.3)\r\n",
      "Requirement already satisfied: urllib3<1.27,>=1.21.1 in /opt/conda/lib/python3.7/site-packages (from requests<3.0.0,>=2.13.0->spacy<2.4.0,>=2.3.0->en_core_web_sm==2.3.1) (1.26.9)\r\n",
      "Requirement already satisfied: charset-normalizer~=2.0.0 in /opt/conda/lib/python3.7/site-packages (from requests<3.0.0,>=2.13.0->spacy<2.4.0,>=2.3.0->en_core_web_sm==2.3.1) (2.0.12)\r\n",
      "Requirement already satisfied: certifi>=2017.4.17 in /opt/conda/lib/python3.7/site-packages (from requests<3.0.0,>=2.13.0->spacy<2.4.0,>=2.3.0->en_core_web_sm==2.3.1) (2022.6.15)\r\n",
      "Requirement already satisfied: typing-extensions>=3.6.4 in /opt/conda/lib/python3.7/site-packages (from importlib-metadata>=0.20->catalogue<1.1.0,>=0.0.7->spacy<2.4.0,>=2.3.0->en_core_web_sm==2.3.1) (4.1.1)\r\n",
      "Requirement already satisfied: zipp>=0.5 in /opt/conda/lib/python3.7/site-packages (from importlib-metadata>=0.20->catalogue<1.1.0,>=0.0.7->spacy<2.4.0,>=2.3.0->en_core_web_sm==2.3.1) (3.8.0)\r\n",
      "\u001b[33mWARNING: Running pip as the 'root' user can result in broken permissions and conflicting behaviour with the system package manager. It is recommended to use a virtual environment instead: https://pip.pypa.io/warnings/venv\u001b[0m\u001b[33m\r\n",
      "\u001b[0m\u001b[38;5;2m✔ Download and installation successful\u001b[0m\r\n",
      "You can now load the model via spacy.load('en_core_web_sm')\r\n",
      "\u001b[38;5;2m✔ Linking successful\u001b[0m\r\n",
      "/opt/conda/lib/python3.7/site-packages/en_core_web_sm -->\r\n",
      "/opt/conda/lib/python3.7/site-packages/spacy/data/en\r\n",
      "You can now load the model via spacy.load('en')\r\n",
      "Collecting de_core_news_sm==2.3.0\r\n",
      "  Downloading https://github.com/explosion/spacy-models/releases/download/de_core_news_sm-2.3.0/de_core_news_sm-2.3.0.tar.gz (14.9 MB)\r\n",
      "\u001b[2K     \u001b[90m━━━━━━━━━━━━━━━━━━━━━━━━━━━━━━━━━━━━━━━━\u001b[0m \u001b[32m14.9/14.9 MB\u001b[0m \u001b[31m62.3 MB/s\u001b[0m eta \u001b[36m0:00:00\u001b[0m\r\n",
      "\u001b[?25h  Preparing metadata (setup.py) ... \u001b[?25l-\b \bdone\r\n",
      "\u001b[?25hRequirement already satisfied: spacy<2.4.0,>=2.3.0 in /opt/conda/lib/python3.7/site-packages (from de_core_news_sm==2.3.0) (2.3.7)\r\n",
      "Requirement already satisfied: tqdm<5.0.0,>=4.38.0 in /opt/conda/lib/python3.7/site-packages (from spacy<2.4.0,>=2.3.0->de_core_news_sm==2.3.0) (4.64.0)\r\n",
      "Requirement already satisfied: murmurhash<1.1.0,>=0.28.0 in /opt/conda/lib/python3.7/site-packages (from spacy<2.4.0,>=2.3.0->de_core_news_sm==2.3.0) (1.0.7)\r\n",
      "Requirement already satisfied: requests<3.0.0,>=2.13.0 in /opt/conda/lib/python3.7/site-packages (from spacy<2.4.0,>=2.3.0->de_core_news_sm==2.3.0) (2.27.1)\r\n",
      "Requirement already satisfied: thinc<7.5.0,>=7.4.1 in /opt/conda/lib/python3.7/site-packages (from spacy<2.4.0,>=2.3.0->de_core_news_sm==2.3.0) (7.4.5)\r\n",
      "Requirement already satisfied: catalogue<1.1.0,>=0.0.7 in /opt/conda/lib/python3.7/site-packages (from spacy<2.4.0,>=2.3.0->de_core_news_sm==2.3.0) (1.0.0)\r\n",
      "Requirement already satisfied: cymem<2.1.0,>=2.0.2 in /opt/conda/lib/python3.7/site-packages (from spacy<2.4.0,>=2.3.0->de_core_news_sm==2.3.0) (2.0.6)\r\n",
      "Requirement already satisfied: setuptools in /opt/conda/lib/python3.7/site-packages (from spacy<2.4.0,>=2.3.0->de_core_news_sm==2.3.0) (59.8.0)\r\n",
      "Requirement already satisfied: wasabi<1.1.0,>=0.4.0 in /opt/conda/lib/python3.7/site-packages (from spacy<2.4.0,>=2.3.0->de_core_news_sm==2.3.0) (0.9.1)\r\n",
      "Requirement already satisfied: plac<1.2.0,>=0.9.6 in /opt/conda/lib/python3.7/site-packages (from spacy<2.4.0,>=2.3.0->de_core_news_sm==2.3.0) (1.1.3)\r\n",
      "Requirement already satisfied: blis<0.8.0,>=0.4.0 in /opt/conda/lib/python3.7/site-packages (from spacy<2.4.0,>=2.3.0->de_core_news_sm==2.3.0) (0.7.7)\r\n",
      "Requirement already satisfied: srsly<1.1.0,>=1.0.2 in /opt/conda/lib/python3.7/site-packages (from spacy<2.4.0,>=2.3.0->de_core_news_sm==2.3.0) (1.0.5)\r\n",
      "Requirement already satisfied: preshed<3.1.0,>=3.0.2 in /opt/conda/lib/python3.7/site-packages (from spacy<2.4.0,>=2.3.0->de_core_news_sm==2.3.0) (3.0.6)\r\n",
      "Requirement already satisfied: numpy>=1.15.0 in /opt/conda/lib/python3.7/site-packages (from spacy<2.4.0,>=2.3.0->de_core_news_sm==2.3.0) (1.21.6)\r\n",
      "Requirement already satisfied: importlib-metadata>=0.20 in /opt/conda/lib/python3.7/site-packages (from catalogue<1.1.0,>=0.0.7->spacy<2.4.0,>=2.3.0->de_core_news_sm==2.3.0) (4.11.4)\r\n",
      "Requirement already satisfied: idna<4,>=2.5 in /opt/conda/lib/python3.7/site-packages (from requests<3.0.0,>=2.13.0->spacy<2.4.0,>=2.3.0->de_core_news_sm==2.3.0) (3.3)\r\n",
      "Requirement already satisfied: certifi>=2017.4.17 in /opt/conda/lib/python3.7/site-packages (from requests<3.0.0,>=2.13.0->spacy<2.4.0,>=2.3.0->de_core_news_sm==2.3.0) (2022.6.15)\r\n",
      "Requirement already satisfied: urllib3<1.27,>=1.21.1 in /opt/conda/lib/python3.7/site-packages (from requests<3.0.0,>=2.13.0->spacy<2.4.0,>=2.3.0->de_core_news_sm==2.3.0) (1.26.9)\r\n",
      "Requirement already satisfied: charset-normalizer~=2.0.0 in /opt/conda/lib/python3.7/site-packages (from requests<3.0.0,>=2.13.0->spacy<2.4.0,>=2.3.0->de_core_news_sm==2.3.0) (2.0.12)\r\n",
      "Requirement already satisfied: zipp>=0.5 in /opt/conda/lib/python3.7/site-packages (from importlib-metadata>=0.20->catalogue<1.1.0,>=0.0.7->spacy<2.4.0,>=2.3.0->de_core_news_sm==2.3.0) (3.8.0)\r\n",
      "Requirement already satisfied: typing-extensions>=3.6.4 in /opt/conda/lib/python3.7/site-packages (from importlib-metadata>=0.20->catalogue<1.1.0,>=0.0.7->spacy<2.4.0,>=2.3.0->de_core_news_sm==2.3.0) (4.1.1)\r\n",
      "Building wheels for collected packages: de_core_news_sm\r\n",
      "  Building wheel for de_core_news_sm (setup.py) ... \u001b[?25l-\b \b\\\b \b|\b \b/\b \b-\b \b\\\b \bdone\r\n",
      "\u001b[?25h  Created wheel for de_core_news_sm: filename=de_core_news_sm-2.3.0-py3-none-any.whl size=14907581 sha256=33e07a17f19340bd6903dc3df3db625dc9e7e11a4bcfa58ca8a0681e5491bf00\r\n",
      "  Stored in directory: /root/.cache/pip/wheels/75/30/c3/ea1c6002eede7f49c8ab017ce62a2981a87b1cd39fab6e6a65\r\n",
      "Successfully built de_core_news_sm\r\n",
      "Installing collected packages: de_core_news_sm\r\n",
      "Successfully installed de_core_news_sm-2.3.0\r\n",
      "\u001b[33mWARNING: Running pip as the 'root' user can result in broken permissions and conflicting behaviour with the system package manager. It is recommended to use a virtual environment instead: https://pip.pypa.io/warnings/venv\u001b[0m\u001b[33m\r\n",
      "\u001b[0m\u001b[38;5;2m✔ Download and installation successful\u001b[0m\r\n",
      "You can now load the model via spacy.load('de_core_news_sm')\r\n",
      "\u001b[38;5;2m✔ Linking successful\u001b[0m\r\n",
      "/opt/conda/lib/python3.7/site-packages/de_core_news_sm -->\r\n",
      "/opt/conda/lib/python3.7/site-packages/spacy/data/de\r\n",
      "You can now load the model via spacy.load('de')\r\n"
     ]
    }
   ],
   "source": [
    "! python -m spacy download en\n",
    "! python -m spacy download de"
   ]
  },
  {
   "cell_type": "markdown",
   "id": "7b36e2a9",
   "metadata": {
    "papermill": {
     "duration": 0.044921,
     "end_time": "2022-07-08T11:52:24.388110",
     "exception": false,
     "start_time": "2022-07-08T11:52:24.343189",
     "status": "completed"
    },
    "tags": []
   },
   "source": [
    "We load the models as such:"
   ]
  },
  {
   "cell_type": "code",
   "execution_count": 5,
   "id": "a6625c35",
   "metadata": {
    "execution": {
     "iopub.execute_input": "2022-07-08T11:52:24.479526Z",
     "iopub.status.busy": "2022-07-08T11:52:24.479160Z",
     "iopub.status.idle": "2022-07-08T11:52:26.974764Z",
     "shell.execute_reply": "2022-07-08T11:52:26.973789Z"
    },
    "papermill": {
     "duration": 2.544532,
     "end_time": "2022-07-08T11:52:26.977403",
     "exception": false,
     "start_time": "2022-07-08T11:52:24.432871",
     "status": "completed"
    },
    "tags": []
   },
   "outputs": [],
   "source": [
    "spacy_de = spacy.load('de')\n",
    "spacy_en = spacy.load('en')"
   ]
  },
  {
   "cell_type": "markdown",
   "id": "7ec6add3",
   "metadata": {
    "papermill": {
     "duration": 0.045319,
     "end_time": "2022-07-08T11:52:27.068686",
     "exception": false,
     "start_time": "2022-07-08T11:52:27.023367",
     "status": "completed"
    },
    "tags": []
   },
   "source": [
    "Next, we create the tokenizer functions. These can be passed to TorchText and will take in the sentence as a string and return the sentence as a list of tokens.\n",
    "\n",
    "In the paper we are implementing, they find it beneficial to reverse the order of the input which they believe \"introduces many short term dependencies in the data that make the optimization problem much easier\"."
   ]
  },
  {
   "cell_type": "code",
   "execution_count": 6,
   "id": "b4fa5c63",
   "metadata": {
    "execution": {
     "iopub.execute_input": "2022-07-08T11:52:27.160770Z",
     "iopub.status.busy": "2022-07-08T11:52:27.160407Z",
     "iopub.status.idle": "2022-07-08T11:52:27.166517Z",
     "shell.execute_reply": "2022-07-08T11:52:27.165561Z"
    },
    "papermill": {
     "duration": 0.054817,
     "end_time": "2022-07-08T11:52:27.168461",
     "exception": false,
     "start_time": "2022-07-08T11:52:27.113644",
     "status": "completed"
    },
    "tags": []
   },
   "outputs": [],
   "source": [
    "def tokenize_de(text):\n",
    "    \"\"\"\n",
    "    Tokenizes German text from a string into a list of strings (tokens) and reverses it\n",
    "    \"\"\"\n",
    "    return [tok.text for tok in spacy_de.tokenizer(text)][::-1]\n",
    "\n",
    "def tokenize_en(text):\n",
    "    \"\"\"\n",
    "    Tokenizes English text from a string into a list of strings (tokens)\n",
    "    \"\"\"\n",
    "    return [tok.text for tok in spacy_en.tokenizer(text)]"
   ]
  },
  {
   "cell_type": "markdown",
   "id": "01353617",
   "metadata": {
    "papermill": {
     "duration": 0.043522,
     "end_time": "2022-07-08T11:52:27.256353",
     "exception": false,
     "start_time": "2022-07-08T11:52:27.212831",
     "status": "completed"
    },
    "tags": []
   },
   "source": [
    "TorchText's `Field`s handle how data should be processed. You can read all of the possible arguments [here](https://github.com/pytorch/text/blob/master/torchtext/data/field.py#L61). \n",
    "\n",
    "We set the `tokenize` argument to the correct tokenization function for each, with German being the `SRC` (source) field and English being the `TRG` (target) field. The field also appends the \"start of sequence\" and \"end of sequence\" tokens via the `init_token` and `eos_token` arguments, and converts all words to lowercase."
   ]
  },
  {
   "cell_type": "code",
   "execution_count": 7,
   "id": "9ac5ea0a",
   "metadata": {
    "execution": {
     "iopub.execute_input": "2022-07-08T11:52:27.346978Z",
     "iopub.status.busy": "2022-07-08T11:52:27.346152Z",
     "iopub.status.idle": "2022-07-08T11:52:27.351971Z",
     "shell.execute_reply": "2022-07-08T11:52:27.351124Z"
    },
    "papermill": {
     "duration": 0.053007,
     "end_time": "2022-07-08T11:52:27.353876",
     "exception": false,
     "start_time": "2022-07-08T11:52:27.300869",
     "status": "completed"
    },
    "tags": []
   },
   "outputs": [],
   "source": [
    "SRC = Field(tokenize = tokenize_de, \n",
    "            init_token = '<sos>', \n",
    "            eos_token = '<eos>', \n",
    "            lower = True)\n",
    "\n",
    "TRG = Field(tokenize = tokenize_en, \n",
    "            init_token = '<sos>', \n",
    "            eos_token = '<eos>', \n",
    "            lower = True)"
   ]
  },
  {
   "cell_type": "markdown",
   "id": "40e42e75",
   "metadata": {
    "papermill": {
     "duration": 0.04408,
     "end_time": "2022-07-08T11:52:27.442382",
     "exception": false,
     "start_time": "2022-07-08T11:52:27.398302",
     "status": "completed"
    },
    "tags": []
   },
   "source": [
    "Next, we download and load the train, validation and test data. \n",
    "\n",
    "The dataset we'll be using is the [Multi30k dataset](https://github.com/multi30k/dataset). This is a dataset with ~30,000 parallel English, German and French sentences, each with ~12 words per sentence. \n",
    "\n",
    "`exts` specifies which languages to use as the source and target (source goes first) and `fields` specifies which field to use for the source and target."
   ]
  },
  {
   "cell_type": "code",
   "execution_count": 8,
   "id": "4741ef54",
   "metadata": {
    "execution": {
     "iopub.execute_input": "2022-07-08T11:52:27.534937Z",
     "iopub.status.busy": "2022-07-08T11:52:27.533913Z",
     "iopub.status.idle": "2022-07-08T11:52:40.370902Z",
     "shell.execute_reply": "2022-07-08T11:52:40.369931Z"
    },
    "papermill": {
     "duration": 12.886775,
     "end_time": "2022-07-08T11:52:40.373279",
     "exception": false,
     "start_time": "2022-07-08T11:52:27.486504",
     "status": "completed"
    },
    "tags": []
   },
   "outputs": [
    {
     "name": "stdout",
     "output_type": "stream",
     "text": [
      "downloading training.tar.gz\n"
     ]
    },
    {
     "name": "stderr",
     "output_type": "stream",
     "text": [
      "training.tar.gz: 100%|██████████| 1.21M/1.21M [00:01<00:00, 609kB/s] \n"
     ]
    },
    {
     "name": "stdout",
     "output_type": "stream",
     "text": [
      "downloading validation.tar.gz\n"
     ]
    },
    {
     "name": "stderr",
     "output_type": "stream",
     "text": [
      "validation.tar.gz: 100%|██████████| 46.3k/46.3k [00:00<00:00, 145kB/s]\n"
     ]
    },
    {
     "name": "stdout",
     "output_type": "stream",
     "text": [
      "downloading mmt_task1_test2016.tar.gz\n"
     ]
    },
    {
     "name": "stderr",
     "output_type": "stream",
     "text": [
      "mmt_task1_test2016.tar.gz: 100%|██████████| 66.2k/66.2k [00:00<00:00, 166kB/s]\n"
     ]
    }
   ],
   "source": [
    "train_data, valid_data, test_data = Multi30k.splits(exts = ('.de', '.en'),\n",
    "                                                    fields = (SRC, TRG))"
   ]
  },
  {
   "cell_type": "code",
   "execution_count": 9,
   "id": "b1e0c5b6",
   "metadata": {
    "execution": {
     "iopub.execute_input": "2022-07-08T11:52:40.469153Z",
     "iopub.status.busy": "2022-07-08T11:52:40.468829Z",
     "iopub.status.idle": "2022-07-08T11:52:40.476694Z",
     "shell.execute_reply": "2022-07-08T11:52:40.475810Z"
    },
    "papermill": {
     "duration": 0.058538,
     "end_time": "2022-07-08T11:52:40.478711",
     "exception": false,
     "start_time": "2022-07-08T11:52:40.420173",
     "status": "completed"
    },
    "tags": []
   },
   "outputs": [
    {
     "data": {
      "text/plain": [
       "['two',\n",
       " 'young',\n",
       " ',',\n",
       " 'white',\n",
       " 'males',\n",
       " 'are',\n",
       " 'outside',\n",
       " 'near',\n",
       " 'many',\n",
       " 'bushes',\n",
       " '.']"
      ]
     },
     "execution_count": 9,
     "metadata": {},
     "output_type": "execute_result"
    }
   ],
   "source": [
    "train_data[0].trg"
   ]
  },
  {
   "cell_type": "markdown",
   "id": "76600fb7",
   "metadata": {
    "papermill": {
     "duration": 0.046982,
     "end_time": "2022-07-08T11:52:40.573327",
     "exception": false,
     "start_time": "2022-07-08T11:52:40.526345",
     "status": "completed"
    },
    "tags": []
   },
   "source": [
    "We can double check that we've loaded the right number of examples:"
   ]
  },
  {
   "cell_type": "code",
   "execution_count": 10,
   "id": "ef141609",
   "metadata": {
    "execution": {
     "iopub.execute_input": "2022-07-08T11:52:40.668740Z",
     "iopub.status.busy": "2022-07-08T11:52:40.667859Z",
     "iopub.status.idle": "2022-07-08T11:52:40.673518Z",
     "shell.execute_reply": "2022-07-08T11:52:40.672584Z"
    },
    "papermill": {
     "duration": 0.056095,
     "end_time": "2022-07-08T11:52:40.676190",
     "exception": false,
     "start_time": "2022-07-08T11:52:40.620095",
     "status": "completed"
    },
    "tags": []
   },
   "outputs": [
    {
     "name": "stdout",
     "output_type": "stream",
     "text": [
      "Number of training examples: 29000\n",
      "Number of validation examples: 1014\n",
      "Number of testing examples: 1000\n"
     ]
    }
   ],
   "source": [
    "print(f\"Number of training examples: {len(train_data.examples)}\")\n",
    "print(f\"Number of validation examples: {len(valid_data.examples)}\")\n",
    "print(f\"Number of testing examples: {len(test_data.examples)}\")"
   ]
  },
  {
   "cell_type": "markdown",
   "id": "8048f45a",
   "metadata": {
    "papermill": {
     "duration": 0.046739,
     "end_time": "2022-07-08T11:52:40.770122",
     "exception": false,
     "start_time": "2022-07-08T11:52:40.723383",
     "status": "completed"
    },
    "tags": []
   },
   "source": [
    "We can also print out an example, making sure the source sentence is reversed:"
   ]
  },
  {
   "cell_type": "code",
   "execution_count": 11,
   "id": "947b3768",
   "metadata": {
    "execution": {
     "iopub.execute_input": "2022-07-08T11:52:40.867106Z",
     "iopub.status.busy": "2022-07-08T11:52:40.866034Z",
     "iopub.status.idle": "2022-07-08T11:52:40.872026Z",
     "shell.execute_reply": "2022-07-08T11:52:40.871000Z"
    },
    "papermill": {
     "duration": 0.057193,
     "end_time": "2022-07-08T11:52:40.874414",
     "exception": false,
     "start_time": "2022-07-08T11:52:40.817221",
     "status": "completed"
    },
    "tags": []
   },
   "outputs": [
    {
     "name": "stdout",
     "output_type": "stream",
     "text": [
      "{'src': ['.', 'büsche', 'vieler', 'nähe', 'der', 'in', 'freien', 'im', 'sind', 'männer', 'weiße', 'junge', 'zwei'], 'trg': ['two', 'young', ',', 'white', 'males', 'are', 'outside', 'near', 'many', 'bushes', '.']}\n"
     ]
    }
   ],
   "source": [
    "print(vars(train_data.examples[0]))"
   ]
  },
  {
   "cell_type": "markdown",
   "id": "8a808fd2",
   "metadata": {
    "papermill": {
     "duration": 0.047109,
     "end_time": "2022-07-08T11:52:40.967696",
     "exception": false,
     "start_time": "2022-07-08T11:52:40.920587",
     "status": "completed"
    },
    "tags": []
   },
   "source": [
    "The period is at the beginning of the German (src) sentence, so looks good!\n",
    "\n",
    "Next, we'll build the *vocabulary* for the source and target languages. The vocabulary is used to associate each unique token with an index (an integer) and this is used to build a one-hot encoding for each token (a vector of all zeros except for the position represented by the index, which is 1). The vocabularies of the source and target languages are distinct.\n",
    "\n",
    "Using the `min_freq` argument, we only allow tokens that appear at least 2 times to appear in our vocabulary. Tokens that appear only once are converted into an `<unk>` (unknown) token.\n",
    "\n",
    "It is important to note that your vocabulary should only be built from the training set and not the validation/test set. This prevents \"information leakage\" into your model, giving you artifically inflated validation/test scores."
   ]
  },
  {
   "cell_type": "code",
   "execution_count": 12,
   "id": "77d08a8e",
   "metadata": {
    "execution": {
     "iopub.execute_input": "2022-07-08T11:52:41.063541Z",
     "iopub.status.busy": "2022-07-08T11:52:41.063212Z",
     "iopub.status.idle": "2022-07-08T11:52:41.341876Z",
     "shell.execute_reply": "2022-07-08T11:52:41.340894Z"
    },
    "papermill": {
     "duration": 0.32917,
     "end_time": "2022-07-08T11:52:41.344532",
     "exception": false,
     "start_time": "2022-07-08T11:52:41.015362",
     "status": "completed"
    },
    "tags": []
   },
   "outputs": [],
   "source": [
    "SRC.build_vocab(train_data, min_freq = 2)\n",
    "TRG.build_vocab(train_data, min_freq = 2)"
   ]
  },
  {
   "cell_type": "code",
   "execution_count": 13,
   "id": "898494d3",
   "metadata": {
    "execution": {
     "iopub.execute_input": "2022-07-08T11:52:41.439757Z",
     "iopub.status.busy": "2022-07-08T11:52:41.439406Z",
     "iopub.status.idle": "2022-07-08T11:52:41.444696Z",
     "shell.execute_reply": "2022-07-08T11:52:41.443754Z"
    },
    "papermill": {
     "duration": 0.055458,
     "end_time": "2022-07-08T11:52:41.446895",
     "exception": false,
     "start_time": "2022-07-08T11:52:41.391437",
     "status": "completed"
    },
    "tags": []
   },
   "outputs": [
    {
     "name": "stdout",
     "output_type": "stream",
     "text": [
      "Unique tokens in source (de) vocabulary: 7854\n",
      "Unique tokens in target (en) vocabulary: 5893\n"
     ]
    }
   ],
   "source": [
    "print(f\"Unique tokens in source (de) vocabulary: {len(SRC.vocab)}\")\n",
    "print(f\"Unique tokens in target (en) vocabulary: {len(TRG.vocab)}\")"
   ]
  },
  {
   "cell_type": "markdown",
   "id": "454ed2b0",
   "metadata": {
    "papermill": {
     "duration": 0.046561,
     "end_time": "2022-07-08T11:52:41.539907",
     "exception": false,
     "start_time": "2022-07-08T11:52:41.493346",
     "status": "completed"
    },
    "tags": []
   },
   "source": [
    "The final step of preparing the data is to create the iterators. These can be iterated on to return a batch of data which will have a `src` attribute (the PyTorch tensors containing a batch of numericalized source sentences) and a `trg` attribute (the PyTorch tensors containing a batch of numericalized target sentences). Numericalized is just a fancy way of saying they have been converted from a sequence of readable tokens to a sequence of corresponding indexes, using the vocabulary. \n",
    "\n",
    "We also need to define a `torch.device`. This is used to tell TorchText to put the tensors on the GPU or not. We use the `torch.cuda.is_available()` function, which will return `True` if a GPU is detected on our computer. We pass this `device` to the iterator.\n",
    "\n",
    "When we get a batch of examples using an iterator we need to make sure that all of the source sentences are padded to the same length, the same with the target sentences. Luckily, TorchText iterators handle this for us! \n",
    "\n",
    "We use a `BucketIterator` instead of the standard `Iterator` as it creates batches in such a way that it minimizes the amount of padding in both the source and target sentences. "
   ]
  },
  {
   "cell_type": "code",
   "execution_count": 14,
   "id": "be3c4677",
   "metadata": {
    "execution": {
     "iopub.execute_input": "2022-07-08T11:52:41.635437Z",
     "iopub.status.busy": "2022-07-08T11:52:41.634474Z",
     "iopub.status.idle": "2022-07-08T11:52:41.700382Z",
     "shell.execute_reply": "2022-07-08T11:52:41.699432Z"
    },
    "papermill": {
     "duration": 0.116359,
     "end_time": "2022-07-08T11:52:41.702431",
     "exception": false,
     "start_time": "2022-07-08T11:52:41.586072",
     "status": "completed"
    },
    "tags": []
   },
   "outputs": [],
   "source": [
    "device = torch.device('cuda' if torch.cuda.is_available() else 'cpu')"
   ]
  },
  {
   "cell_type": "code",
   "execution_count": 15,
   "id": "ffac5f11",
   "metadata": {
    "execution": {
     "iopub.execute_input": "2022-07-08T11:52:41.800094Z",
     "iopub.status.busy": "2022-07-08T11:52:41.799720Z",
     "iopub.status.idle": "2022-07-08T11:52:41.804834Z",
     "shell.execute_reply": "2022-07-08T11:52:41.803913Z"
    },
    "papermill": {
     "duration": 0.056492,
     "end_time": "2022-07-08T11:52:41.806871",
     "exception": false,
     "start_time": "2022-07-08T11:52:41.750379",
     "status": "completed"
    },
    "tags": []
   },
   "outputs": [],
   "source": [
    "BATCH_SIZE = 128\n",
    "\n",
    "train_iterator, valid_iterator, test_iterator = BucketIterator.splits(\n",
    "    (train_data, valid_data, test_data), \n",
    "    batch_size = BATCH_SIZE, \n",
    "    device = device)"
   ]
  },
  {
   "cell_type": "markdown",
   "id": "3e89e9d1",
   "metadata": {
    "papermill": {
     "duration": 0.047708,
     "end_time": "2022-07-08T11:52:41.901253",
     "exception": false,
     "start_time": "2022-07-08T11:52:41.853545",
     "status": "completed"
    },
    "tags": []
   },
   "source": [
    "Let's look up what's stored in train and test iterators:"
   ]
  },
  {
   "cell_type": "code",
   "execution_count": 16,
   "id": "692fa407",
   "metadata": {
    "execution": {
     "iopub.execute_input": "2022-07-08T11:52:41.998506Z",
     "iopub.status.busy": "2022-07-08T11:52:41.996561Z",
     "iopub.status.idle": "2022-07-08T11:52:44.598389Z",
     "shell.execute_reply": "2022-07-08T11:52:44.597411Z"
    },
    "papermill": {
     "duration": 2.652235,
     "end_time": "2022-07-08T11:52:44.600773",
     "exception": false,
     "start_time": "2022-07-08T11:52:41.948538",
     "status": "completed"
    },
    "tags": []
   },
   "outputs": [
    {
     "name": "stdout",
     "output_type": "stream",
     "text": [
      "\n",
      "[torchtext.legacy.data.batch.Batch of size 128 from MULTI30K]\n",
      "\t[.src]:[torch.cuda.LongTensor of size 23x128 (GPU 0)]\n",
      "\t[.trg]:[torch.cuda.LongTensor of size 21x128 (GPU 0)]\n",
      "torch.Size([23, 128]) torch.Size([21, 128])\n"
     ]
    }
   ],
   "source": [
    "for x in train_iterator:\n",
    "    break\n",
    "print(x)\n",
    "print(x.src.shape, x.trg.shape)"
   ]
  },
  {
   "cell_type": "markdown",
   "id": "8cb30905",
   "metadata": {
    "papermill": {
     "duration": 0.047278,
     "end_time": "2022-07-08T11:52:44.695365",
     "exception": false,
     "start_time": "2022-07-08T11:52:44.648087",
     "status": "completed"
    },
    "tags": []
   },
   "source": [
    "One could mention, that the first dimention is now `seq_len`, not `batch` as used to be. It's because in PyTorch LSTM (and other recurrent units) await for input in format `(seq_len, batch, input_size)`. Be careful with that (especially in your homework assignment)."
   ]
  },
  {
   "cell_type": "markdown",
   "id": "a5c7871c",
   "metadata": {
    "papermill": {
     "duration": 0.047564,
     "end_time": "2022-07-08T11:52:44.801184",
     "exception": false,
     "start_time": "2022-07-08T11:52:44.753620",
     "status": "completed"
    },
    "tags": []
   },
   "source": [
    "## Building the Seq2Seq Model\n",
    "\n",
    "We'll be building our model in three parts. The encoder, the decoder and a seq2seq model that encapsulates the encoder and decoder and will provide a way to interface with each.\n",
    "\n",
    "### Encoder\n",
    "\n",
    "First, the encoder, a 2 layer LSTM. The paper we are implementing uses a 4-layer LSTM, but in the interest of training time we cut this down to 2-layers. The concept of multi-layer RNNs is easy to expand from 2 to 4 layers. \n",
    "\n",
    "For a multi-layer RNN, the input sentence, $X$, goes into the first (bottom) layer of the RNN and hidden states, $H=\\{h_1, h_2, ..., h_T\\}$, output by this layer are used as inputs to the RNN in the layer above. Thus, representing each layer with a superscript, the hidden states in the first layer are given by:\n",
    "\n",
    "$$h_t^1 = \\text{EncoderRNN}^1(x_t, h_{t-1}^1)$$\n",
    "\n",
    "The hidden states in the second layer are given by:\n",
    "\n",
    "$$h_t^2 = \\text{EncoderRNN}^2(h_t^1, h_{t-1}^2)$$\n",
    "\n",
    "Using a multi-layer RNN also means we'll also need an initial hidden state as input per layer, $h_0^l$, and we will also output a context vector per layer, $z^l$.\n",
    "\n",
    "Without going into too much detail about LSTMs (see [this](https://colah.github.io/posts/2015-08-Understanding-LSTMs/) blog post if you want to learn more about them), all we need to know is that they're a type of RNN which instead of just taking in a hidden state and returning a new hidden state per time-step, also take in and return a *cell state*, $c_t$, per time-step.\n",
    "\n",
    "$$\\begin{align*}\n",
    "h_t &= \\text{RNN}(x_t, h_{t-1})\\\\\n",
    "(h_t, c_t) &= \\text{LSTM}(x_t, (h_{t-1}, c_{t-1}))\n",
    "\\end{align*}$$\n",
    "\n",
    "\n",
    "You can just think of $c_t$ as another type of hidden state. Similar to $h_0^l$, $c_0^l$ will be initialized to a tensor of all zeros. Also, our context vector will now be both the final hidden state and the final cell state, i.e. $z^l = (h_T^l, c_T^l)$.\n",
    "\n",
    "Extending our multi-layer equations to LSTMs, we get:\n",
    "\n",
    "$$\\begin{align*}\n",
    "(h_t^1, c_t^1) &= \\text{EncoderLSTM}^1(x_t, (h_{t-1}^1, c_{t-1}^1))\\\\\n",
    "(h_t^2, c_t^2) &= \\text{EncoderLSTM}^2(h_t^1, (h_{t-1}^2, c_{t-1}^2))\n",
    "\\end{align*}$$\n",
    "\n",
    "Note how only our hidden state from the first layer is passed as input to the second layer, and not the cell state.\n",
    "\n",
    "So our encoder looks something like this: \n",
    "\n",
    "![](img/seq2seq2.png)\n",
    "\n",
    "We create this in code by making an `Encoder` module, which requires we inherit from `torch.nn.Module` and use the `super().__init__()` as some boilerplate code. The encoder takes the following arguments:\n",
    "- `input_dim` is the size/dimensionality of the one-hot vectors that will be input to the encoder. This is equal to the input (source) vocabulary size.\n",
    "- `emb_dim` is the dimensionality of the embedding layer. This layer converts the one-hot vectors into dense vectors with `emb_dim` dimensions. \n",
    "- `hid_dim` is the dimensionality of the hidden and cell states.\n",
    "- `n_layers` is the number of layers in the RNN.\n",
    "- `dropout` is the amount of dropout to use. This is a regularization parameter to prevent overfitting. Check out [this](https://www.coursera.org/lecture/deep-neural-network/understanding-dropout-YaGbR) for more details about dropout.\n",
    "\n",
    "To get more info about `nn.Embedding` one could refer to these articles: [1](https://monkeylearn.com/blog/word-embeddings-transform-text-numbers/), [2](http://p.migdal.pl/2017/01/06/king-man-woman-queen-why.html), [3](http://mccormickml.com/2016/04/19/word2vec-tutorial-the-skip-gram-model/), [4](http://mccormickml.com/2017/01/11/word2vec-tutorial-part-2-negative-sampling/). \n",
    "\n",
    "The embedding layer is created using `nn.Embedding`, the LSTM with `nn.LSTM` and a dropout layer with `nn.Dropout`. Check the PyTorch [documentation](https://pytorch.org/docs/stable/nn.html) for more about these.\n",
    "\n",
    "One thing to note is that the `dropout` argument to the LSTM is how much dropout to apply between the layers of a multi-layer RNN, i.e. between the hidden states output from layer $l$ and those same hidden states being used for the input of layer $l+1$.\n",
    "\n",
    "In the `forward` method, we pass in the source sentence, $X$, which is converted into dense vectors using the `embedding` layer, and then dropout is applied. These embeddings are then passed into the RNN. As we pass a whole sequence to the RNN, it will automatically do the recurrent calculation of the hidden states over the whole sequence for us! You may notice that we do not pass an initial hidden or cell state to the RNN. This is because, as noted in the [documentation](https://pytorch.org/docs/stable/nn.html#torch.nn.LSTM), that if no hidden/cell state is passed to the RNN, it will automatically create an initial hidden/cell state as a tensor of all zeros. \n",
    "\n",
    "The RNN returns: `outputs` (the top-layer hidden state for each time-step), `hidden` (the final hidden state for each layer, $h_T$, stacked on top of each other) and `cell` (the final cell state for each layer, $c_T$, stacked on top of each other).\n",
    "\n",
    "As we only need the final hidden and cell states (to make our context vector), `forward` only returns `hidden` and `cell`. \n",
    "\n",
    "The sizes of each of the tensors is left as comments in the code. In this implementation `n_directions` will always be 1, because for now we are working only with one-direction LSTM."
   ]
  },
  {
   "cell_type": "code",
   "execution_count": 17,
   "id": "14336067",
   "metadata": {
    "execution": {
     "iopub.execute_input": "2022-07-08T11:52:44.900017Z",
     "iopub.status.busy": "2022-07-08T11:52:44.899409Z",
     "iopub.status.idle": "2022-07-08T11:52:44.909702Z",
     "shell.execute_reply": "2022-07-08T11:52:44.908767Z"
    },
    "papermill": {
     "duration": 0.060935,
     "end_time": "2022-07-08T11:52:44.911753",
     "exception": false,
     "start_time": "2022-07-08T11:52:44.850818",
     "status": "completed"
    },
    "tags": []
   },
   "outputs": [],
   "source": [
    "class Encoder(nn.Module):\n",
    "    def __init__(self, input_dim, emb_dim, hid_dim, n_layers, dropout, bidirectional):\n",
    "        super().__init__()\n",
    "        \n",
    "        self.input_dim = input_dim\n",
    "        self.emb_dim = emb_dim\n",
    "        self.hid_dim = hid_dim\n",
    "        self.n_layers = n_layers\n",
    "        \n",
    "        self.embedding = nn.Embedding(input_dim, emb_dim)\n",
    "        \n",
    "        self.rnn = nn.LSTM(emb_dim, hid_dim, n_layers, dropout=dropout, bidirectional=bidirectional)\n",
    "        self.bidirectional = bidirectional\n",
    "        \n",
    "        self.dropout = nn.Dropout(p=dropout)\n",
    "        \n",
    "    def forward(self, src):\n",
    "        \n",
    "        #src = [src sent len, batch size]\n",
    "        \n",
    "        # Compute an embedding from the src data and apply dropout to it\n",
    "        embedded = self.dropout(self.embedding(src))\n",
    "                \n",
    "        #embedded = [src sent len, batch size, emb dim]\n",
    "        \n",
    "        # Compute the RNN output values of the encoder RNN. \n",
    "        # outputs, hidden and cell should be initialized here. Refer to nn.LSTM docs ;)\n",
    "        \n",
    "        output, (hidden, cell) = self.rnn(embedded)\n",
    "        \n",
    "        #outputs = [src sent len, batch size, hid dim * n directions]\n",
    "        #hidden = [n layers * n directions, batch size, hid dim]\n",
    "        #cell = [n layers * n directions, batch size, hid dim]\n",
    "        \n",
    "        #outputs are always from the top hidden layer\n",
    "        if self.bidirectional:\n",
    "            #print(hidden.shape)\n",
    "            hidden = hidden.reshape(self.n_layers, 2, -1, self.hid_dim)\n",
    "            hidden = hidden.transpose(1, 2).reshape(self.n_layers, -1, 2 * self.hid_dim)\n",
    "\n",
    "            cell = cell.reshape(self.n_layers, 2, -1, self.hid_dim)\n",
    "            cell = cell.transpose(1, 2).reshape(self.n_layers, -1, 2 * self.hid_dim)\n",
    "            #print(hidden.shape)\n",
    "        return hidden, cell"
   ]
  },
  {
   "cell_type": "markdown",
   "id": "c6f1d07c",
   "metadata": {
    "papermill": {
     "duration": 0.047122,
     "end_time": "2022-07-08T11:52:45.005727",
     "exception": false,
     "start_time": "2022-07-08T11:52:44.958605",
     "status": "completed"
    },
    "tags": []
   },
   "source": [
    "### Decoder\n",
    "\n",
    "Next, we'll build our decoder, which will also be a 2-layer (4 in the paper) LSTM.\n",
    "\n",
    "![](img/seq2seq3.png)\n",
    "\n",
    "The `Decoder` class does a single step of decoding. The first layer will receive a hidden and cell state from the previous time-step, $(s_{t-1}^1, c_{t-1}^1)$, and feed it through the LSTM with the current token, $y_t$, to produce a new hidden and cell state, $(s_t^1, c_t^1)$. The subsequent layers will use the hidden state from the layer below, $s_t^{l-1}$, and the previous hidden and cell states from their layer, $(s_{t-1}^l, c_{t-1}^l)$. This provides equations very similar to those in the encoder.\n",
    "\n",
    "$$\\begin{align*}\n",
    "(s_t^1, c_t^1) = \\text{DecoderLSTM}^1(y_t, (s_{t-1}^1, c_{t-1}^1))\\\\\n",
    "(s_t^2, c_t^2) = \\text{DecoderLSTM}^2(s_t^1, (s_{t-1}^2, c_{t-1}^2))\n",
    "\\end{align*}$$\n",
    "\n",
    "Remember that the initial hidden and cell states to our decoder are our context vectors, which are the final hidden and cell states of our encoder from the same layer, i.e. $(s_0^l,c_0^l)=z^l=(h_T^l,c_T^l)$.\n",
    "\n",
    "We then pass the hidden state from the top layer of the RNN, $s_t^L$, through a linear layer, $f$, to make a prediction of what the next token in the target (output) sequence should be, $\\hat{y}_{t+1}$. \n",
    "\n",
    "$$\\hat{y}_{t+1} = f(s_t^L)$$\n",
    "\n",
    "The arguments and initialization are similar to the `Encoder` class, except we now have an `output_dim` which is the size of the one-hot vectors that will be input to the decoder. These are equal to the vocabulary size of the output/target. There is also the addition of the `Linear` layer, used to make the predictions from the top layer hidden state.\n",
    "\n",
    "Within the `forward` method, we accept a batch of input tokens, previous hidden states and previous cell states. We `unsqueeze` the input tokens to add a sentence length dimension of 1. Then, similar to the encoder, we pass through an embedding layer and apply dropout. This batch of embedded tokens is then passed into the RNN with the previous hidden and cell states. This produces an `output` (hidden state from the top layer of the RNN), a new `hidden` state (one for each layer, stacked on top of each other) and a new `cell` state (also one per layer, stacked on top of each other). We then pass the `output` (after getting rid of the sentence length dimension) through the linear layer to receive our `prediction`. We then return the `prediction`, the new `hidden` state and the new `cell` state."
   ]
  },
  {
   "cell_type": "code",
   "execution_count": 18,
   "id": "79a5a61f",
   "metadata": {
    "execution": {
     "iopub.execute_input": "2022-07-08T11:52:45.106147Z",
     "iopub.status.busy": "2022-07-08T11:52:45.105426Z",
     "iopub.status.idle": "2022-07-08T11:52:45.115027Z",
     "shell.execute_reply": "2022-07-08T11:52:45.113975Z"
    },
    "papermill": {
     "duration": 0.064127,
     "end_time": "2022-07-08T11:52:45.117519",
     "exception": false,
     "start_time": "2022-07-08T11:52:45.053392",
     "status": "completed"
    },
    "tags": []
   },
   "outputs": [],
   "source": [
    "class Decoder(nn.Module):\n",
    "    def __init__(self, output_dim, emb_dim, hid_dim, n_layers, dropout):\n",
    "        super().__init__()\n",
    "\n",
    "        self.emb_dim = emb_dim\n",
    "        self.hid_dim = hid_dim\n",
    "        self.output_dim = output_dim\n",
    "        self.n_layers = n_layers\n",
    "        \n",
    "        self.embedding = nn.Embedding(output_dim, emb_dim)\n",
    "        \n",
    "        self.rnn = nn.LSTM(emb_dim, hid_dim, n_layers, dropout=dropout)\n",
    "        \n",
    "        self.out = nn.Linear(hid_dim, output_dim)\n",
    "        \n",
    "        self.dropout = nn.Dropout(p=dropout)\n",
    "        \n",
    "    def forward(self, input, hidden, cell):\n",
    "        \n",
    "        #input = [batch size]\n",
    "        #hidden = [n layers * n directions, batch size, hid dim]\n",
    "        #cell = [n layers * n directions, batch size, hid dim]\n",
    "        \n",
    "        #n directions in the decoder will both always be 1, therefore:\n",
    "        #hidden = [n layers, batch size, hid dim]\n",
    "        #context = [n layers, batch size, hid dim]\n",
    "        input = input.unsqueeze(0)\n",
    "        #input = [1, batch size]\n",
    "        \n",
    "        # Compute an embedding from the input data and apply dropout to it\n",
    "        embedded = self.dropout(self.embedding(input))\n",
    "        \n",
    "        #embedded = [1, batch size, emb dim]\n",
    "        \n",
    "        # Compute the RNN output values of the encoder RNN. \n",
    "        # outputs, hidden and cell should be initialized here. Refer to nn.LSTM docs ;)\n",
    "\n",
    "        output, (hidden, cell) = self.rnn(embedded, (hidden, cell))\n",
    "        #output = [sent len, batch size, hid dim * n directions]\n",
    "        #hidden = [n layers * n directions, batch size, hid dim]\n",
    "        #cell = [n layers * n directions, batch size, hid dim]\n",
    "        \n",
    "        #sent len and n directions will always be 1 in the decoder, therefore:\n",
    "        #output = [1, batch size, hid dim]\n",
    "        #hidden = [n layers, batch size, hid dim]\n",
    "        #cell = [n layers, batch size, hid dim]\n",
    "        \n",
    "        \n",
    "        prediction = self.out(output.squeeze(0))\n",
    "        \n",
    "        #prediction = [batch size, output dim]\n",
    "        \n",
    "        return prediction, hidden, cell"
   ]
  },
  {
   "cell_type": "markdown",
   "id": "72a098d7",
   "metadata": {
    "papermill": {
     "duration": 0.047168,
     "end_time": "2022-07-08T11:52:45.211951",
     "exception": false,
     "start_time": "2022-07-08T11:52:45.164783",
     "status": "completed"
    },
    "tags": []
   },
   "source": [
    "### Seq2Seq\n",
    "\n",
    "For the final part of the implemenetation, we'll implement the seq2seq model. This will handle: \n",
    "- receiving the input/source sentence\n",
    "- using the encoder to produce the context vectors \n",
    "- using the decoder to produce the predicted output/target sentence\n",
    "\n",
    "Our full model will look like this:\n",
    "\n",
    "![](img/seq2seq4.png)\n",
    "\n",
    "The `Seq2Seq` model takes in an `Encoder`, `Decoder`, and a `device` (used to place tensors on the GPU, if it exists).\n",
    "\n",
    "For this implementation, we have to ensure that the number of layers and the hidden (and cell) dimensions are equal in the `Encoder` and `Decoder`. This is not always the case, you do not necessarily need the same number of layers or the same hidden dimension sizes in a sequence-to-sequence model. However, if you do something like having a different number of layers you will need to make decisions about how this is handled. For example, if your encoder has 2 layers and your decoder only has 1, how is this handled? Do you average the two context vectors output by the decoder? Do you pass both through a linear layer? Do you only use the context vector from the highest layer? Etc.\n",
    "\n",
    "Our `forward` method takes the source sentence, target sentence and a teacher-forcing ratio. The teacher forcing ratio is used when training our model. When decoding, at each time-step we will predict what the next token in the target sequence will be from the previous tokens decoded, $\\hat{y}_{t+1}=f(s_t^L)$. With probability equal to the teaching forcing ratio (`teacher_forcing_ratio`) we will use the actual ground-truth next token in the sequence as the input to the decoder during the next time-step. However, with probability `1 - teacher_forcing_ratio`, we will use the token that the model predicted as the next input to the model, even if it doesn't match the actual next token in the sequence.  \n",
    "\n",
    "The first thing we do in the `forward` method is to create an `outputs` tensor that will store all of our predictions, $\\hat{Y}$.\n",
    "\n",
    "We then feed the input/source sentence, $X$/`src`, into the encoder and receive out final hidden and cell states.\n",
    "\n",
    "The first input to the decoder is the start of sequence (`<sos>`) token. As our `trg` tensor already has the `<sos>` token appended (all the way back when we defined the `init_token` in our `TRG` field) we get our $y_1$ by slicing into it. We know how long our target sentences should be (`max_len`), so we loop that many times. During each iteration of the loop, we:\n",
    "- pass the input, previous hidden and previous cell states ($y_t, s_{t-1}, c_{t-1}$) into the decoder\n",
    "- receive a prediction, next hidden state and next cell state ($\\hat{y}_{t+1}, s_{t}, c_{t}$) from the decoder\n",
    "- place our prediction, $\\hat{y}_{t+1}$/`output` in our tensor of predictions, $\\hat{Y}$/`outputs`\n",
    "- decide if we are going to \"teacher force\" or not\n",
    "    - if we do, the next `input` is the ground-truth next token in the sequence, $y_{t+1}$/`trg[t]`\n",
    "    - if we don't, the next `input` is the predicted next token in the sequence, $\\hat{y}_{t+1}$/`top1`\n",
    "    \n",
    "Once we've made all of our predictions, we return our tensor full of predictions, $\\hat{Y}$/`outputs`."
   ]
  },
  {
   "cell_type": "code",
   "execution_count": 19,
   "id": "616cd662",
   "metadata": {
    "execution": {
     "iopub.execute_input": "2022-07-08T11:52:45.307957Z",
     "iopub.status.busy": "2022-07-08T11:52:45.307003Z",
     "iopub.status.idle": "2022-07-08T11:52:45.320500Z",
     "shell.execute_reply": "2022-07-08T11:52:45.319591Z"
    },
    "papermill": {
     "duration": 0.064305,
     "end_time": "2022-07-08T11:52:45.322518",
     "exception": false,
     "start_time": "2022-07-08T11:52:45.258213",
     "status": "completed"
    },
    "tags": []
   },
   "outputs": [],
   "source": [
    "class Seq2Seq(nn.Module):\n",
    "    def __init__(self, encoder, decoder, device):\n",
    "        super().__init__()\n",
    "        \n",
    "        self.encoder = encoder\n",
    "        self.decoder = decoder\n",
    "        self.device = device\n",
    "        \n",
    "        if encoder.bidirectional:\n",
    "            assert encoder.hid_dim * 2 == decoder.hid_dim, \\\n",
    "                \"Hidden dimensions of encoder and decoder must be equal!\"\n",
    "        else:\n",
    "            assert encoder.hid_dim == decoder.hid_dim, \\\n",
    "                    \"Hidden dimensions of encoder and decoder must be equal!\"\n",
    "        assert encoder.n_layers == decoder.n_layers, \\\n",
    "            \"Encoder and decoder must have equal number of layers!\"\n",
    "        \n",
    "    def forward(self, src, trg, teacher_forcing_ratio = 0.5):\n",
    "        \n",
    "        #src = [src sent len, batch size]\n",
    "        #trg = [trg sent len, batch size]\n",
    "        #teacher_forcing_ratio is probability to use teacher forcing\n",
    "        #e.g. if teacher_forcing_ratio is 0.75 we use ground-truth inputs 75% of the time\n",
    "        \n",
    "        # Again, now batch is the first dimention instead of zero\n",
    "        batch_size = trg.shape[1]\n",
    "        max_len = trg.shape[0]\n",
    "        trg_vocab_size = self.decoder.output_dim\n",
    "        \n",
    "        #tensor to store decoder outputs\n",
    "        outputs = torch.zeros(max_len, batch_size, trg_vocab_size).to(self.device)\n",
    "        \n",
    "        #last hidden state of the encoder is used as the initial hidden state of the decoder\n",
    "        hidden, cell = self.encoder(src)\n",
    "        \n",
    "        #first input to the decoder is the <sos> tokens\n",
    "        input = trg[0,:]\n",
    "        \n",
    "        for t in range(1, max_len):\n",
    "            \n",
    "            output, hidden, cell = self.decoder(input, hidden, cell)\n",
    "            outputs[t] = output\n",
    "            teacher_force = random.random() < teacher_forcing_ratio\n",
    "            top1 = output.max(1)[1]\n",
    "            input = (trg[t] if teacher_force else top1)\n",
    "        \n",
    "        return outputs"
   ]
  },
  {
   "cell_type": "markdown",
   "id": "e3de4253",
   "metadata": {
    "papermill": {
     "duration": 0.046181,
     "end_time": "2022-07-08T11:52:45.415388",
     "exception": false,
     "start_time": "2022-07-08T11:52:45.369207",
     "status": "completed"
    },
    "tags": []
   },
   "source": [
    "# Training the Seq2Seq Model\n",
    "\n",
    "Now we have our model implemented, we can begin training it. \n",
    "\n",
    "First, we'll initialize our model. As mentioned before, the input and output dimensions are defined by the size of the vocabulary. The embedding dimesions and dropout for the encoder and decoder can be different, but the number of layers and the size of the hidden/cell states must be the same. \n",
    "\n",
    "We then define the encoder, decoder and then our Seq2Seq model, which we place on the `device`."
   ]
  },
  {
   "cell_type": "code",
   "execution_count": 20,
   "id": "bfcd35aa",
   "metadata": {
    "execution": {
     "iopub.execute_input": "2022-07-08T11:52:45.521418Z",
     "iopub.status.busy": "2022-07-08T11:52:45.520961Z",
     "iopub.status.idle": "2022-07-08T11:52:45.735131Z",
     "shell.execute_reply": "2022-07-08T11:52:45.734120Z"
    },
    "papermill": {
     "duration": 0.269547,
     "end_time": "2022-07-08T11:52:45.737666",
     "exception": false,
     "start_time": "2022-07-08T11:52:45.468119",
     "status": "completed"
    },
    "tags": []
   },
   "outputs": [],
   "source": [
    "INPUT_DIM = len(SRC.vocab)\n",
    "OUTPUT_DIM = len(TRG.vocab)\n",
    "ENC_EMB_DIM = 512\n",
    "DEC_EMB_DIM = 512\n",
    "HID_DIM = 512\n",
    "N_LAYERS = 3\n",
    "ENC_DROPOUT = 0.5\n",
    "DEC_DROPOUT = 0.5\n",
    "BIDIRECTIONAL = True\n",
    "\n",
    "enc = Encoder(INPUT_DIM, ENC_EMB_DIM, HID_DIM // 2, N_LAYERS, ENC_DROPOUT, BIDIRECTIONAL)\n",
    "dec = Decoder(OUTPUT_DIM, DEC_EMB_DIM, HID_DIM, N_LAYERS, DEC_DROPOUT)\n",
    "\n",
    "# dont forget to put the model to the right device\n",
    "model = Seq2Seq(enc, dec, device).to(device)"
   ]
  },
  {
   "cell_type": "markdown",
   "id": "909a8f7d",
   "metadata": {
    "papermill": {
     "duration": 0.048231,
     "end_time": "2022-07-08T11:52:45.834034",
     "exception": false,
     "start_time": "2022-07-08T11:52:45.785803",
     "status": "completed"
    },
    "tags": []
   },
   "source": [
    "Next up is initializing the weights of our model. In the paper they state they initialize all weights from a uniform distribution between -0.08 and +0.08, i.e. $\\mathcal{U}(-0.08, 0.08)$.\n",
    "\n",
    "We initialize weights in PyTorch by creating a function which we `apply` to our model. When using `apply`, the `init_weights` function will be called on every module and sub-module within our model. For each module we loop through all of the parameters and sample them from a uniform distribution with `nn.init.uniform_`."
   ]
  },
  {
   "cell_type": "code",
   "execution_count": 21,
   "id": "78d20441",
   "metadata": {
    "execution": {
     "iopub.execute_input": "2022-07-08T11:52:45.928789Z",
     "iopub.status.busy": "2022-07-08T11:52:45.928165Z",
     "iopub.status.idle": "2022-07-08T11:52:45.938146Z",
     "shell.execute_reply": "2022-07-08T11:52:45.937181Z"
    },
    "papermill": {
     "duration": 0.059521,
     "end_time": "2022-07-08T11:52:45.940223",
     "exception": false,
     "start_time": "2022-07-08T11:52:45.880702",
     "status": "completed"
    },
    "tags": []
   },
   "outputs": [
    {
     "data": {
      "text/plain": [
       "Seq2Seq(\n",
       "  (encoder): Encoder(\n",
       "    (embedding): Embedding(7854, 512)\n",
       "    (rnn): LSTM(512, 256, num_layers=3, dropout=0.5, bidirectional=True)\n",
       "    (dropout): Dropout(p=0.5, inplace=False)\n",
       "  )\n",
       "  (decoder): Decoder(\n",
       "    (embedding): Embedding(5893, 512)\n",
       "    (rnn): LSTM(512, 512, num_layers=3, dropout=0.5)\n",
       "    (out): Linear(in_features=512, out_features=5893, bias=True)\n",
       "    (dropout): Dropout(p=0.5, inplace=False)\n",
       "  )\n",
       ")"
      ]
     },
     "execution_count": 21,
     "metadata": {},
     "output_type": "execute_result"
    }
   ],
   "source": [
    "def init_weights(m):\n",
    "    for p in m.parameters():\n",
    "        nn.init.uniform_(p, -0.08, 0.08)\n",
    "        \n",
    "model.apply(init_weights)"
   ]
  },
  {
   "cell_type": "markdown",
   "id": "6c23b527",
   "metadata": {
    "papermill": {
     "duration": 0.046254,
     "end_time": "2022-07-08T11:52:46.034149",
     "exception": false,
     "start_time": "2022-07-08T11:52:45.987895",
     "status": "completed"
    },
    "tags": []
   },
   "source": [
    "We also define a function that will calculate the number of trainable parameters in the model."
   ]
  },
  {
   "cell_type": "code",
   "execution_count": 22,
   "id": "6e7a81e1",
   "metadata": {
    "execution": {
     "iopub.execute_input": "2022-07-08T11:52:46.130276Z",
     "iopub.status.busy": "2022-07-08T11:52:46.129229Z",
     "iopub.status.idle": "2022-07-08T11:52:46.135775Z",
     "shell.execute_reply": "2022-07-08T11:52:46.134762Z"
    },
    "papermill": {
     "duration": 0.056729,
     "end_time": "2022-07-08T11:52:46.137690",
     "exception": false,
     "start_time": "2022-07-08T11:52:46.080961",
     "status": "completed"
    },
    "tags": []
   },
   "outputs": [
    {
     "name": "stdout",
     "output_type": "stream",
     "text": [
      "The model has 21,096,197 trainable parameters\n"
     ]
    }
   ],
   "source": [
    "def count_parameters(model):\n",
    "    return sum(p.numel() for p in model.parameters() if p.requires_grad)\n",
    "\n",
    "print(f'The model has {count_parameters(model):,} trainable parameters')"
   ]
  },
  {
   "cell_type": "markdown",
   "id": "1baf501c",
   "metadata": {
    "papermill": {
     "duration": 0.04622,
     "end_time": "2022-07-08T11:52:46.230540",
     "exception": false,
     "start_time": "2022-07-08T11:52:46.184320",
     "status": "completed"
    },
    "tags": []
   },
   "source": [
    "We define our optimizer, which we use to update our parameters in the training loop. Check out [this](http://ruder.io/optimizing-gradient-descent/) post for information about different optimizers. Here, we'll use Adam."
   ]
  },
  {
   "cell_type": "code",
   "execution_count": 23,
   "id": "72cf3079",
   "metadata": {
    "execution": {
     "iopub.execute_input": "2022-07-08T11:52:46.325654Z",
     "iopub.status.busy": "2022-07-08T11:52:46.325328Z",
     "iopub.status.idle": "2022-07-08T11:52:46.329952Z",
     "shell.execute_reply": "2022-07-08T11:52:46.329005Z"
    },
    "papermill": {
     "duration": 0.053611,
     "end_time": "2022-07-08T11:52:46.331823",
     "exception": false,
     "start_time": "2022-07-08T11:52:46.278212",
     "status": "completed"
    },
    "tags": []
   },
   "outputs": [],
   "source": [
    "optimizer = optim.Adam(model.parameters())"
   ]
  },
  {
   "cell_type": "markdown",
   "id": "47d53ce3",
   "metadata": {
    "papermill": {
     "duration": 0.046519,
     "end_time": "2022-07-08T11:52:46.425461",
     "exception": false,
     "start_time": "2022-07-08T11:52:46.378942",
     "status": "completed"
    },
    "tags": []
   },
   "source": [
    "Next, we define our loss function. The `CrossEntropyLoss` function calculates both the log softmax as well as the negative log-likelihood of our predictions. \n",
    "\n",
    "Our loss function calculates the average loss per token, however by passing the index of the `<pad>` token as the `ignore_index` argument we ignore the loss whenever the target token is a padding token. "
   ]
  },
  {
   "cell_type": "code",
   "execution_count": 24,
   "id": "e5d1b044",
   "metadata": {
    "execution": {
     "iopub.execute_input": "2022-07-08T11:52:46.521634Z",
     "iopub.status.busy": "2022-07-08T11:52:46.521281Z",
     "iopub.status.idle": "2022-07-08T11:52:46.526135Z",
     "shell.execute_reply": "2022-07-08T11:52:46.525128Z"
    },
    "papermill": {
     "duration": 0.05581,
     "end_time": "2022-07-08T11:52:46.528186",
     "exception": false,
     "start_time": "2022-07-08T11:52:46.472376",
     "status": "completed"
    },
    "tags": []
   },
   "outputs": [],
   "source": [
    "PAD_IDX = TRG.vocab.stoi['<pad>']\n",
    "\n",
    "criterion = nn.CrossEntropyLoss(ignore_index = PAD_IDX)"
   ]
  },
  {
   "cell_type": "markdown",
   "id": "9adfdc64",
   "metadata": {
    "papermill": {
     "duration": 0.047407,
     "end_time": "2022-07-08T11:52:46.622439",
     "exception": false,
     "start_time": "2022-07-08T11:52:46.575032",
     "status": "completed"
    },
    "tags": []
   },
   "source": [
    "Next, we'll define our training loop. \n",
    "\n",
    "First, we'll set the model into \"training mode\" with `model.train()`. This will turn on dropout (and batch normalization, which we aren't using) and then iterate through our data iterator.\n",
    "\n",
    "At each iteration:\n",
    "- get the source and target sentences from the batch, $X$ and $Y$\n",
    "- zero the gradients calculated from the last batch\n",
    "- feed the source and target into the model to get the output, $\\hat{Y}$\n",
    "- as the loss function only works on 2d inputs with 1d targets we need to flatten each of them with `.view`\n",
    "    - we also don't want to measure the loss of the `<sos>` token, hence we slice off the first column of the output and target tensors\n",
    "- calculate the gradients with `loss.backward()`\n",
    "- clip the gradients to prevent them from exploding (a common issue in RNNs)\n",
    "- update the parameters of our model by doing an optimizer step\n",
    "- sum the loss value to a running total\n",
    "\n",
    "Finally, we return the loss that is averaged over all batches."
   ]
  },
  {
   "cell_type": "code",
   "execution_count": 25,
   "id": "5b910702",
   "metadata": {
    "execution": {
     "iopub.execute_input": "2022-07-08T11:52:46.717116Z",
     "iopub.status.busy": "2022-07-08T11:52:46.716773Z",
     "iopub.status.idle": "2022-07-08T11:52:46.721183Z",
     "shell.execute_reply": "2022-07-08T11:52:46.720236Z"
    },
    "papermill": {
     "duration": 0.054136,
     "end_time": "2022-07-08T11:52:46.723145",
     "exception": false,
     "start_time": "2022-07-08T11:52:46.669009",
     "status": "completed"
    },
    "tags": []
   },
   "outputs": [],
   "source": [
    "PLOT_STEP = 0"
   ]
  },
  {
   "cell_type": "code",
   "execution_count": 26,
   "id": "d886b6f0",
   "metadata": {
    "execution": {
     "iopub.execute_input": "2022-07-08T11:52:46.818338Z",
     "iopub.status.busy": "2022-07-08T11:52:46.817984Z",
     "iopub.status.idle": "2022-07-08T11:52:46.831107Z",
     "shell.execute_reply": "2022-07-08T11:52:46.830171Z"
    },
    "papermill": {
     "duration": 0.063396,
     "end_time": "2022-07-08T11:52:46.833117",
     "exception": false,
     "start_time": "2022-07-08T11:52:46.769721",
     "status": "completed"
    },
    "tags": []
   },
   "outputs": [],
   "source": [
    "def train(model, iterator, optimizer, criterion, clip, train_history=None, valid_history=None, plot_local=False, writer=None):\n",
    "    global PLOT_STEP\n",
    "    model.train()\n",
    "    \n",
    "    epoch_loss = 0\n",
    "    history = []\n",
    "    for i, batch in enumerate(iterator):\n",
    "        \n",
    "        src = batch.src\n",
    "        trg = batch.trg\n",
    "        \n",
    "        optimizer.zero_grad()\n",
    "        \n",
    "        output = model(src, trg)\n",
    "        \n",
    "        #trg = [trg sent len, batch size]\n",
    "        #output = [trg sent len, batch size, output dim]\n",
    "        \n",
    "        output = output[1:].view(-1, output.shape[-1])\n",
    "        trg = trg[1:].view(-1)\n",
    "        \n",
    "        #trg = [(trg sent len - 1) * batch size]\n",
    "        #output = [(trg sent len - 1) * batch size, output dim]\n",
    "        \n",
    "        loss = criterion(output, trg)\n",
    "        \n",
    "        loss.backward()\n",
    "        \n",
    "        # Let's clip the gradient\n",
    "        torch.nn.utils.clip_grad_norm_(model.parameters(), clip)\n",
    "        \n",
    "        optimizer.step()\n",
    "        \n",
    "        epoch_loss += loss.item()\n",
    "        \n",
    "        history.append(loss.cpu().data.numpy())\n",
    "        if (i+1)%10==0:\n",
    "            PLOT_STEP += i\n",
    "            if writer is not None:\n",
    "                writer.add_scalar('train loss', history[-1], PLOT_STEP)\n",
    "            \n",
    "            if plot_local:\n",
    "                fig, ax = plt.subplots(nrows=1, ncols=2, figsize=(12, 8))\n",
    "\n",
    "                clear_output(True)\n",
    "                ax[0].plot(history, label='train loss')\n",
    "                ax[0].set_xlabel('Batch')\n",
    "                ax[0].set_title('Train loss')\n",
    "                if train_history is not None:\n",
    "                    ax[1].plot(train_history, label='general train history')\n",
    "                    ax[1].set_xlabel('Epoch')\n",
    "                if valid_history is not None:\n",
    "                    ax[1].plot(valid_history, label='general valid history')\n",
    "                plt.legend()\n",
    "\n",
    "                plt.show()\n",
    "\n",
    "        \n",
    "    return epoch_loss / len(iterator)"
   ]
  },
  {
   "cell_type": "markdown",
   "id": "3224b863",
   "metadata": {
    "papermill": {
     "duration": 0.046494,
     "end_time": "2022-07-08T11:52:46.926930",
     "exception": false,
     "start_time": "2022-07-08T11:52:46.880436",
     "status": "completed"
    },
    "tags": []
   },
   "source": [
    "Our evaluation loop is similar to our training loop, however as we aren't updating any parameters we don't need to pass an optimizer or a clip value.\n",
    "\n",
    "We must remember to set the model to evaluation mode with `model.eval()`. This will turn off dropout (and batch normalization, if used).\n",
    "\n",
    "We use the `with torch.no_grad()` block to ensure no gradients are calculated within the block. This reduces memory consumption and speeds things up. \n",
    "\n",
    "The iteration loop is similar (without the parameter updates), however we must ensure we turn teacher forcing off for evaluation. This will cause the model to only use it's own predictions to make further predictions within a sentence, which mirrors how it would be used in deployment."
   ]
  },
  {
   "cell_type": "code",
   "execution_count": 27,
   "id": "2cd6891e",
   "metadata": {
    "execution": {
     "iopub.execute_input": "2022-07-08T11:52:47.022018Z",
     "iopub.status.busy": "2022-07-08T11:52:47.020784Z",
     "iopub.status.idle": "2022-07-08T11:52:47.028794Z",
     "shell.execute_reply": "2022-07-08T11:52:47.027961Z"
    },
    "papermill": {
     "duration": 0.057592,
     "end_time": "2022-07-08T11:52:47.030715",
     "exception": false,
     "start_time": "2022-07-08T11:52:46.973123",
     "status": "completed"
    },
    "tags": []
   },
   "outputs": [],
   "source": [
    "def evaluate(model, iterator, criterion):\n",
    "    \n",
    "    model.eval()\n",
    "    \n",
    "    epoch_loss = 0\n",
    "    \n",
    "    history = []\n",
    "    \n",
    "    with torch.no_grad():\n",
    "    \n",
    "        for i, batch in enumerate(iterator):\n",
    "\n",
    "            src = batch.src\n",
    "            trg = batch.trg\n",
    "\n",
    "            output = model(src, trg, 0) #turn off teacher forcing\n",
    "\n",
    "            #trg = [trg sent len, batch size]\n",
    "            #output = [trg sent len, batch size, output dim]\n",
    "\n",
    "            output = output[1:].view(-1, output.shape[-1])\n",
    "            trg = trg[1:].view(-1)\n",
    "\n",
    "            #trg = [(trg sent len - 1) * batch size]\n",
    "            #output = [(trg sent len - 1) * batch size, output dim]\n",
    "\n",
    "            loss = criterion(output, trg)\n",
    "            \n",
    "            epoch_loss += loss.item()\n",
    "        \n",
    "    return epoch_loss / len(iterator)"
   ]
  },
  {
   "cell_type": "markdown",
   "id": "0c4f3adb",
   "metadata": {
    "papermill": {
     "duration": 0.047201,
     "end_time": "2022-07-08T11:52:47.125272",
     "exception": false,
     "start_time": "2022-07-08T11:52:47.078071",
     "status": "completed"
    },
    "tags": []
   },
   "source": [
    "Next, we'll create a function that we'll use to tell us how long an epoch takes."
   ]
  },
  {
   "cell_type": "code",
   "execution_count": 28,
   "id": "470416b1",
   "metadata": {
    "execution": {
     "iopub.execute_input": "2022-07-08T11:52:47.220882Z",
     "iopub.status.busy": "2022-07-08T11:52:47.220522Z",
     "iopub.status.idle": "2022-07-08T11:52:47.225721Z",
     "shell.execute_reply": "2022-07-08T11:52:47.224784Z"
    },
    "papermill": {
     "duration": 0.055959,
     "end_time": "2022-07-08T11:52:47.227672",
     "exception": false,
     "start_time": "2022-07-08T11:52:47.171713",
     "status": "completed"
    },
    "tags": []
   },
   "outputs": [],
   "source": [
    "def epoch_time(start_time, end_time):\n",
    "    elapsed_time = end_time - start_time\n",
    "    elapsed_mins = int(elapsed_time / 60)\n",
    "    elapsed_secs = int(elapsed_time - (elapsed_mins * 60))\n",
    "    return elapsed_mins, elapsed_secs"
   ]
  },
  {
   "cell_type": "code",
   "execution_count": 29,
   "id": "cded2507",
   "metadata": {
    "execution": {
     "iopub.execute_input": "2022-07-08T11:52:47.323848Z",
     "iopub.status.busy": "2022-07-08T11:52:47.323532Z",
     "iopub.status.idle": "2022-07-08T11:52:47.332923Z",
     "shell.execute_reply": "2022-07-08T11:52:47.332027Z"
    },
    "papermill": {
     "duration": 0.059483,
     "end_time": "2022-07-08T11:52:47.334821",
     "exception": false,
     "start_time": "2022-07-08T11:52:47.275338",
     "status": "completed"
    },
    "tags": []
   },
   "outputs": [],
   "source": [
    "import matplotlib\n",
    "matplotlib.rcParams.update({'figure.figsize': (16, 12), 'font.size': 14})\n",
    "import matplotlib.pyplot as plt\n",
    "%matplotlib inline\n",
    "from IPython.display import clear_output\n"
   ]
  },
  {
   "cell_type": "code",
   "execution_count": 30,
   "id": "37dbeacc",
   "metadata": {
    "execution": {
     "iopub.execute_input": "2022-07-08T11:52:47.431722Z",
     "iopub.status.busy": "2022-07-08T11:52:47.430952Z",
     "iopub.status.idle": "2022-07-08T11:52:47.491998Z",
     "shell.execute_reply": "2022-07-08T11:52:47.490994Z"
    },
    "papermill": {
     "duration": 0.111954,
     "end_time": "2022-07-08T11:52:47.494363",
     "exception": false,
     "start_time": "2022-07-08T11:52:47.382409",
     "status": "completed"
    },
    "tags": []
   },
   "outputs": [],
   "source": [
    "example_input = next(iter(train_iterator))"
   ]
  },
  {
   "cell_type": "code",
   "execution_count": 31,
   "id": "a917b417",
   "metadata": {
    "execution": {
     "iopub.execute_input": "2022-07-08T11:52:47.603174Z",
     "iopub.status.busy": "2022-07-08T11:52:47.602523Z",
     "iopub.status.idle": "2022-07-08T11:52:47.608512Z",
     "shell.execute_reply": "2022-07-08T11:52:47.607627Z"
    },
    "papermill": {
     "duration": 0.061654,
     "end_time": "2022-07-08T11:52:47.610397",
     "exception": false,
     "start_time": "2022-07-08T11:52:47.548743",
     "status": "completed"
    },
    "tags": []
   },
   "outputs": [
    {
     "data": {
      "text/plain": [
       "torch.Size([33, 128])"
      ]
     },
     "execution_count": 31,
     "metadata": {},
     "output_type": "execute_result"
    }
   ],
   "source": [
    "example_input.src.shape"
   ]
  },
  {
   "cell_type": "code",
   "execution_count": 32,
   "id": "2fa106de",
   "metadata": {
    "execution": {
     "iopub.execute_input": "2022-07-08T11:52:47.707116Z",
     "iopub.status.busy": "2022-07-08T11:52:47.706431Z",
     "iopub.status.idle": "2022-07-08T11:53:06.992033Z",
     "shell.execute_reply": "2022-07-08T11:53:06.990921Z"
    },
    "papermill": {
     "duration": 19.33615,
     "end_time": "2022-07-08T11:53:06.994369",
     "exception": false,
     "start_time": "2022-07-08T11:52:47.658219",
     "status": "completed"
    },
    "scrolled": true,
    "tags": []
   },
   "outputs": [
    {
     "name": "stdout",
     "output_type": "stream",
     "text": [
      "Collecting setuptools==59.5.0\r\n",
      "  Downloading setuptools-59.5.0-py3-none-any.whl (952 kB)\r\n",
      "\u001b[2K     \u001b[90m━━━━━━━━━━━━━━━━━━━━━━━━━━━━━━━━━━━━━━━\u001b[0m \u001b[32m952.4/952.4 kB\u001b[0m \u001b[31m3.5 MB/s\u001b[0m eta \u001b[36m0:00:00\u001b[0m\r\n",
      "\u001b[?25hInstalling collected packages: setuptools\r\n",
      "  Attempting uninstall: setuptools\r\n",
      "    Found existing installation: setuptools 59.8.0\r\n",
      "    Uninstalling setuptools-59.8.0:\r\n",
      "      Successfully uninstalled setuptools-59.8.0\r\n",
      "\u001b[31mERROR: pip's dependency resolver does not currently take into account all the packages that are installed. This behaviour is the source of the following dependency conflicts.\r\n",
      "dask-cudf 21.10.1 requires cupy-cuda114, which is not installed.\r\n",
      "beatrix-jupyterlab 3.1.7 requires google-cloud-bigquery-storage, which is not installed.\r\n",
      "dask-cudf 21.10.1 requires dask==2021.09.1, but you have dask 2022.2.0 which is incompatible.\r\n",
      "dask-cudf 21.10.1 requires distributed==2021.09.1, but you have distributed 2022.2.0 which is incompatible.\u001b[0m\u001b[31m\r\n",
      "\u001b[0mSuccessfully installed setuptools-59.5.0\r\n",
      "\u001b[33mWARNING: Running pip as the 'root' user can result in broken permissions and conflicting behaviour with the system package manager. It is recommended to use a virtual environment instead: https://pip.pypa.io/warnings/venv\u001b[0m\u001b[33m\r\n",
      "\u001b[0mNote: you may need to restart the kernel to use updated packages.\n"
     ]
    }
   ],
   "source": [
    "pip install setuptools==59.5.0"
   ]
  },
  {
   "cell_type": "code",
   "execution_count": 33,
   "id": "990ecef0",
   "metadata": {
    "execution": {
     "iopub.execute_input": "2022-07-08T11:53:07.092746Z",
     "iopub.status.busy": "2022-07-08T11:53:07.092373Z",
     "iopub.status.idle": "2022-07-08T11:53:10.890438Z",
     "shell.execute_reply": "2022-07-08T11:53:10.889429Z"
    },
    "papermill": {
     "duration": 3.849649,
     "end_time": "2022-07-08T11:53:10.892929",
     "exception": false,
     "start_time": "2022-07-08T11:53:07.043280",
     "status": "completed"
    },
    "tags": []
   },
   "outputs": [],
   "source": [
    "from torch.utils.tensorboard import SummaryWriter\n",
    "\n",
    "# default `log_dir` is \"runs\" - we can be more specific here\n",
    "writer = SummaryWriter()"
   ]
  },
  {
   "cell_type": "code",
   "execution_count": 34,
   "id": "6837da7a",
   "metadata": {
    "execution": {
     "iopub.execute_input": "2022-07-08T11:53:10.993275Z",
     "iopub.status.busy": "2022-07-08T11:53:10.992921Z",
     "iopub.status.idle": "2022-07-08T11:53:11.118232Z",
     "shell.execute_reply": "2022-07-08T11:53:11.117235Z"
    },
    "papermill": {
     "duration": 0.17796,
     "end_time": "2022-07-08T11:53:11.120874",
     "exception": false,
     "start_time": "2022-07-08T11:53:10.942914",
     "status": "completed"
    },
    "tags": []
   },
   "outputs": [],
   "source": [
    "writer.add_graph(model, (example_input.src[:1], example_input.trg[:1]))\n",
    "writer.close()"
   ]
  },
  {
   "cell_type": "code",
   "execution_count": 35,
   "id": "92978bbb",
   "metadata": {
    "execution": {
     "iopub.execute_input": "2022-07-08T11:53:11.222477Z",
     "iopub.status.busy": "2022-07-08T11:53:11.221426Z",
     "iopub.status.idle": "2022-07-08T11:53:11.226356Z",
     "shell.execute_reply": "2022-07-08T11:53:11.225481Z"
    },
    "papermill": {
     "duration": 0.057936,
     "end_time": "2022-07-08T11:53:11.228261",
     "exception": false,
     "start_time": "2022-07-08T11:53:11.170325",
     "status": "completed"
    },
    "tags": []
   },
   "outputs": [],
   "source": [
    "import numpy as np"
   ]
  },
  {
   "cell_type": "code",
   "execution_count": 36,
   "id": "c6ff4717",
   "metadata": {
    "execution": {
     "iopub.execute_input": "2022-07-08T11:53:11.327160Z",
     "iopub.status.busy": "2022-07-08T11:53:11.326786Z",
     "iopub.status.idle": "2022-07-08T11:53:11.338302Z",
     "shell.execute_reply": "2022-07-08T11:53:11.337404Z"
    },
    "papermill": {
     "duration": 0.064033,
     "end_time": "2022-07-08T11:53:11.340392",
     "exception": false,
     "start_time": "2022-07-08T11:53:11.276359",
     "status": "completed"
    },
    "tags": []
   },
   "outputs": [],
   "source": [
    "def translate_sentence(sentence, src_field, trg_field, model, device, max_len = 50):\n",
    "\n",
    "    model.eval()\n",
    "        \n",
    "    if isinstance(sentence, str):\n",
    "        nlp = spacy.load('de')\n",
    "        tokens = [token.text.lower() for token in nlp(sentence)]\n",
    "    else:\n",
    "        tokens = [token.lower() for token in sentence]\n",
    "\n",
    "    tokens = [src_field.init_token] + tokens + [src_field.eos_token]\n",
    "        \n",
    "    src_indexes = [src_field.vocab.stoi[token] for token in tokens]\n",
    "    \n",
    "    src_tensor = torch.LongTensor(src_indexes).unsqueeze(1).to(device)\n",
    "\n",
    "    src_len = torch.LongTensor([len(src_indexes)]).to(device)\n",
    "    \n",
    "    with torch.no_grad():\n",
    "        hidden, cell = model.encoder(src_tensor)\n",
    "        \n",
    "    trg_indexes = [trg_field.vocab.stoi[trg_field.init_token]]\n",
    "\n",
    "    for t in range(1, max_len):\n",
    "        trg_tensor = torch.LongTensor([trg_indexes[-1]]).to(device)\n",
    "\n",
    "        #insert input token embedding, previous hidden state and all encoder hidden states\n",
    "        #receive output tensor (predictions) and new hidden state\n",
    "        output, hidden, cell = model.decoder(trg_tensor, hidden, cell)\n",
    "\n",
    "        pred_token = output.argmax(1).item()\n",
    "        \n",
    "        trg_indexes.append(pred_token)\n",
    "\n",
    "        if pred_token == trg_field.vocab.stoi[trg_field.eos_token]:\n",
    "            break\n",
    "    \n",
    "    trg_tokens = [trg_field.vocab.itos[i] for i in trg_indexes]\n",
    "    \n",
    "    return trg_tokens[1:]"
   ]
  },
  {
   "cell_type": "code",
   "execution_count": 37,
   "id": "927f95f9",
   "metadata": {
    "execution": {
     "iopub.execute_input": "2022-07-08T11:53:11.439534Z",
     "iopub.status.busy": "2022-07-08T11:53:11.439195Z",
     "iopub.status.idle": "2022-07-08T11:53:11.446132Z",
     "shell.execute_reply": "2022-07-08T11:53:11.445124Z"
    },
    "papermill": {
     "duration": 0.0595,
     "end_time": "2022-07-08T11:53:11.448228",
     "exception": false,
     "start_time": "2022-07-08T11:53:11.388728",
     "status": "completed"
    },
    "tags": []
   },
   "outputs": [],
   "source": [
    "def get_example_translation():\n",
    "    example_idx = np.random.choice(np.arange(len(test_data)))\n",
    "\n",
    "    src = vars(train_data.examples[example_idx])['src']\n",
    "    trg = vars(train_data.examples[example_idx])['trg']\n",
    "    \n",
    "    src_string = f'src = {\" \".join(src)}'\n",
    "    trg_string = f'trg = {\" \".join(trg)}'\n",
    "\n",
    "    translation = translate_sentence(src, SRC, TRG, model, device)\n",
    "    \n",
    "    translation_string = f'predicted trg = {\" \".join(translation)}'\n",
    "\n",
    "#     print(src_string)\n",
    "#     print()\n",
    "#     print(trg_string)\n",
    "#     print()\n",
    "#     print(translation_string)\n",
    "    \n",
    "    return ('\\n\\n'.join([src_string, trg_string, translation_string]))"
   ]
  },
  {
   "cell_type": "markdown",
   "id": "57ac142b",
   "metadata": {
    "papermill": {
     "duration": 0.051585,
     "end_time": "2022-07-08T11:53:11.548328",
     "exception": false,
     "start_time": "2022-07-08T11:53:11.496743",
     "status": "completed"
    },
    "tags": []
   },
   "source": [
    "Let's call the `tensorboard` here (if you are working on Colab). If you work locally better run it as another process in your terminal using the command\n",
    "```\n",
    "tensorboard --logdir .runs/ --reload_interval=5\n",
    "```"
   ]
  },
  {
   "cell_type": "code",
   "execution_count": 38,
   "id": "9ce27f01",
   "metadata": {
    "execution": {
     "iopub.execute_input": "2022-07-08T11:53:11.647487Z",
     "iopub.status.busy": "2022-07-08T11:53:11.647141Z",
     "iopub.status.idle": "2022-07-08T11:53:11.651192Z",
     "shell.execute_reply": "2022-07-08T11:53:11.650264Z"
    },
    "papermill": {
     "duration": 0.055921,
     "end_time": "2022-07-08T11:53:11.653089",
     "exception": false,
     "start_time": "2022-07-08T11:53:11.597168",
     "status": "completed"
    },
    "tags": []
   },
   "outputs": [],
   "source": [
    "# # On Colab just uncomment and run this cell\n",
    "\n",
    "# %load_ext tensorboard\n",
    "# %tensorboard --logdir runs"
   ]
  },
  {
   "cell_type": "markdown",
   "id": "f621c3b4",
   "metadata": {
    "papermill": {
     "duration": 0.048854,
     "end_time": "2022-07-08T11:53:11.751756",
     "exception": false,
     "start_time": "2022-07-08T11:53:11.702902",
     "status": "completed"
    },
    "tags": []
   },
   "source": [
    "We can finally start training our model!\n",
    "\n",
    "At each epoch, we'll be checking if our model has achieved the best validation loss so far. If it has, we'll update our best validation loss and save the parameters of our model (called `state_dict` in PyTorch). Then, when we come to test our model, we'll use the saved parameters used to achieve the best validation loss. \n",
    "\n",
    "We'll be printing out both the loss and the perplexity at each epoch. It is easier to see a change in perplexity than a change in loss as the numbers are much bigger."
   ]
  },
  {
   "cell_type": "code",
   "execution_count": 39,
   "id": "dae5c76b",
   "metadata": {
    "execution": {
     "iopub.execute_input": "2022-07-08T11:53:11.852818Z",
     "iopub.status.busy": "2022-07-08T11:53:11.851942Z",
     "iopub.status.idle": "2022-07-08T11:53:11.857175Z",
     "shell.execute_reply": "2022-07-08T11:53:11.856069Z"
    },
    "papermill": {
     "duration": 0.058062,
     "end_time": "2022-07-08T11:53:11.859095",
     "exception": false,
     "start_time": "2022-07-08T11:53:11.801033",
     "status": "completed"
    },
    "tags": []
   },
   "outputs": [],
   "source": [
    "train_history = []\n",
    "valid_history = []\n",
    "\n",
    "N_EPOCHS = 30\n",
    "CLIP = 1\n",
    "\n",
    "best_valid_loss = float('inf')"
   ]
  },
  {
   "cell_type": "code",
   "execution_count": 40,
   "id": "ac13f99f",
   "metadata": {
    "execution": {
     "iopub.execute_input": "2022-07-08T11:53:11.958683Z",
     "iopub.status.busy": "2022-07-08T11:53:11.957690Z",
     "iopub.status.idle": "2022-07-08T12:17:04.341307Z",
     "shell.execute_reply": "2022-07-08T12:17:04.340271Z"
    },
    "papermill": {
     "duration": 1432.486116,
     "end_time": "2022-07-08T12:17:04.393594",
     "exception": false,
     "start_time": "2022-07-08T11:53:11.907478",
     "status": "completed"
    },
    "tags": []
   },
   "outputs": [
    {
     "name": "stdout",
     "output_type": "stream",
     "text": [
      "Epoch: 01 | Time: 0m 47s\n",
      "\tTrain Loss: 5.037 | Train PPL: 154.048\n",
      "\t Val. Loss: 4.848 |  Val. PPL: 127.521\n",
      "Epoch: 02 | Time: 0m 47s\n",
      "\tTrain Loss: 4.412 | Train PPL:  82.406\n",
      "\t Val. Loss: 4.518 |  Val. PPL:  91.635\n",
      "Epoch: 03 | Time: 0m 47s\n",
      "\tTrain Loss: 4.079 | Train PPL:  59.085\n",
      "\t Val. Loss: 4.369 |  Val. PPL:  78.931\n",
      "Epoch: 04 | Time: 0m 47s\n",
      "\tTrain Loss: 3.838 | Train PPL:  46.419\n",
      "\t Val. Loss: 4.244 |  Val. PPL:  69.690\n",
      "Epoch: 05 | Time: 0m 47s\n",
      "\tTrain Loss: 3.612 | Train PPL:  37.050\n",
      "\t Val. Loss: 3.915 |  Val. PPL:  50.137\n",
      "Epoch: 06 | Time: 0m 47s\n",
      "\tTrain Loss: 3.418 | Train PPL:  30.505\n",
      "\t Val. Loss: 3.865 |  Val. PPL:  47.720\n",
      "Epoch: 07 | Time: 0m 47s\n",
      "\tTrain Loss: 3.254 | Train PPL:  25.901\n",
      "\t Val. Loss: 3.754 |  Val. PPL:  42.679\n",
      "Epoch: 08 | Time: 0m 47s\n",
      "\tTrain Loss: 3.067 | Train PPL:  21.484\n",
      "\t Val. Loss: 3.735 |  Val. PPL:  41.877\n",
      "Epoch: 09 | Time: 0m 47s\n",
      "\tTrain Loss: 2.953 | Train PPL:  19.172\n",
      "\t Val. Loss: 3.620 |  Val. PPL:  37.324\n",
      "Epoch: 10 | Time: 0m 47s\n",
      "\tTrain Loss: 2.837 | Train PPL:  17.068\n",
      "\t Val. Loss: 3.595 |  Val. PPL:  36.420\n",
      "Epoch: 11 | Time: 0m 47s\n",
      "\tTrain Loss: 2.733 | Train PPL:  15.379\n",
      "\t Val. Loss: 3.535 |  Val. PPL:  34.295\n",
      "Epoch: 12 | Time: 0m 48s\n",
      "\tTrain Loss: 2.622 | Train PPL:  13.766\n",
      "\t Val. Loss: 3.574 |  Val. PPL:  35.667\n",
      "Epoch: 13 | Time: 0m 47s\n",
      "\tTrain Loss: 2.535 | Train PPL:  12.617\n",
      "\t Val. Loss: 3.519 |  Val. PPL:  33.746\n",
      "Epoch: 14 | Time: 0m 47s\n",
      "\tTrain Loss: 2.443 | Train PPL:  11.507\n",
      "\t Val. Loss: 3.485 |  Val. PPL:  32.631\n",
      "Epoch: 15 | Time: 0m 47s\n",
      "\tTrain Loss: 2.368 | Train PPL:  10.672\n",
      "\t Val. Loss: 3.477 |  Val. PPL:  32.352\n",
      "Epoch: 16 | Time: 0m 47s\n",
      "\tTrain Loss: 2.292 | Train PPL:   9.894\n",
      "\t Val. Loss: 3.532 |  Val. PPL:  34.187\n",
      "Epoch: 17 | Time: 0m 47s\n",
      "\tTrain Loss: 2.210 | Train PPL:   9.118\n",
      "\t Val. Loss: 3.505 |  Val. PPL:  33.269\n",
      "Epoch: 18 | Time: 0m 47s\n",
      "\tTrain Loss: 2.138 | Train PPL:   8.482\n",
      "\t Val. Loss: 3.521 |  Val. PPL:  33.815\n",
      "Epoch: 19 | Time: 0m 47s\n",
      "\tTrain Loss: 2.075 | Train PPL:   7.964\n",
      "\t Val. Loss: 3.539 |  Val. PPL:  34.419\n",
      "Epoch: 20 | Time: 0m 47s\n",
      "\tTrain Loss: 2.009 | Train PPL:   7.457\n",
      "\t Val. Loss: 3.639 |  Val. PPL:  38.061\n",
      "Epoch: 21 | Time: 0m 47s\n",
      "\tTrain Loss: 1.935 | Train PPL:   6.926\n",
      "\t Val. Loss: 3.571 |  Val. PPL:  35.539\n",
      "Epoch: 22 | Time: 0m 47s\n",
      "\tTrain Loss: 1.891 | Train PPL:   6.629\n",
      "\t Val. Loss: 3.598 |  Val. PPL:  36.538\n",
      "Epoch: 23 | Time: 0m 47s\n",
      "\tTrain Loss: 1.829 | Train PPL:   6.227\n",
      "\t Val. Loss: 3.602 |  Val. PPL:  36.665\n",
      "Epoch: 24 | Time: 0m 47s\n",
      "\tTrain Loss: 1.776 | Train PPL:   5.905\n",
      "\t Val. Loss: 3.635 |  Val. PPL:  37.912\n",
      "Epoch: 25 | Time: 0m 48s\n",
      "\tTrain Loss: 1.734 | Train PPL:   5.663\n",
      "\t Val. Loss: 3.586 |  Val. PPL:  36.086\n",
      "Epoch: 26 | Time: 0m 47s\n",
      "\tTrain Loss: 1.688 | Train PPL:   5.410\n",
      "\t Val. Loss: 3.637 |  Val. PPL:  37.967\n",
      "Epoch: 27 | Time: 0m 47s\n",
      "\tTrain Loss: 1.647 | Train PPL:   5.191\n",
      "\t Val. Loss: 3.617 |  Val. PPL:  37.239\n",
      "Epoch: 28 | Time: 0m 47s\n",
      "\tTrain Loss: 1.599 | Train PPL:   4.948\n",
      "\t Val. Loss: 3.754 |  Val. PPL:  42.684\n",
      "Epoch: 29 | Time: 0m 47s\n",
      "\tTrain Loss: 1.553 | Train PPL:   4.723\n",
      "\t Val. Loss: 3.768 |  Val. PPL:  43.301\n",
      "Epoch: 30 | Time: 0m 47s\n",
      "\tTrain Loss: 1.496 | Train PPL:   4.462\n",
      "\t Val. Loss: 3.787 |  Val. PPL:  44.139\n"
     ]
    }
   ],
   "source": [
    "for epoch in range(N_EPOCHS):\n",
    "    \n",
    "    start_time = time.time()\n",
    "    \n",
    "    train_loss = train(model, train_iterator, optimizer, criterion, CLIP, train_history, valid_history, writer=writer)\n",
    "    valid_loss = evaluate(model, valid_iterator, criterion)\n",
    "    \n",
    "    end_time = time.time()\n",
    "    \n",
    "    epoch_mins, epoch_secs = epoch_time(start_time, end_time)\n",
    "    \n",
    "    if valid_loss < best_valid_loss:\n",
    "        best_valid_loss = valid_loss\n",
    "        torch.save(model.state_dict(), 'tut1-model.pt')\n",
    "    \n",
    "    train_history.append(train_loss)\n",
    "    valid_history.append(valid_loss)\n",
    "    writer.add_scalar('mean train loss per epoch', train_loss, global_step=epoch)\n",
    "    writer.add_scalar('mean val loss per epoch', valid_loss, global_step=epoch)\n",
    "\n",
    "    val_example_data = next(iter(valid_iterator))\n",
    "    to_print = []\n",
    "    \n",
    "    \n",
    "    writer.add_text('translation example', get_example_translation(), global_step=epoch)\n",
    "    writer.close()\n",
    "\n",
    "    print(f'Epoch: {epoch+1:02} | Time: {epoch_mins}m {epoch_secs}s')\n",
    "    print(f'\\tTrain Loss: {train_loss:.3f} | Train PPL: {math.exp(train_loss):7.3f}')\n",
    "    print(f'\\t Val. Loss: {valid_loss:.3f} |  Val. PPL: {math.exp(valid_loss):7.3f}')"
   ]
  },
  {
   "cell_type": "code",
   "execution_count": 41,
   "id": "b5eae77d",
   "metadata": {
    "execution": {
     "iopub.execute_input": "2022-07-08T12:17:04.494818Z",
     "iopub.status.busy": "2022-07-08T12:17:04.494114Z",
     "iopub.status.idle": "2022-07-08T12:17:04.507823Z",
     "shell.execute_reply": "2022-07-08T12:17:04.506540Z"
    },
    "papermill": {
     "duration": 0.066521,
     "end_time": "2022-07-08T12:17:04.509854",
     "exception": false,
     "start_time": "2022-07-08T12:17:04.443333",
     "status": "completed"
    },
    "tags": []
   },
   "outputs": [
    {
     "name": "stdout",
     "output_type": "stream",
     "text": [
      "src = . erreichen zu spätzug den um , sich beeilen pendler\n",
      "\n",
      "trg = commuters rush to get on the late train .\n",
      "\n",
      "predicted trg = <unk> rush to get late late train . <eos>\n"
     ]
    }
   ],
   "source": [
    "print(get_example_translation())"
   ]
  },
  {
   "cell_type": "code",
   "execution_count": 42,
   "id": "ead1e15d",
   "metadata": {
    "execution": {
     "iopub.execute_input": "2022-07-08T12:17:04.612219Z",
     "iopub.status.busy": "2022-07-08T12:17:04.611276Z",
     "iopub.status.idle": "2022-07-08T12:17:04.626148Z",
     "shell.execute_reply": "2022-07-08T12:17:04.625103Z"
    },
    "papermill": {
     "duration": 0.069119,
     "end_time": "2022-07-08T12:17:04.628331",
     "exception": false,
     "start_time": "2022-07-08T12:17:04.559212",
     "status": "completed"
    },
    "tags": []
   },
   "outputs": [
    {
     "name": "stdout",
     "output_type": "stream",
     "text": [
      "src = . schild ein hält und straße einer auf steht mann ein\n",
      "\n",
      "trg = a man is standing on a street holding a sign .\n",
      "\n",
      "predicted trg = a man is standing on a street holding a sign . <eos>\n"
     ]
    }
   ],
   "source": [
    "print(get_example_translation())"
   ]
  },
  {
   "cell_type": "code",
   "execution_count": 43,
   "id": "8de15a9a",
   "metadata": {
    "execution": {
     "iopub.execute_input": "2022-07-08T12:17:04.731055Z",
     "iopub.status.busy": "2022-07-08T12:17:04.730650Z",
     "iopub.status.idle": "2022-07-08T12:17:04.750051Z",
     "shell.execute_reply": "2022-07-08T12:17:04.749150Z"
    },
    "papermill": {
     "duration": 0.072791,
     "end_time": "2022-07-08T12:17:04.752240",
     "exception": false,
     "start_time": "2022-07-08T12:17:04.679449",
     "status": "completed"
    },
    "tags": []
   },
   "outputs": [
    {
     "name": "stdout",
     "output_type": "stream",
     "text": [
      "src = . wirken sich auf anblick den lassen und schlucht die über blicken , beieinander stehen personen zwei\n",
      "\n",
      "trg = two people take in the scene as they stand together looking out over the canyon .\n",
      "\n",
      "predicted trg = two people stand in the the ocean as they are to to release the canyon . <eos>\n"
     ]
    }
   ],
   "source": [
    "print(get_example_translation())"
   ]
  },
  {
   "cell_type": "markdown",
   "id": "996d9adc",
   "metadata": {
    "papermill": {
     "duration": 0.049427,
     "end_time": "2022-07-08T12:17:04.852782",
     "exception": false,
     "start_time": "2022-07-08T12:17:04.803355",
     "status": "completed"
    },
    "tags": []
   },
   "source": [
    "We'll load the parameters (`state_dict`) that gave our model the best validation loss and run it the model on the test set."
   ]
  },
  {
   "cell_type": "code",
   "execution_count": 44,
   "id": "2637c25c",
   "metadata": {
    "execution": {
     "iopub.execute_input": "2022-07-08T12:17:04.955118Z",
     "iopub.status.busy": "2022-07-08T12:17:04.954777Z",
     "iopub.status.idle": "2022-07-08T12:17:05.507532Z",
     "shell.execute_reply": "2022-07-08T12:17:05.506586Z"
    },
    "papermill": {
     "duration": 0.607007,
     "end_time": "2022-07-08T12:17:05.509627",
     "exception": false,
     "start_time": "2022-07-08T12:17:04.902620",
     "status": "completed"
    },
    "tags": []
   },
   "outputs": [
    {
     "name": "stdout",
     "output_type": "stream",
     "text": [
      "| Test Loss: 3.468 | Test PPL:  32.057 |\n"
     ]
    }
   ],
   "source": [
    "model.load_state_dict(torch.load('tut1-model.pt'))\n",
    "\n",
    "test_loss = evaluate(model, test_iterator, criterion)\n",
    "\n",
    "print(f'| Test Loss: {test_loss:.3f} | Test PPL: {math.exp(test_loss):7.3f} |')"
   ]
  },
  {
   "cell_type": "code",
   "execution_count": null,
   "id": "f559bab1",
   "metadata": {
    "papermill": {
     "duration": 0.049882,
     "end_time": "2022-07-08T12:17:05.621985",
     "exception": false,
     "start_time": "2022-07-08T12:17:05.572103",
     "status": "completed"
    },
    "tags": []
   },
   "outputs": [],
   "source": []
  }
 ],
 "metadata": {
  "kernelspec": {
   "display_name": "Python 3",
   "language": "python",
   "name": "python3"
  },
  "language_info": {
   "codemirror_mode": {
    "name": "ipython",
    "version": 3
   },
   "file_extension": ".py",
   "mimetype": "text/x-python",
   "name": "python",
   "nbconvert_exporter": "python",
   "pygments_lexer": "ipython3",
   "version": "3.7.12"
  },
  "papermill": {
   "default_parameters": {},
   "duration": 1611.18928,
   "end_time": "2022-07-08T12:17:08.934102",
   "environment_variables": {},
   "exception": null,
   "input_path": "__notebook__.ipynb",
   "output_path": "__notebook__.ipynb",
   "parameters": {},
   "start_time": "2022-07-08T11:50:17.744822",
   "version": "2.3.4"
  }
 },
 "nbformat": 4,
 "nbformat_minor": 5
}
