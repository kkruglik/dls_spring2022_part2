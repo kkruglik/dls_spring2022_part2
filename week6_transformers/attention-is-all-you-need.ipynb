{
 "cells": [
  {
   "cell_type": "markdown",
   "id": "ccf15365",
   "metadata": {
    "id": "2KFUUP19KOGs",
    "papermill": {
     "duration": 0.016826,
     "end_time": "2022-07-18T06:54:22.868474",
     "exception": false,
     "start_time": "2022-07-18T06:54:22.851648",
     "status": "completed"
    },
    "tags": []
   },
   "source": [
    "# Attention is All You Need\n",
    "\n",
    "In this notebook we will be implementing a (slightly modified version) of the Transformer model from the [Attention is All You Need](https://arxiv.org/abs/1706.03762) paper. All images in this notebook will be taken from the Transformer paper. For more information about the Transformer, [see](https://www.mihaileric.com/posts/transformers-attention-in-disguise/) [these](https://jalammar.github.io/illustrated-transformer/) [three](http://nlp.seas.harvard.edu/2018/04/03/attention.html) articles.\n",
    "\n",
    "[Original notebook from this github](https://github.com/bentrevett/pytorch-seq2seq)\n",
    "\n",
    "## Introduction\n",
    "\n",
    "The Transformer does not use any recurrence. It also does not use any convolutional layers. Instead the model is entirely made up of linear layers, attention mechanisms and normalization. \n",
    "\n",
    "As of January 2020, Transformers are the dominant architecture in NLP and are used to achieve state-of-the-art results for many tasks and it appears as if they will be for the near future. \n",
    "\n",
    "The most popular Transformer variant is [BERT](https://arxiv.org/abs/1810.04805) (**B**idirectional **E**ncoder **R**epresentations from **T**ransformers) and pre-trained versions of BERT are commonly used to replace the embedding layers - if not more - in NLP models. \n",
    "\n",
    "A common library used when dealing with pre-trained transformers is the [Transformers](https://huggingface.co/transformers/) library, see [here](https://huggingface.co/transformers/pretrained_models.html) for a list of all pre-trained models available.\n",
    "\n",
    "The differences between the implementation in this notebook and the paper are:\n",
    "- we use a learned positional encoding instead of a static one\n",
    "- we use the standard Adam optimizer with a static learning rate instead of one with warm-up and cool-down steps\n",
    "- we do not use label smoothing\n",
    "\n",
    "We make all of these changes as they closely follow BERT's set-up and the majority of Transformer variants use a similar set-up."
   ]
  },
  {
   "cell_type": "markdown",
   "id": "49398882",
   "metadata": {
    "id": "HmhchtyzKOG_",
    "papermill": {
     "duration": 0.015147,
     "end_time": "2022-07-18T06:54:22.899291",
     "exception": false,
     "start_time": "2022-07-18T06:54:22.884144",
     "status": "completed"
    },
    "tags": []
   },
   "source": [
    "## Preparing the Data\n",
    "\n",
    "As always, let's import all the required modules and set the random seeds for reproducability."
   ]
  },
  {
   "cell_type": "code",
   "execution_count": 1,
   "id": "b80e28c8",
   "metadata": {
    "execution": {
     "iopub.execute_input": "2022-07-18T06:54:22.933335Z",
     "iopub.status.busy": "2022-07-18T06:54:22.932829Z",
     "iopub.status.idle": "2022-07-18T06:54:25.042125Z",
     "shell.execute_reply": "2022-07-18T06:54:25.040945Z"
    },
    "executionInfo": {
     "elapsed": 3135,
     "status": "ok",
     "timestamp": 1617731152515,
     "user": {
      "displayName": "Антон Геннадьевич Астахов",
      "photoUrl": "",
      "userId": "01331619065984010235"
     },
     "user_tz": -180
    },
    "id": "w2nY9EG2rJTV",
    "outputId": "aab4aab0-ceda-40f6-d79e-c9f4287a867e",
    "papermill": {
     "duration": 2.129144,
     "end_time": "2022-07-18T06:54:25.044909",
     "exception": false,
     "start_time": "2022-07-18T06:54:22.915765",
     "status": "completed"
    },
    "scrolled": true,
    "tags": []
   },
   "outputs": [
    {
     "name": "stdout",
     "output_type": "stream",
     "text": [
      "--2022-07-18 06:54:23--  https://drive.google.com/uc?id=1NWYqJgeG_4883LINdEjKUr6nLQPY6Yb_\r\n",
      "Resolving drive.google.com (drive.google.com)... 173.194.218.139, 173.194.218.113, 173.194.218.100, ...\r\n",
      "Connecting to drive.google.com (drive.google.com)|173.194.218.139|:443... connected.\r\n",
      "HTTP request sent, awaiting response... 303 See Other\r\n",
      "Location: https://doc-14-00-docs.googleusercontent.com/docs/securesc/ha0ro937gcuc7l7deffksulhg5h7mbp1/tsvqthd3dfc27filblinocqgdhh9g0c7/1658127225000/16549096980415837553/*/1NWYqJgeG_4883LINdEjKUr6nLQPY6Yb_?uuid=91dcb3e0-12e3-42a2-97f0-78dc633754fe [following]\r\n",
      "Warning: wildcards not supported in HTTP.\r\n",
      "--2022-07-18 06:54:24--  https://doc-14-00-docs.googleusercontent.com/docs/securesc/ha0ro937gcuc7l7deffksulhg5h7mbp1/tsvqthd3dfc27filblinocqgdhh9g0c7/1658127225000/16549096980415837553/*/1NWYqJgeG_4883LINdEjKUr6nLQPY6Yb_?uuid=91dcb3e0-12e3-42a2-97f0-78dc633754fe\r\n",
      "Resolving doc-14-00-docs.googleusercontent.com (doc-14-00-docs.googleusercontent.com)... 108.177.11.132, 2607:f8b0:400c:c01::84\r\n",
      "Connecting to doc-14-00-docs.googleusercontent.com (doc-14-00-docs.googleusercontent.com)|108.177.11.132|:443... connected.\r\n",
      "HTTP request sent, awaiting response... 200 OK\r\n",
      "Length: 12905334 (12M) [text/plain]\r\n",
      "Saving to: ‘data.txt’\r\n",
      "\r\n",
      "data.txt            100%[===================>]  12.31M  --.-KB/s    in 0.06s   \r\n",
      "\r\n",
      "2022-07-18 06:54:24 (219 MB/s) - ‘data.txt’ saved [12905334/12905334]\r\n",
      "\r\n"
     ]
    }
   ],
   "source": [
    "! wget https://drive.google.com/uc?id=1NWYqJgeG_4883LINdEjKUr6nLQPY6Yb_ -O data.txt\n",
    "\n",
    "# Thanks to YSDA NLP course team for the data\n",
    "# (who thanks tilda and deephack teams for the data in their turn)"
   ]
  },
  {
   "cell_type": "code",
   "execution_count": 2,
   "id": "bcd50455",
   "metadata": {
    "execution": {
     "iopub.execute_input": "2022-07-18T06:54:25.078090Z",
     "iopub.status.busy": "2022-07-18T06:54:25.077761Z",
     "iopub.status.idle": "2022-07-18T06:55:46.439332Z",
     "shell.execute_reply": "2022-07-18T06:55:46.438155Z"
    },
    "papermill": {
     "duration": 81.380866,
     "end_time": "2022-07-18T06:55:46.441813",
     "exception": false,
     "start_time": "2022-07-18T06:54:25.060947",
     "status": "completed"
    },
    "scrolled": true,
    "tags": []
   },
   "outputs": [
    {
     "name": "stdout",
     "output_type": "stream",
     "text": [
      "Collecting torchtext==0.10.0\r\n",
      "  Downloading torchtext-0.10.0-cp37-cp37m-manylinux1_x86_64.whl (7.6 MB)\r\n",
      "\u001b[2K     \u001b[90m━━━━━━━━━━━━━━━━━━━━━━━━━━━━━━━━━━━━━━━━\u001b[0m \u001b[32m7.6/7.6 MB\u001b[0m \u001b[31m15.7 MB/s\u001b[0m eta \u001b[36m0:00:00\u001b[0m\r\n",
      "\u001b[?25hRequirement already satisfied: numpy in /opt/conda/lib/python3.7/site-packages (from torchtext==0.10.0) (1.21.6)\r\n",
      "Requirement already satisfied: requests in /opt/conda/lib/python3.7/site-packages (from torchtext==0.10.0) (2.27.1)\r\n",
      "Collecting torch==1.9.0\r\n",
      "  Downloading torch-1.9.0-cp37-cp37m-manylinux1_x86_64.whl (831.4 MB)\r\n",
      "\u001b[2K     \u001b[90m━━━━━━━━━━━━━━━━━━━━━━━━━━━━━━━━━━━━━━━\u001b[0m \u001b[32m831.4/831.4 MB\u001b[0m \u001b[31m1.0 MB/s\u001b[0m eta \u001b[36m0:00:00\u001b[0m\r\n",
      "\u001b[?25hRequirement already satisfied: tqdm in /opt/conda/lib/python3.7/site-packages (from torchtext==0.10.0) (4.64.0)\r\n",
      "Requirement already satisfied: typing-extensions in /opt/conda/lib/python3.7/site-packages (from torch==1.9.0->torchtext==0.10.0) (4.1.1)\r\n",
      "Requirement already satisfied: certifi>=2017.4.17 in /opt/conda/lib/python3.7/site-packages (from requests->torchtext==0.10.0) (2022.6.15)\r\n",
      "Requirement already satisfied: idna<4,>=2.5 in /opt/conda/lib/python3.7/site-packages (from requests->torchtext==0.10.0) (3.3)\r\n",
      "Requirement already satisfied: urllib3<1.27,>=1.21.1 in /opt/conda/lib/python3.7/site-packages (from requests->torchtext==0.10.0) (1.26.9)\r\n",
      "Requirement already satisfied: charset-normalizer~=2.0.0 in /opt/conda/lib/python3.7/site-packages (from requests->torchtext==0.10.0) (2.0.12)\r\n",
      "Installing collected packages: torch, torchtext\r\n",
      "  Attempting uninstall: torch\r\n",
      "    Found existing installation: torch 1.11.0\r\n",
      "    Uninstalling torch-1.11.0:\r\n",
      "      Successfully uninstalled torch-1.11.0\r\n",
      "  Attempting uninstall: torchtext\r\n",
      "    Found existing installation: torchtext 0.12.0\r\n",
      "    Uninstalling torchtext-0.12.0:\r\n",
      "      Successfully uninstalled torchtext-0.12.0\r\n",
      "Successfully installed torch-1.9.0 torchtext-0.10.0\r\n",
      "\u001b[33mWARNING: Running pip as the 'root' user can result in broken permissions and conflicting behaviour with the system package manager. It is recommended to use a virtual environment instead: https://pip.pypa.io/warnings/venv\u001b[0m\u001b[33m\r\n",
      "\u001b[0m"
     ]
    }
   ],
   "source": [
    "!pip install torchtext==0.10.0"
   ]
  },
  {
   "cell_type": "code",
   "execution_count": 3,
   "id": "97413bb9",
   "metadata": {
    "execution": {
     "iopub.execute_input": "2022-07-18T06:55:46.535805Z",
     "iopub.status.busy": "2022-07-18T06:55:46.535437Z",
     "iopub.status.idle": "2022-07-18T06:55:48.544121Z",
     "shell.execute_reply": "2022-07-18T06:55:48.543125Z"
    },
    "executionInfo": {
     "elapsed": 2911,
     "status": "ok",
     "timestamp": 1617731152526,
     "user": {
      "displayName": "Антон Геннадьевич Астахов",
      "photoUrl": "",
      "userId": "01331619065984010235"
     },
     "user_tz": -180
    },
    "id": "kiv7xYJLrJTh",
    "papermill": {
     "duration": 2.058549,
     "end_time": "2022-07-18T06:55:48.546529",
     "exception": false,
     "start_time": "2022-07-18T06:55:46.487980",
     "status": "completed"
    },
    "tags": []
   },
   "outputs": [],
   "source": [
    "import torch\n",
    "import torch.nn as nn\n",
    "import torch.optim as optim\n",
    "\n",
    "import torchtext\n",
    "from torchtext.legacy.data import Field, BucketIterator\n",
    "\n",
    "import random\n",
    "import math\n",
    "import time\n",
    "import numpy as np\n",
    "\n",
    "import matplotlib\n",
    "matplotlib.rcParams.update({'figure.figsize': (16, 12), 'font.size': 14})\n",
    "import matplotlib.pyplot as plt\n",
    "import matplotlib.ticker as ticker\n",
    "%matplotlib inline\n",
    "from IPython.display import clear_output\n",
    "\n",
    "from nltk.tokenize import WordPunctTokenizer"
   ]
  },
  {
   "cell_type": "code",
   "execution_count": 4,
   "id": "dd8c7c52",
   "metadata": {
    "execution": {
     "iopub.execute_input": "2022-07-18T06:55:48.638522Z",
     "iopub.status.busy": "2022-07-18T06:55:48.637291Z",
     "iopub.status.idle": "2022-07-18T06:55:48.644233Z",
     "shell.execute_reply": "2022-07-18T06:55:48.643364Z"
    },
    "executionInfo": {
     "elapsed": 2485,
     "status": "ok",
     "timestamp": 1617731152532,
     "user": {
      "displayName": "Антон Геннадьевич Астахов",
      "photoUrl": "",
      "userId": "01331619065984010235"
     },
     "user_tz": -180
    },
    "id": "Li0echK5KOHF",
    "papermill": {
     "duration": 0.054319,
     "end_time": "2022-07-18T06:55:48.646293",
     "exception": false,
     "start_time": "2022-07-18T06:55:48.591974",
     "status": "completed"
    },
    "tags": []
   },
   "outputs": [],
   "source": [
    "SEED = 1234\n",
    "\n",
    "random.seed(SEED)\n",
    "np.random.seed(SEED)\n",
    "torch.manual_seed(SEED)\n",
    "torch.cuda.manual_seed(SEED)\n",
    "torch.backends.cudnn.deterministic = True"
   ]
  },
  {
   "cell_type": "markdown",
   "id": "d5aca0c4",
   "metadata": {
    "id": "lw6Bm7_oKOHH",
    "papermill": {
     "duration": 0.044607,
     "end_time": "2022-07-18T06:55:48.735416",
     "exception": false,
     "start_time": "2022-07-18T06:55:48.690809",
     "status": "completed"
    },
    "tags": []
   },
   "source": [
    "We'll then create our tokenizers as before."
   ]
  },
  {
   "cell_type": "code",
   "execution_count": 5,
   "id": "1c47759b",
   "metadata": {
    "execution": {
     "iopub.execute_input": "2022-07-18T06:55:48.826798Z",
     "iopub.status.busy": "2022-07-18T06:55:48.825811Z",
     "iopub.status.idle": "2022-07-18T06:55:48.831997Z",
     "shell.execute_reply": "2022-07-18T06:55:48.831144Z"
    },
    "executionInfo": {
     "elapsed": 932,
     "status": "ok",
     "timestamp": 1617731153220,
     "user": {
      "displayName": "Антон Геннадьевич Астахов",
      "photoUrl": "",
      "userId": "01331619065984010235"
     },
     "user_tz": -180
    },
    "id": "M3EqJeyorJTt",
    "papermill": {
     "duration": 0.053977,
     "end_time": "2022-07-18T06:55:48.833913",
     "exception": false,
     "start_time": "2022-07-18T06:55:48.779936",
     "status": "completed"
    },
    "tags": []
   },
   "outputs": [],
   "source": [
    "tokenizer_W = WordPunctTokenizer()\n",
    "\n",
    "def tokenize_ru(x, tokenizer=tokenizer_W):\n",
    "    return tokenizer.tokenize(x.lower())\n",
    "\n",
    "def tokenize_en(x, tokenizer=tokenizer_W):\n",
    "    return tokenizer.tokenize(x.lower())"
   ]
  },
  {
   "cell_type": "code",
   "execution_count": 6,
   "id": "31d6d104",
   "metadata": {
    "execution": {
     "iopub.execute_input": "2022-07-18T06:55:48.925197Z",
     "iopub.status.busy": "2022-07-18T06:55:48.924905Z",
     "iopub.status.idle": "2022-07-18T06:55:51.809813Z",
     "shell.execute_reply": "2022-07-18T06:55:51.808736Z"
    },
    "executionInfo": {
     "elapsed": 3721,
     "status": "ok",
     "timestamp": 1617731190911,
     "user": {
      "displayName": "Антон Геннадьевич Астахов",
      "photoUrl": "",
      "userId": "01331619065984010235"
     },
     "user_tz": -180
    },
    "id": "fVXeUedkrJT1",
    "papermill": {
     "duration": 2.933746,
     "end_time": "2022-07-18T06:55:51.813237",
     "exception": false,
     "start_time": "2022-07-18T06:55:48.879491",
     "status": "completed"
    },
    "tags": []
   },
   "outputs": [],
   "source": [
    "SRC = Field(tokenize=tokenize_ru,\n",
    "            init_token = '<sos>', \n",
    "            eos_token = '<eos>', \n",
    "            lower = True,\n",
    "            batch_first = True)\n",
    "\n",
    "TRG = Field(tokenize=tokenize_en,\n",
    "            init_token = '<sos>', \n",
    "            eos_token = '<eos>', \n",
    "            lower = True,\n",
    "            batch_first = True)\n",
    "\n",
    "\n",
    "dataset = torchtext.legacy.data.TabularDataset(\n",
    "    path='data.txt',\n",
    "    format='tsv',\n",
    "    fields=[('trg', TRG), ('src', SRC)]\n",
    ")"
   ]
  },
  {
   "cell_type": "markdown",
   "id": "1c51fac5",
   "metadata": {
    "id": "RPwttntqKOHK",
    "papermill": {
     "duration": 0.072807,
     "end_time": "2022-07-18T06:55:51.962992",
     "exception": false,
     "start_time": "2022-07-18T06:55:51.890185",
     "status": "completed"
    },
    "tags": []
   },
   "source": [
    "Our fields are the same as the previous notebook. The model expects data to be fed in with the batch dimension first, so we use `batch_first = True`. "
   ]
  },
  {
   "cell_type": "code",
   "execution_count": 7,
   "id": "c50d930f",
   "metadata": {
    "execution": {
     "iopub.execute_input": "2022-07-18T06:55:52.103809Z",
     "iopub.status.busy": "2022-07-18T06:55:52.103431Z",
     "iopub.status.idle": "2022-07-18T06:55:52.169470Z",
     "shell.execute_reply": "2022-07-18T06:55:52.168161Z"
    },
    "executionInfo": {
     "elapsed": 2839,
     "status": "ok",
     "timestamp": 1617731190916,
     "user": {
      "displayName": "Антон Геннадьевич Астахов",
      "photoUrl": "",
      "userId": "01331619065984010235"
     },
     "user_tz": -180
    },
    "id": "W6XREt7-L1AA",
    "outputId": "3c03f5d9-93bf-4c58-f10d-d252dcd1b783",
    "papermill": {
     "duration": 0.131219,
     "end_time": "2022-07-18T06:55:52.171499",
     "exception": false,
     "start_time": "2022-07-18T06:55:52.040280",
     "status": "completed"
    },
    "tags": []
   },
   "outputs": [
    {
     "name": "stdout",
     "output_type": "stream",
     "text": [
      "Number of training examples: 40000\n",
      "Number of validation examples: 2500\n",
      "Number of testing examples: 7500\n"
     ]
    }
   ],
   "source": [
    "train_data, valid_data, test_data = dataset.split(split_ratio=[0.8, 0.15, 0.05])\n",
    "\n",
    "print(f\"Number of training examples: {len(train_data.examples)}\")\n",
    "print(f\"Number of validation examples: {len(valid_data.examples)}\")\n",
    "print(f\"Number of testing examples: {len(test_data.examples)}\")"
   ]
  },
  {
   "cell_type": "code",
   "execution_count": 8,
   "id": "27799eac",
   "metadata": {
    "execution": {
     "iopub.execute_input": "2022-07-18T06:55:52.261467Z",
     "iopub.status.busy": "2022-07-18T06:55:52.261116Z",
     "iopub.status.idle": "2022-07-18T06:55:52.812675Z",
     "shell.execute_reply": "2022-07-18T06:55:52.811714Z"
    },
    "executionInfo": {
     "elapsed": 1904,
     "status": "ok",
     "timestamp": 1617731198654,
     "user": {
      "displayName": "Антон Геннадьевич Астахов",
      "photoUrl": "",
      "userId": "01331619065984010235"
     },
     "user_tz": -180
    },
    "id": "ytdfN6EpKOHe",
    "papermill": {
     "duration": 0.599469,
     "end_time": "2022-07-18T06:55:52.815111",
     "exception": false,
     "start_time": "2022-07-18T06:55:52.215642",
     "status": "completed"
    },
    "tags": []
   },
   "outputs": [],
   "source": [
    "SRC.build_vocab(train_data, min_freq = 2)\n",
    "TRG.build_vocab(train_data, min_freq = 2)"
   ]
  },
  {
   "cell_type": "code",
   "execution_count": 9,
   "id": "724b2145",
   "metadata": {
    "execution": {
     "iopub.execute_input": "2022-07-18T06:55:52.908776Z",
     "iopub.status.busy": "2022-07-18T06:55:52.907061Z",
     "iopub.status.idle": "2022-07-18T06:55:52.914967Z",
     "shell.execute_reply": "2022-07-18T06:55:52.913874Z"
    },
    "executionInfo": {
     "elapsed": 568,
     "status": "ok",
     "timestamp": 1617731198660,
     "user": {
      "displayName": "Антон Геннадьевич Астахов",
      "photoUrl": "",
      "userId": "01331619065984010235"
     },
     "user_tz": -180
    },
    "id": "vP57-29FL72r",
    "outputId": "707cc321-1b3c-4b56-d582-4eae052d55c3",
    "papermill": {
     "duration": 0.056889,
     "end_time": "2022-07-18T06:55:52.917407",
     "exception": false,
     "start_time": "2022-07-18T06:55:52.860518",
     "status": "completed"
    },
    "tags": []
   },
   "outputs": [
    {
     "name": "stdout",
     "output_type": "stream",
     "text": [
      "Unique tokens in source (ru) vocabulary: 14129\n",
      "Unique tokens in target (en) vocabulary: 10104\n"
     ]
    }
   ],
   "source": [
    "print(f\"Unique tokens in source (ru) vocabulary: {len(SRC.vocab)}\")\n",
    "print(f\"Unique tokens in target (en) vocabulary: {len(TRG.vocab)}\")"
   ]
  },
  {
   "cell_type": "markdown",
   "id": "238a48c4",
   "metadata": {
    "id": "z7thiuIcKOHg",
    "papermill": {
     "duration": 0.044348,
     "end_time": "2022-07-18T06:55:53.007443",
     "exception": false,
     "start_time": "2022-07-18T06:55:52.963095",
     "status": "completed"
    },
    "tags": []
   },
   "source": [
    "Finally, we define the device and the data iterator."
   ]
  },
  {
   "cell_type": "code",
   "execution_count": 10,
   "id": "08b09f5c",
   "metadata": {
    "execution": {
     "iopub.execute_input": "2022-07-18T06:55:53.100243Z",
     "iopub.status.busy": "2022-07-18T06:55:53.099915Z",
     "iopub.status.idle": "2022-07-18T06:55:53.166810Z",
     "shell.execute_reply": "2022-07-18T06:55:53.165876Z"
    },
    "executionInfo": {
     "elapsed": 1143,
     "status": "ok",
     "timestamp": 1617731201045,
     "user": {
      "displayName": "Антон Геннадьевич Астахов",
      "photoUrl": "",
      "userId": "01331619065984010235"
     },
     "user_tz": -180
    },
    "id": "F89vIYu7KOHh",
    "papermill": {
     "duration": 0.116242,
     "end_time": "2022-07-18T06:55:53.169217",
     "exception": false,
     "start_time": "2022-07-18T06:55:53.052975",
     "status": "completed"
    },
    "tags": []
   },
   "outputs": [],
   "source": [
    "device = torch.device('cuda' if torch.cuda.is_available() else 'cpu')"
   ]
  },
  {
   "cell_type": "code",
   "execution_count": 11,
   "id": "8414e2c4",
   "metadata": {
    "execution": {
     "iopub.execute_input": "2022-07-18T06:55:53.260470Z",
     "iopub.status.busy": "2022-07-18T06:55:53.260177Z",
     "iopub.status.idle": "2022-07-18T06:55:53.265627Z",
     "shell.execute_reply": "2022-07-18T06:55:53.264725Z"
    },
    "executionInfo": {
     "elapsed": 1713,
     "status": "ok",
     "timestamp": 1617731202997,
     "user": {
      "displayName": "Антон Геннадьевич Астахов",
      "photoUrl": "",
      "userId": "01331619065984010235"
     },
     "user_tz": -180
    },
    "id": "rUV2QqJuKOHi",
    "papermill": {
     "duration": 0.052647,
     "end_time": "2022-07-18T06:55:53.267490",
     "exception": false,
     "start_time": "2022-07-18T06:55:53.214843",
     "status": "completed"
    },
    "tags": []
   },
   "outputs": [],
   "source": [
    "def _len_sort_key(x):\n",
    "    return len(x.src)\n",
    "\n",
    "BATCH_SIZE = 128\n",
    "\n",
    "train_iterator, valid_iterator, test_iterator = BucketIterator.splits(\n",
    "    (train_data, valid_data, test_data), \n",
    "    batch_size = BATCH_SIZE, \n",
    "    device = device,\n",
    "    sort_key=_len_sort_key\n",
    ")"
   ]
  },
  {
   "cell_type": "markdown",
   "id": "2d830cf6",
   "metadata": {
    "id": "2El3wXzcKOHl",
    "papermill": {
     "duration": 0.044861,
     "end_time": "2022-07-18T06:55:53.357380",
     "exception": false,
     "start_time": "2022-07-18T06:55:53.312519",
     "status": "completed"
    },
    "tags": []
   },
   "source": [
    "## Building the Model\n",
    "\n",
    "Next, we'll build the model. Like previous notebooks it is made up of an *encoder* and a *decoder*, with the encoder *encoding* the input/source sentence (in Russian) into *context vector* and the decoder then *decoding* this context vector to output our output/target sentence (in English). \n",
    "\n",
    "### Encoder\n",
    "\n",
    "The Transformer's encoder does not attempt to compress the entire source sentence, $X = (x_1, ... ,x_n)$, into a single context vector, $z$. Instead it produces a sequence of context vectors, $Z = (z_1, ... , z_n)$. So, if our input sequence was 5 tokens long we would have $Z = (z_1, z_2, z_3, z_4, z_5)$. Why do we call this a sequence of context vectors and not a sequence of hidden states? A hidden state at time $t$ in an RNN has only seen tokens $x_t$ and all the tokens before it. However, each context vector here has seen all tokens at all positions within the input sequence.\n",
    "\n",
    "![](assets/transformer-encoder.png)\n",
    "\n",
    "First, the tokens are passed through a standard embedding layer. Next, as the model has no recurrent it has no idea about the order of the tokens within the sequence. We solve this by using a second embedding layer called a *positional embedding layer*. This is a standard embedding layer where the input is not the token itself but the position of the token within the sequence, starting with the first token, the `<sos>` (start of sequence) token, in position 0. The position embedding has a \"vocabulary\" size of 100, which means our model can accept sentences up to 100 tokens long. This can be increased if we want to handle longer sentences.\n",
    "\n",
    "The original Transformer implementation from the Attention is All You Need paper does not learn positional embeddings. Instead it uses a fixed static embedding. Modern Transformer architectures, like BERT, use positional embeddings instead, hence we have decided to use them in these tutorials. Check out [this](http://nlp.seas.harvard.edu/2018/04/03/attention.html#positional-encoding) section to read more about the positional embeddings used in the original Transformer model.\n",
    "\n",
    "Next, the token and positional embeddings are elementwise summed together to get a vector which contains information about the token and also its position with in the sequence. However, before they are summed, the token embeddings are multiplied by a scaling factor which is $\\sqrt{d_{model}}$, where $d_{model}$ is the hidden dimension size, `hid_dim`. This supposedly reduces variance in the embeddings and the model is difficult to train reliably without this scaling factor. Dropout is then applied to the combined embeddings.\n",
    "\n",
    "The combined embeddings are then passed through $N$ *encoder layers* to get $Z$, which is then output and can be used by the decoder.\n",
    "\n",
    "The source mask, `src_mask`, is simply the same shape as the source sentence but has a value of 1 when the token in the source sentence is not a `<pad>` token and 0 when it is a `<pad>` token. This is used in the encoder layers to mask the multi-head attention mechanisms, which are used to calculate and apply attention over the source sentence, so the model does not pay attention to `<pad>` tokens, which contain no useful information."
   ]
  },
  {
   "cell_type": "code",
   "execution_count": 12,
   "id": "ef38048f",
   "metadata": {
    "execution": {
     "iopub.execute_input": "2022-07-18T06:55:53.449055Z",
     "iopub.status.busy": "2022-07-18T06:55:53.448046Z",
     "iopub.status.idle": "2022-07-18T06:55:53.458521Z",
     "shell.execute_reply": "2022-07-18T06:55:53.457705Z"
    },
    "executionInfo": {
     "elapsed": 2006,
     "status": "ok",
     "timestamp": 1617733490264,
     "user": {
      "displayName": "Антон Геннадьевич Астахов",
      "photoUrl": "",
      "userId": "01331619065984010235"
     },
     "user_tz": -180
    },
    "id": "qcYhbZORKOHm",
    "papermill": {
     "duration": 0.058719,
     "end_time": "2022-07-18T06:55:53.460405",
     "exception": false,
     "start_time": "2022-07-18T06:55:53.401686",
     "status": "completed"
    },
    "tags": []
   },
   "outputs": [],
   "source": [
    "class Encoder(nn.Module):\n",
    "    def __init__(self, \n",
    "                 input_dim, \n",
    "                 hid_dim, \n",
    "                 n_layers, \n",
    "                 n_heads, \n",
    "                 pf_dim,\n",
    "                 dropout, \n",
    "                 device,\n",
    "                 max_length = 100):\n",
    "        super().__init__()\n",
    "\n",
    "        self.device = device\n",
    "        \n",
    "        self.tok_embedding = nn.Embedding(input_dim, hid_dim)\n",
    "        self.pos_embedding = nn.Embedding(max_length, hid_dim)\n",
    "        \n",
    "        self.layers = nn.ModuleList([EncoderLayer(hid_dim, \n",
    "                                                  n_heads, \n",
    "                                                  pf_dim,\n",
    "                                                  dropout, \n",
    "                                                  device) \n",
    "                                     for _ in range(n_layers)])\n",
    "        \n",
    "        self.dropout = nn.Dropout(dropout)\n",
    "        \n",
    "        self.scale = torch.sqrt(torch.FloatTensor([hid_dim])).to(device)\n",
    "        \n",
    "    def forward(self, src, src_mask):\n",
    "        \n",
    "        #src = [batch size, src len]\n",
    "        #src_mask = [batch size, 1, 1, src len]\n",
    "        \n",
    "        batch_size = src.shape[0]\n",
    "        src_len = src.shape[1]\n",
    "        \n",
    "        pos = torch.arange(0, src_len).unsqueeze(0).repeat(batch_size, 1).to(self.device)\n",
    "        \n",
    "        #pos = [batch size, src len]\n",
    "        \n",
    "        src = self.dropout((self.tok_embedding(src) * self.scale) + self.pos_embedding(pos))\n",
    "        \n",
    "        #src = [batch size, src len, hid dim]\n",
    "        \n",
    "        for layer in self.layers:\n",
    "            src = layer(src, src_mask)\n",
    "            \n",
    "        #src = [batch size, src len, hid dim]\n",
    "            \n",
    "        return src"
   ]
  },
  {
   "cell_type": "markdown",
   "id": "a5cf7ece",
   "metadata": {
    "id": "gHvgiVBNKOHn",
    "papermill": {
     "duration": 0.045282,
     "end_time": "2022-07-18T06:55:53.551001",
     "exception": false,
     "start_time": "2022-07-18T06:55:53.505719",
     "status": "completed"
    },
    "tags": []
   },
   "source": [
    "### Encoder Layer\n",
    "\n",
    "The encoder layers are where all of the \"meat\" of the encoder is contained. We first pass the source sentence and its mask into the *multi-head attention layer*, then perform dropout on it, apply a residual connection and pass it through a [Layer Normalization](https://arxiv.org/abs/1607.06450) layer. We then pass it through a *position-wise feedforward* layer and then, again, apply dropout, a residual connection and then layer normalization to get the output of this layer which is fed into the next layer. The parameters are not shared between layers. \n",
    "\n",
    "The mutli head attention layer is used by the encoder layer to attend to the source sentence, i.e. it is calculating and applying attention over itself instead of another sequence, hence we call it *self attention*.\n",
    "\n",
    "[This](https://mlexplained.com/2018/01/13/weight-normalization-and-layer-normalization-explained-normalization-in-deep-learning-part-2/) article goes into more detail about layer normalization, but the gist is that it normalizes the values of the features, i.e. across the hidden dimension, so each feature has a mean of 0 and a standard deviation of 1. This allows neural networks with a larger number of layers, like the Transformer, to be trained easier."
   ]
  },
  {
   "cell_type": "code",
   "execution_count": 13,
   "id": "fd37cd15",
   "metadata": {
    "execution": {
     "iopub.execute_input": "2022-07-18T06:55:53.643156Z",
     "iopub.status.busy": "2022-07-18T06:55:53.642182Z",
     "iopub.status.idle": "2022-07-18T06:55:53.650954Z",
     "shell.execute_reply": "2022-07-18T06:55:53.650117Z"
    },
    "executionInfo": {
     "elapsed": 1421,
     "status": "ok",
     "timestamp": 1617733490268,
     "user": {
      "displayName": "Антон Геннадьевич Астахов",
      "photoUrl": "",
      "userId": "01331619065984010235"
     },
     "user_tz": -180
    },
    "id": "620s5cI7KOHo",
    "papermill": {
     "duration": 0.057066,
     "end_time": "2022-07-18T06:55:53.652810",
     "exception": false,
     "start_time": "2022-07-18T06:55:53.595744",
     "status": "completed"
    },
    "tags": []
   },
   "outputs": [],
   "source": [
    "class EncoderLayer(nn.Module):\n",
    "    def __init__(self, \n",
    "                 hid_dim, \n",
    "                 n_heads, \n",
    "                 pf_dim,  \n",
    "                 dropout, \n",
    "                 device):\n",
    "        super().__init__()\n",
    "        \n",
    "        self.self_attn_layer_norm = nn.LayerNorm(hid_dim)\n",
    "        self.ff_layer_norm = nn.LayerNorm(hid_dim)\n",
    "        self.self_attention = MultiHeadAttentionLayer(hid_dim, n_heads, dropout, device)\n",
    "        self.positionwise_feedforward = PositionwiseFeedforwardLayer(hid_dim, \n",
    "                                                                     pf_dim, \n",
    "                                                                     dropout)\n",
    "        self.dropout = nn.Dropout(dropout)\n",
    "        \n",
    "    def forward(self, src, src_mask):\n",
    "        \n",
    "        #src = [batch size, src len, hid dim]\n",
    "        #src_mask = [batch size, 1, 1, src len] \n",
    "                \n",
    "        #self attention\n",
    "        _src, _ = self.self_attention(src, src, src, src_mask)\n",
    "        \n",
    "        #dropout, residual connection and layer norm\n",
    "        src = self.self_attn_layer_norm(src + self.dropout(_src))\n",
    "        \n",
    "        #src = [batch size, src len, hid dim]\n",
    "        \n",
    "        #positionwise feedforward\n",
    "        _src = self.positionwise_feedforward(src)\n",
    "        \n",
    "        #dropout, residual and layer norm\n",
    "        src = self.ff_layer_norm(src + self.dropout(_src))\n",
    "        \n",
    "        #src = [batch size, src len, hid dim]\n",
    "        \n",
    "        return src"
   ]
  },
  {
   "cell_type": "markdown",
   "id": "cdc61ff9",
   "metadata": {
    "id": "z_wi54knKOHp",
    "papermill": {
     "duration": 0.045135,
     "end_time": "2022-07-18T06:55:53.743062",
     "exception": false,
     "start_time": "2022-07-18T06:55:53.697927",
     "status": "completed"
    },
    "tags": []
   },
   "source": [
    "### Mutli Head Attention Layer\n",
    "\n",
    "One of the key, novel concepts introduced by the Transformer paper is the *multi-head attention layer*. \n",
    "\n",
    "![](assets/transformer-attention.png)\n",
    "\n",
    "Attention can be though of as *queries*, *keys* and *values* - where the query is used with the key to get an attention vector (usually the output of a *softmax* operation and has all values between 0 and 1 which sum to 1) which is then used to get a weighted sum of the values.\n",
    "\n",
    "The Transformer uses *scaled dot-product attention*, where the query and key are combined by taking the dot product between them, then applying the softmax operation and scaling by $d_k$ before finally then multiplying by the value. $d_k$ is the *head dimension*, `head_dim`, which we will shortly explain further.\n",
    "\n",
    "$$ \\text{Attention}(Q, K, V) = \\text{Softmax} \\big( \\frac{QK^T}{\\sqrt{d_k}} \\big)V $$ \n",
    "\n",
    "This is similar to standard *dot product attention* but is scaled by $d_k$, which the paper states is used to stop the results of the dot products growing large, causing gradients to become too small.\n",
    "\n",
    "However, the scaled dot-product attention isn't simply applied to the queries, keys and values. Instead of doing a single attention application the queries, keys and values have their `hid_dim` split into $h$ *heads* and the scaled dot-product attention is calculated over all heads in parallel. This means instead of paying attention to one concept per attention application, we pay attention to $h$. We then re-combine the heads into their `hid_dim` shape, thus each `hid_dim` is potentially paying attention to $h$ different concepts.\n",
    "\n",
    "$$ \\text{MultiHead}(Q, K, V) = \\text{Concat}(\\text{head}_1,...,\\text{head}_h)W^O $$\n",
    "\n",
    "$$\\text{head}_i = \\text{Attention}(QW_i^Q, KW_i^K, VW_i^V) $$\n",
    "\n",
    "$W^O$ is the linear layer applied at the end of the multi-head attention layer, `fc`. $W^Q, W^K, W^V$ are the linear layers `fc_q`, `fc_k` and `fc_v`.\n",
    "\n",
    "Walking through the module, first we calculate $QW^Q$, $KW^K$ and $VW^V$ with the linear layers, `fc_q`, `fc_k` and `fc_v`, to give us `Q`, `K` and `V`. Next, we split the `hid_dim` of the query, key and value into `n_heads` using `.view` and correctly permute them so they can be multiplied together. We then calculate the `energy` (the un-normalized attention) by multiplying `Q` and `K` together and scaling it by the square root of `head_dim`, which is calulated as `hid_dim // n_heads`. We then mask the energy so we do not pay attention over any elements of the sequeuence we shouldn't, then apply the softmax and dropout. We then apply the attention to the value heads, `V`, before combining the `n_heads` together. Finally, we multiply this $W^O$, represented by `fc_o`. \n",
    "\n",
    "Note that in our implementation the lengths of the keys and values are always the same, thus when matrix multiplying the output of the softmax, `attention`, with `V` we will always have valid dimension sizes for matrix multiplication. This multiplication is carried out using `torch.matmul` which, when both tensors are >2-dimensional, does a batched matrix multiplication over the last two dimensions of each tensor. This will be a **[query len, key len] x [value len, head dim]** batched matrix multiplication over the batch size and each head which provides the **[batch size, n heads, query len, head dim]** result.\n",
    "\n",
    "One thing that looks strange at first is that dropout is applied directly to the attention. This means that our attention vector will most probably not sum to 1 and we may pay full attention to a token but the attention over that token is set to 0 by dropout. This is never explained, or even mentioned, in the paper however is used by the [official implementation](https://github.com/tensorflow/tensor2tensor/) and every Transformer implementation since, [including BERT](https://github.com/google-research/bert/)."
   ]
  },
  {
   "cell_type": "code",
   "execution_count": 14,
   "id": "c63a4b72",
   "metadata": {
    "execution": {
     "iopub.execute_input": "2022-07-18T06:55:53.834995Z",
     "iopub.status.busy": "2022-07-18T06:55:53.834544Z",
     "iopub.status.idle": "2022-07-18T06:55:53.847917Z",
     "shell.execute_reply": "2022-07-18T06:55:53.846974Z"
    },
    "executionInfo": {
     "elapsed": 1427,
     "status": "ok",
     "timestamp": 1617733490835,
     "user": {
      "displayName": "Антон Геннадьевич Астахов",
      "photoUrl": "",
      "userId": "01331619065984010235"
     },
     "user_tz": -180
    },
    "id": "jNBy80tdKOHq",
    "papermill": {
     "duration": 0.061365,
     "end_time": "2022-07-18T06:55:53.849778",
     "exception": false,
     "start_time": "2022-07-18T06:55:53.788413",
     "status": "completed"
    },
    "tags": []
   },
   "outputs": [],
   "source": [
    "class MultiHeadAttentionLayer(nn.Module):\n",
    "    def __init__(self, hid_dim, n_heads, dropout, device):\n",
    "        super().__init__()\n",
    "        \n",
    "        assert hid_dim % n_heads == 0\n",
    "        \n",
    "        self.hid_dim = hid_dim\n",
    "        self.n_heads = n_heads\n",
    "        self.head_dim = hid_dim // n_heads\n",
    "        \n",
    "        self.fc_q = nn.Linear(hid_dim, hid_dim)\n",
    "        self.fc_k = nn.Linear(hid_dim, hid_dim)\n",
    "        self.fc_v = nn.Linear(hid_dim, hid_dim)\n",
    "        \n",
    "        self.fc_o = nn.Linear(hid_dim, hid_dim)\n",
    "        \n",
    "        self.dropout = nn.Dropout(dropout)\n",
    "        \n",
    "        self.scale = torch.sqrt(torch.FloatTensor([self.head_dim])).to(device)\n",
    "        \n",
    "    def forward(self, query, key, value, mask = None):\n",
    "        \n",
    "        batch_size = query.shape[0]\n",
    "        \n",
    "        #query = [batch size, query len, hid dim]\n",
    "        #key = [batch size, key len, hid dim]\n",
    "        #value = [batch size, value len, hid dim]\n",
    "                \n",
    "        Q = self.fc_q(query)\n",
    "        K = self.fc_k(key)\n",
    "        V = self.fc_v(value)\n",
    "        \n",
    "        #Q = [batch size, query len, hid dim]\n",
    "        #K = [batch size, key len, hid dim]\n",
    "        #V = [batch size, value len, hid dim]\n",
    "                \n",
    "        Q = Q.view(batch_size, -1, self.n_heads, self.head_dim).permute(0, 2, 1, 3)\n",
    "        K = K.view(batch_size, -1, self.n_heads, self.head_dim).permute(0, 2, 1, 3)\n",
    "        V = V.view(batch_size, -1, self.n_heads, self.head_dim).permute(0, 2, 1, 3)\n",
    "        \n",
    "        #Q = [batch size, n heads, query len, head dim]\n",
    "        #K = [batch size, n heads, key len, head dim]\n",
    "        #V = [batch size, n heads, value len, head dim]\n",
    "                \n",
    "        energy = torch.matmul(Q, K.permute(0, 1, 3, 2)) / self.scale\n",
    "        \n",
    "        #energy = [batch size, n heads, query len, key len]\n",
    "        \n",
    "        if mask is not None:\n",
    "            energy = energy.masked_fill(mask == 0, -1e10)\n",
    "\n",
    "        # [batch size, 1, trg len, trg len]\n",
    "        \n",
    "        attention = torch.softmax(energy, dim = -1)\n",
    "                \n",
    "        #attention = [batch size, n heads, query len, key len]\n",
    "                \n",
    "        x = torch.matmul(self.dropout(attention), V)\n",
    "        \n",
    "        #x = [batch size, n heads, query len, head dim]\n",
    "        \n",
    "        x = x.permute(0, 2, 1, 3).contiguous()\n",
    "        \n",
    "        #x = [batch size, query len, n heads, head dim]\n",
    "        \n",
    "        x = x.view(batch_size, -1, self.hid_dim)\n",
    "        \n",
    "        #x = [batch size, query len, hid dim]\n",
    "        \n",
    "        x = self.fc_o(x)\n",
    "        \n",
    "        #x = [batch size, query len, hid dim]\n",
    "        \n",
    "        return x, attention"
   ]
  },
  {
   "cell_type": "markdown",
   "id": "4e1387d9",
   "metadata": {
    "id": "xW0y8CfTKOHq",
    "papermill": {
     "duration": 0.045298,
     "end_time": "2022-07-18T06:55:53.940216",
     "exception": false,
     "start_time": "2022-07-18T06:55:53.894918",
     "status": "completed"
    },
    "tags": []
   },
   "source": [
    "### Position-wise Feedforward Layer\n",
    "\n",
    "The other main block inside the encoder layer is the *position-wise feedforward layer* This is relatively simple compared to the multi-head attention layer. The input is transformed from `hid_dim` to `pf_dim`, where `pf_dim` is usually a lot larger than `hid_dim`. The original Transformer used a `hid_dim` of 512 and a `pf_dim` of 2048. The ReLU activation function and dropout are applied before it is transformed back into a `hid_dim` representation. \n",
    "\n",
    "Why is this used? Unfortunately, it is never explained in the paper.\n",
    "\n",
    "BERT uses the [GELU](https://arxiv.org/abs/1606.08415) activation function, which can be used by simply switching `torch.relu` for `F.gelu`. Why did they use GELU? Again, it is never explained."
   ]
  },
  {
   "cell_type": "code",
   "execution_count": 15,
   "id": "a685e3b5",
   "metadata": {
    "execution": {
     "iopub.execute_input": "2022-07-18T06:55:54.033098Z",
     "iopub.status.busy": "2022-07-18T06:55:54.032775Z",
     "iopub.status.idle": "2022-07-18T06:55:54.039568Z",
     "shell.execute_reply": "2022-07-18T06:55:54.038657Z"
    },
    "executionInfo": {
     "elapsed": 1612,
     "status": "ok",
     "timestamp": 1617733491526,
     "user": {
      "displayName": "Антон Геннадьевич Астахов",
      "photoUrl": "",
      "userId": "01331619065984010235"
     },
     "user_tz": -180
    },
    "id": "SPMhwobkKOHq",
    "papermill": {
     "duration": 0.055676,
     "end_time": "2022-07-18T06:55:54.041499",
     "exception": false,
     "start_time": "2022-07-18T06:55:53.985823",
     "status": "completed"
    },
    "tags": []
   },
   "outputs": [],
   "source": [
    "class PositionwiseFeedforwardLayer(nn.Module):\n",
    "    def __init__(self, hid_dim, pf_dim, dropout):\n",
    "        super().__init__()\n",
    "        \n",
    "        self.fc_1 = nn.Linear(hid_dim, pf_dim)\n",
    "        self.fc_2 = nn.Linear(pf_dim, hid_dim)\n",
    "        \n",
    "        self.dropout = nn.Dropout(dropout)\n",
    "        \n",
    "    def forward(self, x):\n",
    "        \n",
    "        #x = [batch size, seq len, hid dim]\n",
    "        \n",
    "        x = self.dropout(torch.relu(self.fc_1(x)))\n",
    "        \n",
    "        #x = [batch size, seq len, pf dim]\n",
    "        \n",
    "        x = self.fc_2(x)\n",
    "        \n",
    "        #x = [batch size, seq len, hid dim]\n",
    "        \n",
    "        return x"
   ]
  },
  {
   "cell_type": "markdown",
   "id": "4d07761c",
   "metadata": {
    "id": "9UKM7ilFKOHr",
    "papermill": {
     "duration": 0.044998,
     "end_time": "2022-07-18T06:55:54.131745",
     "exception": false,
     "start_time": "2022-07-18T06:55:54.086747",
     "status": "completed"
    },
    "tags": []
   },
   "source": [
    "### Decoder\n",
    "\n",
    "The objective of the decoder is to take the encoded representation of the source sentence, $Z$, and convert it into predicted tokens in the target sentence, $\\hat{Y}$. We then compare $\\hat{Y}$ with the actual tokens in the target sentence, $Y$, to calculate our loss, which will be used to calculate the gradients of our parameters and then use our optimizer to update our weights in order to improve our predictions. \n",
    "\n",
    "![](assets/transformer-decoder.png)\n",
    "\n",
    "The decoder is similar to encoder, however it now has two multi-head attention layers. A *masked multi-head attention layer* over the target sequence, and a multi-head attention layer which uses the decoder representation as the query and the encoder representation as the key and value.\n",
    "\n",
    "The decoder uses positional embeddings and combines - via an elementwise sum - them with the scaled embedded target tokens, followed by dropout. Again, our positional encodings have a \"vocabulary\" of 100, which means they can accept sequences up to 100 tokens long. This can be increased if desired.\n",
    "\n",
    "The combined embeddings are then passed through the $N$ decoder layers, along with the encoded source, `enc_src`, and the source and target masks. Note that the number of layers in the encoder does not have to be equal to the number of layers in the decoder, even though they are both denoted by $N$.\n",
    "\n",
    "The decoder representation after the $N^{th}$ layer is then passed through a linear layer, `fc_out`. In PyTorch, the softmax operation is contained within our loss function, so we do not explicitly need to use a softmax layer here.\n",
    "\n",
    "As well as using the source mask, as we did in the encoder to prevent our model attending to `<pad>` tokens, we also use a target mask. This will be explained further in the `Seq2Seq` model which encapsulates both the encoder and decoder, but the gist of it is that it performs a similar operation as the decoder padding in the convolutional sequence-to-sequence model. As we are processing all of the target tokens at once in parallel we need a method of stopping the decoder from \"cheating\" by simply \"looking\" at what the next token in the target sequence is and outputting it. \n",
    "\n",
    "Our decoder layer also outputs the normalized attention values so we can later plot them to see what our model is actually paying attention to."
   ]
  },
  {
   "cell_type": "code",
   "execution_count": 16,
   "id": "241c9440",
   "metadata": {
    "execution": {
     "iopub.execute_input": "2022-07-18T06:55:54.223757Z",
     "iopub.status.busy": "2022-07-18T06:55:54.223406Z",
     "iopub.status.idle": "2022-07-18T06:55:54.234281Z",
     "shell.execute_reply": "2022-07-18T06:55:54.233298Z"
    },
    "executionInfo": {
     "elapsed": 1616,
     "status": "ok",
     "timestamp": 1617733492229,
     "user": {
      "displayName": "Антон Геннадьевич Астахов",
      "photoUrl": "",
      "userId": "01331619065984010235"
     },
     "user_tz": -180
    },
    "id": "gxAkaL3sKOHr",
    "papermill": {
     "duration": 0.059321,
     "end_time": "2022-07-18T06:55:54.236287",
     "exception": false,
     "start_time": "2022-07-18T06:55:54.176966",
     "status": "completed"
    },
    "tags": []
   },
   "outputs": [],
   "source": [
    "class Decoder(nn.Module):\n",
    "    def __init__(self, \n",
    "                 output_dim, \n",
    "                 hid_dim, \n",
    "                 n_layers, \n",
    "                 n_heads, \n",
    "                 pf_dim, \n",
    "                 dropout, \n",
    "                 device,\n",
    "                 max_length = 100):\n",
    "        super().__init__()\n",
    "        \n",
    "        self.device = device\n",
    "        \n",
    "        self.tok_embedding = nn.Embedding(output_dim, hid_dim)\n",
    "        self.pos_embedding = nn.Embedding(max_length, hid_dim)\n",
    "        \n",
    "        self.layers = nn.ModuleList([DecoderLayer(hid_dim, \n",
    "                                                  n_heads, \n",
    "                                                  pf_dim, \n",
    "                                                  dropout, \n",
    "                                                  device)\n",
    "                                     for _ in range(n_layers)])\n",
    "        \n",
    "        self.fc_out = nn.Linear(hid_dim, output_dim)\n",
    "        \n",
    "        self.dropout = nn.Dropout(dropout)\n",
    "        \n",
    "        self.scale = torch.sqrt(torch.FloatTensor([hid_dim])).to(device)\n",
    "        \n",
    "    def forward(self, trg, enc_src, trg_mask, src_mask):\n",
    "        \n",
    "        #trg = [batch size, trg len]\n",
    "        #enc_src = [batch size, src len, hid dim]\n",
    "        #trg_mask = [batch size, 1, trg len, trg len]\n",
    "        #src_mask = [batch size, 1, 1, src len]\n",
    "                \n",
    "        batch_size = trg.shape[0]\n",
    "        trg_len = trg.shape[1]\n",
    "        \n",
    "        pos = torch.arange(0, trg_len).unsqueeze(0).repeat(batch_size, 1).to(self.device)\n",
    "                            \n",
    "        #pos = [batch size, trg len]\n",
    "            \n",
    "        trg = self.dropout((self.tok_embedding(trg) * self.scale) + self.pos_embedding(pos))\n",
    "                \n",
    "        #trg = [batch size, trg len, hid dim]\n",
    "        \n",
    "        for layer in self.layers:\n",
    "            trg, attention = layer(trg, enc_src, trg_mask, src_mask)\n",
    "        \n",
    "        #trg = [batch size, trg len, hid dim]\n",
    "        #attention = [batch size, n heads, trg len, src len]\n",
    "        \n",
    "        output = self.fc_out(trg)\n",
    "        \n",
    "        #output = [batch size, trg len, output dim]\n",
    "            \n",
    "        return output, attention"
   ]
  },
  {
   "cell_type": "markdown",
   "id": "c8e89353",
   "metadata": {
    "id": "TvmuXhGQKOHt",
    "papermill": {
     "duration": 0.044661,
     "end_time": "2022-07-18T06:55:54.325751",
     "exception": false,
     "start_time": "2022-07-18T06:55:54.281090",
     "status": "completed"
    },
    "tags": []
   },
   "source": [
    "### Decoder Layer\n",
    "\n",
    "As mentioned previously, the decoder layer is similar to the encoder layer except that it now has two multi-head attention layers, `self_attention` and `encoder_attention`. \n",
    "\n",
    "The first performs self-attention, as in the encoder, by using the decoder representation so far as the query, key and value. This is followed by dropout, residual connection and layer normalization. This `self_attention` layer uses the target sequence mask, `trg_mask`, in order to prevent the decoder from \"cheating\" by paying attention to tokens that are \"ahead\" of the one it is currently processing as it processes all tokens in the target sentence in parallel.\n",
    "\n",
    "The second is how we actually feed the encoded source sentence, `enc_src`, into our decoder. In this multi-head attention layer the queries are the decoder representations and the keys and values are the encoder representations. Here, the source mask, `src_mask` is used to prevent the multi-head attention layer from attending to `<pad>` tokens within the source sentence. This is then followed by the dropout, residual connection and layer normalization layers. \n",
    "\n",
    "Finally, we pass this through the position-wise feedforward layer and yet another sequence of dropout, residual connection and layer normalization.\n",
    "\n",
    "The decoder layer isn't introducing any new concepts, just using the same set of layers as the encoder in a slightly different way."
   ]
  },
  {
   "cell_type": "code",
   "execution_count": 17,
   "id": "920d2618",
   "metadata": {
    "execution": {
     "iopub.execute_input": "2022-07-18T06:55:54.419291Z",
     "iopub.status.busy": "2022-07-18T06:55:54.418747Z",
     "iopub.status.idle": "2022-07-18T06:55:54.428249Z",
     "shell.execute_reply": "2022-07-18T06:55:54.427342Z"
    },
    "executionInfo": {
     "elapsed": 1825,
     "status": "ok",
     "timestamp": 1617733493866,
     "user": {
      "displayName": "Антон Геннадьевич Астахов",
      "photoUrl": "",
      "userId": "01331619065984010235"
     },
     "user_tz": -180
    },
    "id": "Xaw7vSGTKOHt",
    "papermill": {
     "duration": 0.05861,
     "end_time": "2022-07-18T06:55:54.430243",
     "exception": false,
     "start_time": "2022-07-18T06:55:54.371633",
     "status": "completed"
    },
    "tags": []
   },
   "outputs": [],
   "source": [
    "class DecoderLayer(nn.Module):\n",
    "    def __init__(self, \n",
    "                 hid_dim, \n",
    "                 n_heads, \n",
    "                 pf_dim, \n",
    "                 dropout, \n",
    "                 device):\n",
    "        super().__init__()\n",
    "        \n",
    "        self.self_attn_layer_norm = nn.LayerNorm(hid_dim)\n",
    "        self.enc_attn_layer_norm = nn.LayerNorm(hid_dim)\n",
    "        self.ff_layer_norm = nn.LayerNorm(hid_dim)\n",
    "        self.self_attention = MultiHeadAttentionLayer(hid_dim, n_heads, dropout, device)\n",
    "        self.encoder_attention = MultiHeadAttentionLayer(hid_dim, n_heads, dropout, device)\n",
    "        self.positionwise_feedforward = PositionwiseFeedforwardLayer(hid_dim, \n",
    "                                                                     pf_dim, \n",
    "                                                                     dropout)\n",
    "        self.dropout = nn.Dropout(dropout)\n",
    "        \n",
    "    def forward(self, trg, enc_src, trg_mask, src_mask):\n",
    "        \n",
    "        #trg = [batch size, trg len, hid dim]\n",
    "        #enc_src = [batch size, src len, hid dim]\n",
    "        #trg_mask = [batch size, 1, trg len, trg len]\n",
    "        #src_mask = [batch size, 1, 1, src len]\n",
    "        \n",
    "        #self attention\n",
    "        _trg, _ = self.self_attention(trg, trg, trg, trg_mask)\n",
    "        \n",
    "        #dropout, residual connection and layer norm\n",
    "        trg = self.self_attn_layer_norm(trg + self.dropout(_trg))\n",
    "            \n",
    "        #trg = [batch size, trg len, hid dim]\n",
    "            \n",
    "        #encoder attention\n",
    "        _trg, attention = self.encoder_attention(trg, enc_src, enc_src, src_mask)\n",
    "        \n",
    "        #dropout, residual connection and layer norm\n",
    "        trg = self.enc_attn_layer_norm(trg + self.dropout(_trg))\n",
    "                    \n",
    "        #trg = [batch size, trg len, hid dim]\n",
    "        \n",
    "        #positionwise feedforward\n",
    "        _trg = self.positionwise_feedforward(trg)\n",
    "        \n",
    "        #dropout, residual and layer norm\n",
    "        trg = self.ff_layer_norm(trg + self.dropout(_trg))\n",
    "        \n",
    "        #trg = [batch size, trg len, hid dim]\n",
    "        #attention = [batch size, n heads, trg len, src len]\n",
    "        \n",
    "        return trg, attention"
   ]
  },
  {
   "cell_type": "markdown",
   "id": "94114cdf",
   "metadata": {
    "id": "118CYc31KOHt",
    "papermill": {
     "duration": 0.045638,
     "end_time": "2022-07-18T06:55:54.521970",
     "exception": false,
     "start_time": "2022-07-18T06:55:54.476332",
     "status": "completed"
    },
    "tags": []
   },
   "source": [
    "### Seq2Seq\n",
    "\n",
    "Finally, we have the `Seq2Seq` module which encapsulates the encoder and decoder, as well as handling the creation of the masks.\n",
    "\n",
    "The source mask is created by checking where the source sequence is not equal to a `<pad>` token. It is 1 where the token is not a `<pad>` token and 0 when it is. It is then unsqueezed so it can be correctly broadcast when applying the mask to the `energy`, which of shape **_[batch size, n heads, seq len, seq len]_**.\n",
    "\n",
    "The target mask is slightly more complicated. First, we create a mask for the `<pad>` tokens, as we did for the source mask. Next, we create a \"subsequent\" mask, `trg_sub_mask`, using `torch.tril`. This creates a diagonal matrix where the elements above the diagonal will be zero and the elements below the diagonal will be set to whatever the input tensor is. In this case, the input tensor will be a tensor filled with ones. So this means our `trg_sub_mask` will look something like this (for a target with 5 tokens):\n",
    "\n",
    "$$\\begin{matrix}\n",
    "1 & 0 & 0 & 0 & 0\\\\\n",
    "1 & 1 & 0 & 0 & 0\\\\\n",
    "1 & 1 & 1 & 0 & 0\\\\\n",
    "1 & 1 & 1 & 1 & 0\\\\\n",
    "1 & 1 & 1 & 1 & 1\\\\\n",
    "\\end{matrix}$$\n",
    "\n",
    "This shows what each target token (row) is allowed to look at (column). The first target token has a mask of **_[1, 0, 0, 0, 0]_** which means it can only look at the first target token. The second target token has a mask of **_[1, 1, 0, 0, 0]_** which it means it can look at both the first and second target tokens. \n",
    "\n",
    "The \"subsequent\" mask is then logically anded with the padding mask, this combines the two masks ensuring both the subsequent tokens and the padding tokens cannot be attended to. For example if the last two tokens were `<pad>` tokens the mask would look like:\n",
    "\n",
    "$$\\begin{matrix}\n",
    "1 & 0 & 0 & 0 & 0\\\\\n",
    "1 & 1 & 0 & 0 & 0\\\\\n",
    "1 & 1 & 1 & 0 & 0\\\\\n",
    "1 & 1 & 1 & 0 & 0\\\\\n",
    "1 & 1 & 1 & 0 & 0\\\\\n",
    "\\end{matrix}$$\n",
    "\n",
    "After the masks are created, they used with the encoder and decoder along with the source and target sentences to get our predicted target sentence, `output`, along with the decoder's attention over the source sequence."
   ]
  },
  {
   "cell_type": "code",
   "execution_count": 18,
   "id": "ebe888a3",
   "metadata": {
    "execution": {
     "iopub.execute_input": "2022-07-18T06:55:54.614531Z",
     "iopub.status.busy": "2022-07-18T06:55:54.614187Z",
     "iopub.status.idle": "2022-07-18T06:55:54.624361Z",
     "shell.execute_reply": "2022-07-18T06:55:54.623454Z"
    },
    "executionInfo": {
     "elapsed": 1402,
     "status": "ok",
     "timestamp": 1617733495116,
     "user": {
      "displayName": "Антон Геннадьевич Астахов",
      "photoUrl": "",
      "userId": "01331619065984010235"
     },
     "user_tz": -180
    },
    "id": "EH-nw2BGKOHu",
    "papermill": {
     "duration": 0.059042,
     "end_time": "2022-07-18T06:55:54.626299",
     "exception": false,
     "start_time": "2022-07-18T06:55:54.567257",
     "status": "completed"
    },
    "tags": []
   },
   "outputs": [],
   "source": [
    "class Seq2Seq(nn.Module):\n",
    "    def __init__(self, \n",
    "                 encoder, \n",
    "                 decoder, \n",
    "                 src_pad_idx, \n",
    "                 trg_pad_idx, \n",
    "                 device):\n",
    "        super().__init__()\n",
    "        \n",
    "        self.encoder = encoder\n",
    "        self.decoder = decoder\n",
    "        self.src_pad_idx = src_pad_idx\n",
    "        self.trg_pad_idx = trg_pad_idx\n",
    "        self.device = device\n",
    "        \n",
    "    def make_src_mask(self, src):\n",
    "        \n",
    "        #src = [batch size, src len]\n",
    "        \n",
    "        src_mask = (src != self.src_pad_idx).unsqueeze(1).unsqueeze(2)\n",
    "\n",
    "        #src_mask = [batch size, 1, 1, src len]\n",
    "\n",
    "        return src_mask\n",
    "    \n",
    "    def make_trg_mask(self, trg):\n",
    "        \n",
    "        #trg = [batch size, trg len]\n",
    "        \n",
    "        trg_pad_mask = (trg != self.trg_pad_idx).unsqueeze(1).unsqueeze(2)\n",
    "        \n",
    "        #trg_pad_mask = [batch size, 1, 1, trg len]\n",
    "        \n",
    "        trg_len = trg.shape[1]\n",
    "        \n",
    "        trg_sub_mask = torch.tril(torch.ones((trg_len, trg_len), device = self.device)).bool()\n",
    "        \n",
    "        #trg_sub_mask = [trg len, trg len]\n",
    "\n",
    "        # [batch_size, 1, trg_len, trg_len]\n",
    "            \n",
    "        trg_mask = trg_pad_mask & trg_sub_mask\n",
    "        \n",
    "        #trg_mask = [batch size, 1, trg len, trg len]\n",
    "        \n",
    "        return trg_mask\n",
    "\n",
    "    def forward(self, src, trg):\n",
    "        \n",
    "        #src = [batch size, src len]\n",
    "        #trg = [batch size, trg len]\n",
    "                \n",
    "        src_mask = self.make_src_mask(src)\n",
    "        trg_mask = self.make_trg_mask(trg)\n",
    "        \n",
    "        #src_mask = [batch size, 1, 1, src len]\n",
    "        #trg_mask = [batch size, 1, trg len, trg len]\n",
    "        \n",
    "        enc_src = self.encoder(src, src_mask)\n",
    "        \n",
    "        #enc_src = [batch size, src len, hid dim]\n",
    "                \n",
    "        output, attention = self.decoder(trg, enc_src, trg_mask, src_mask)\n",
    "        \n",
    "        #output = [batch size, trg len, output dim]\n",
    "        #attention = [batch size, n heads, trg len, src len]\n",
    "        \n",
    "        return output, attention"
   ]
  },
  {
   "cell_type": "markdown",
   "id": "b18c3ca6",
   "metadata": {
    "id": "dKsATbxoKOHu",
    "papermill": {
     "duration": 0.045425,
     "end_time": "2022-07-18T06:55:54.717432",
     "exception": false,
     "start_time": "2022-07-18T06:55:54.672007",
     "status": "completed"
    },
    "tags": []
   },
   "source": [
    "## Training the Seq2Seq Model\n",
    "\n",
    "We can now define our encoder and decoders. This model is significantly smaller than Transformers used in research today, but is able to be run on a single GPU quickly."
   ]
  },
  {
   "cell_type": "code",
   "execution_count": 19,
   "id": "43989980",
   "metadata": {
    "execution": {
     "iopub.execute_input": "2022-07-18T06:55:54.809274Z",
     "iopub.status.busy": "2022-07-18T06:55:54.808928Z",
     "iopub.status.idle": "2022-07-18T06:55:57.519826Z",
     "shell.execute_reply": "2022-07-18T06:55:57.518859Z"
    },
    "executionInfo": {
     "elapsed": 1598,
     "status": "ok",
     "timestamp": 1617733497168,
     "user": {
      "displayName": "Антон Геннадьевич Астахов",
      "photoUrl": "",
      "userId": "01331619065984010235"
     },
     "user_tz": -180
    },
    "id": "fYxt085SKOHu",
    "papermill": {
     "duration": 2.75985,
     "end_time": "2022-07-18T06:55:57.522459",
     "exception": false,
     "start_time": "2022-07-18T06:55:54.762609",
     "status": "completed"
    },
    "tags": []
   },
   "outputs": [],
   "source": [
    "INPUT_DIM = len(SRC.vocab)\n",
    "OUTPUT_DIM = len(TRG.vocab)\n",
    "HID_DIM = 512\n",
    "ENC_LAYERS = 3\n",
    "DEC_LAYERS = 3\n",
    "ENC_HEADS = 8\n",
    "DEC_HEADS = 8\n",
    "ENC_PF_DIM = 512\n",
    "DEC_PF_DIM = 512\n",
    "ENC_DROPOUT = 0.1\n",
    "DEC_DROPOUT = 0.1\n",
    "\n",
    "enc = Encoder(INPUT_DIM, \n",
    "              HID_DIM, \n",
    "              ENC_LAYERS, \n",
    "              ENC_HEADS, \n",
    "              ENC_PF_DIM, \n",
    "              ENC_DROPOUT, \n",
    "              device)\n",
    "\n",
    "dec = Decoder(OUTPUT_DIM, \n",
    "              HID_DIM, \n",
    "              DEC_LAYERS, \n",
    "              DEC_HEADS, \n",
    "              DEC_PF_DIM, \n",
    "              DEC_DROPOUT, \n",
    "              device)"
   ]
  },
  {
   "cell_type": "markdown",
   "id": "f7e8b87a",
   "metadata": {
    "id": "W6DvHnkpKOHu",
    "papermill": {
     "duration": 0.048719,
     "end_time": "2022-07-18T06:55:57.618522",
     "exception": false,
     "start_time": "2022-07-18T06:55:57.569803",
     "status": "completed"
    },
    "tags": []
   },
   "source": [
    "Then, use them to define our whole sequence-to-sequence encapsulating model."
   ]
  },
  {
   "cell_type": "code",
   "execution_count": 20,
   "id": "d8cb7b43",
   "metadata": {
    "execution": {
     "iopub.execute_input": "2022-07-18T06:55:57.711520Z",
     "iopub.status.busy": "2022-07-18T06:55:57.711178Z",
     "iopub.status.idle": "2022-07-18T06:55:57.757919Z",
     "shell.execute_reply": "2022-07-18T06:55:57.757042Z"
    },
    "executionInfo": {
     "elapsed": 840,
     "status": "ok",
     "timestamp": 1617733499344,
     "user": {
      "displayName": "Антон Геннадьевич Астахов",
      "photoUrl": "",
      "userId": "01331619065984010235"
     },
     "user_tz": -180
    },
    "id": "pBmrifbnKOHv",
    "papermill": {
     "duration": 0.09554,
     "end_time": "2022-07-18T06:55:57.759860",
     "exception": false,
     "start_time": "2022-07-18T06:55:57.664320",
     "status": "completed"
    },
    "tags": []
   },
   "outputs": [],
   "source": [
    "SRC_PAD_IDX = SRC.vocab.stoi[SRC.pad_token]\n",
    "TRG_PAD_IDX = TRG.vocab.stoi[TRG.pad_token]\n",
    "\n",
    "model = Seq2Seq(enc, dec, SRC_PAD_IDX, TRG_PAD_IDX, device).to(device)"
   ]
  },
  {
   "cell_type": "markdown",
   "id": "16cf8f66",
   "metadata": {
    "id": "M-hsnVZ_KOHw",
    "papermill": {
     "duration": 0.045333,
     "end_time": "2022-07-18T06:55:57.850605",
     "exception": false,
     "start_time": "2022-07-18T06:55:57.805272",
     "status": "completed"
    },
    "tags": []
   },
   "source": [
    "We can check the number of parameters, noticing it is significantly less than the 37M for the convolutional sequence-to-sequence model."
   ]
  },
  {
   "cell_type": "code",
   "execution_count": 21,
   "id": "fc27b6af",
   "metadata": {
    "execution": {
     "iopub.execute_input": "2022-07-18T06:55:57.945271Z",
     "iopub.status.busy": "2022-07-18T06:55:57.944640Z",
     "iopub.status.idle": "2022-07-18T06:55:57.950780Z",
     "shell.execute_reply": "2022-07-18T06:55:57.949862Z"
    },
    "executionInfo": {
     "elapsed": 1509,
     "status": "ok",
     "timestamp": 1617733502738,
     "user": {
      "displayName": "Антон Геннадьевич Астахов",
      "photoUrl": "",
      "userId": "01331619065984010235"
     },
     "user_tz": -180
    },
    "id": "z6mHbrCjKOHx",
    "outputId": "65389485-c85d-445d-ee0d-438ab2efc0d8",
    "papermill": {
     "duration": 0.056399,
     "end_time": "2022-07-18T06:55:57.953637",
     "exception": false,
     "start_time": "2022-07-18T06:55:57.897238",
     "status": "completed"
    },
    "tags": []
   },
   "outputs": [
    {
     "name": "stdout",
     "output_type": "stream",
     "text": [
      "The model has 30,315,896 trainable parameters\n"
     ]
    }
   ],
   "source": [
    "def count_parameters(model):\n",
    "    return sum(p.numel() for p in model.parameters() if p.requires_grad)\n",
    "\n",
    "print(f'The model has {count_parameters(model):,} trainable parameters')"
   ]
  },
  {
   "cell_type": "markdown",
   "id": "a3d2f728",
   "metadata": {
    "id": "4NUe0Z5eKOHy",
    "papermill": {
     "duration": 0.045687,
     "end_time": "2022-07-18T06:55:58.045163",
     "exception": false,
     "start_time": "2022-07-18T06:55:57.999476",
     "status": "completed"
    },
    "tags": []
   },
   "source": [
    "The paper does not mention which weight initialization scheme was used, however Xavier uniform seems to be common amongst Transformer models, so we use it here."
   ]
  },
  {
   "cell_type": "code",
   "execution_count": 22,
   "id": "0ae5bdf8",
   "metadata": {
    "execution": {
     "iopub.execute_input": "2022-07-18T06:55:58.137393Z",
     "iopub.status.busy": "2022-07-18T06:55:58.136779Z",
     "iopub.status.idle": "2022-07-18T06:55:58.141740Z",
     "shell.execute_reply": "2022-07-18T06:55:58.140791Z"
    },
    "executionInfo": {
     "elapsed": 1180,
     "status": "ok",
     "timestamp": 1617733548913,
     "user": {
      "displayName": "Антон Геннадьевич Астахов",
      "photoUrl": "",
      "userId": "01331619065984010235"
     },
     "user_tz": -180
    },
    "id": "R0gxASFYKOH0",
    "papermill": {
     "duration": 0.053632,
     "end_time": "2022-07-18T06:55:58.143659",
     "exception": false,
     "start_time": "2022-07-18T06:55:58.090027",
     "status": "completed"
    },
    "tags": []
   },
   "outputs": [],
   "source": [
    "def initialize_weights(m):\n",
    "    if hasattr(m, 'weight') and m.weight.dim() > 1:\n",
    "        nn.init.xavier_uniform_(m.weight.data)"
   ]
  },
  {
   "cell_type": "code",
   "execution_count": 23,
   "id": "462e861f",
   "metadata": {
    "execution": {
     "iopub.execute_input": "2022-07-18T06:55:58.235491Z",
     "iopub.status.busy": "2022-07-18T06:55:58.234825Z",
     "iopub.status.idle": "2022-07-18T06:55:58.242080Z",
     "shell.execute_reply": "2022-07-18T06:55:58.241230Z"
    },
    "executionInfo": {
     "elapsed": 1514,
     "status": "ok",
     "timestamp": 1617733549733,
     "user": {
      "displayName": "Антон Геннадьевич Астахов",
      "photoUrl": "",
      "userId": "01331619065984010235"
     },
     "user_tz": -180
    },
    "id": "iZ60lH92KOH1",
    "papermill": {
     "duration": 0.055401,
     "end_time": "2022-07-18T06:55:58.244000",
     "exception": false,
     "start_time": "2022-07-18T06:55:58.188599",
     "status": "completed"
    },
    "tags": []
   },
   "outputs": [],
   "source": [
    "model.apply(initialize_weights);"
   ]
  },
  {
   "cell_type": "markdown",
   "id": "133b8438",
   "metadata": {
    "id": "UgLnTKyqKOH3",
    "papermill": {
     "duration": 0.044929,
     "end_time": "2022-07-18T06:55:58.333859",
     "exception": false,
     "start_time": "2022-07-18T06:55:58.288930",
     "status": "completed"
    },
    "tags": []
   },
   "source": [
    "The optimizer used in the original Transformer paper uses Adam with a learning rate that has a \"warm-up\" and then a \"cool-down\" period. BERT and other Transformer models use Adam with a fixed learning rate, so we will implement that. Check [this](http://nlp.seas.harvard.edu/2018/04/03/attention.html#optimizer) link for more details about the original Transformer's learning rate schedule.\n",
    "\n",
    "Note that the learning rate needs to be lower than the default used by Adam or else learning is unstable."
   ]
  },
  {
   "cell_type": "code",
   "execution_count": 24,
   "id": "62a6f140",
   "metadata": {
    "execution": {
     "iopub.execute_input": "2022-07-18T06:55:58.428198Z",
     "iopub.status.busy": "2022-07-18T06:55:58.427252Z",
     "iopub.status.idle": "2022-07-18T06:55:58.433267Z",
     "shell.execute_reply": "2022-07-18T06:55:58.432433Z"
    },
    "executionInfo": {
     "elapsed": 1260,
     "status": "ok",
     "timestamp": 1617733562434,
     "user": {
      "displayName": "Антон Геннадьевич Астахов",
      "photoUrl": "",
      "userId": "01331619065984010235"
     },
     "user_tz": -180
    },
    "id": "3q5DViOGKOH3",
    "papermill": {
     "duration": 0.055198,
     "end_time": "2022-07-18T06:55:58.435183",
     "exception": false,
     "start_time": "2022-07-18T06:55:58.379985",
     "status": "completed"
    },
    "tags": []
   },
   "outputs": [],
   "source": [
    "LEARNING_RATE = 5e-4\n",
    "\n",
    "optimizer = torch.optim.Adam(model.parameters(), lr = LEARNING_RATE)"
   ]
  },
  {
   "cell_type": "markdown",
   "id": "af311572",
   "metadata": {
    "id": "EFMpJK5OKOH4",
    "papermill": {
     "duration": 0.046237,
     "end_time": "2022-07-18T06:55:58.527496",
     "exception": false,
     "start_time": "2022-07-18T06:55:58.481259",
     "status": "completed"
    },
    "tags": []
   },
   "source": [
    "Next, we define our loss function, making sure to ignore losses calculated over `<pad>` tokens."
   ]
  },
  {
   "cell_type": "code",
   "execution_count": 25,
   "id": "cde3d0f4",
   "metadata": {
    "execution": {
     "iopub.execute_input": "2022-07-18T06:55:58.620615Z",
     "iopub.status.busy": "2022-07-18T06:55:58.619970Z",
     "iopub.status.idle": "2022-07-18T06:55:58.624509Z",
     "shell.execute_reply": "2022-07-18T06:55:58.623628Z"
    },
    "executionInfo": {
     "elapsed": 1366,
     "status": "ok",
     "timestamp": 1617733568074,
     "user": {
      "displayName": "Антон Геннадьевич Астахов",
      "photoUrl": "",
      "userId": "01331619065984010235"
     },
     "user_tz": -180
    },
    "id": "1rrA19TqKOH5",
    "papermill": {
     "duration": 0.053928,
     "end_time": "2022-07-18T06:55:58.626393",
     "exception": false,
     "start_time": "2022-07-18T06:55:58.572465",
     "status": "completed"
    },
    "tags": []
   },
   "outputs": [],
   "source": [
    "criterion = nn.CrossEntropyLoss(ignore_index = TRG_PAD_IDX)"
   ]
  },
  {
   "cell_type": "markdown",
   "id": "849e93f1",
   "metadata": {
    "id": "f5p3r2utKOH5",
    "papermill": {
     "duration": 0.045466,
     "end_time": "2022-07-18T06:55:58.717246",
     "exception": false,
     "start_time": "2022-07-18T06:55:58.671780",
     "status": "completed"
    },
    "tags": []
   },
   "source": [
    "Then, we'll define our training loop. This is the exact same as the one used in the previous tutorial.\n",
    "\n",
    "As we want our model to predict the `<eos>` token but not have it be an input into our model we simply slice the `<eos>` token off the end of the sequence. Thus:\n",
    "\n",
    "$$\\begin{align*}\n",
    "\\text{trg} &= [sos, x_1, x_2, x_3, eos]\\\\\n",
    "\\text{trg[:-1]} &= [sos, x_1, x_2, x_3]\n",
    "\\end{align*}$$\n",
    "\n",
    "$x_i$ denotes actual target sequence element. We then feed this into the model to get a predicted sequence that should hopefully predict the `<eos>` token:\n",
    "\n",
    "$$\\begin{align*}\n",
    "\\text{output} &= [y_1, y_2, y_3, eos]\n",
    "\\end{align*}$$\n",
    "\n",
    "$y_i$ denotes predicted target sequence element. We then calculate our loss using the original `trg` tensor with the `<sos>` token sliced off the front, leaving the `<eos>` token:\n",
    "\n",
    "$$\\begin{align*}\n",
    "\\text{output} &= [y_1, y_2, y_3, eos]\\\\\n",
    "\\text{trg[1:]} &= [x_1, x_2, x_3, eos]\n",
    "\\end{align*}$$\n",
    "\n",
    "We then calculate our losses and update our parameters as is standard."
   ]
  },
  {
   "cell_type": "code",
   "execution_count": 26,
   "id": "00e9fb70",
   "metadata": {
    "execution": {
     "iopub.execute_input": "2022-07-18T06:55:58.810349Z",
     "iopub.status.busy": "2022-07-18T06:55:58.809771Z",
     "iopub.status.idle": "2022-07-18T06:55:58.822237Z",
     "shell.execute_reply": "2022-07-18T06:55:58.821407Z"
    },
    "executionInfo": {
     "elapsed": 1957,
     "status": "ok",
     "timestamp": 1617733631481,
     "user": {
      "displayName": "Антон Геннадьевич Астахов",
      "photoUrl": "",
      "userId": "01331619065984010235"
     },
     "user_tz": -180
    },
    "id": "bGpqF19RKOH6",
    "papermill": {
     "duration": 0.061556,
     "end_time": "2022-07-18T06:55:58.824105",
     "exception": false,
     "start_time": "2022-07-18T06:55:58.762549",
     "status": "completed"
    },
    "tags": []
   },
   "outputs": [],
   "source": [
    "def train(model, iterator, optimizer, criterion, clip, train_history=None, valid_history=None):\n",
    "    \n",
    "    model.train()\n",
    "    \n",
    "    epoch_loss = 0\n",
    "    history = []\n",
    "    for i, batch in enumerate(iterator):\n",
    "        \n",
    "        src = batch.src\n",
    "        trg = batch.trg\n",
    "        \n",
    "        optimizer.zero_grad()\n",
    "        \n",
    "        output, _ = model(src, trg[:,:-1])\n",
    "                \n",
    "        #output = [batch size, trg len - 1, output dim]\n",
    "        #trg = [batch size, trg len]\n",
    "            \n",
    "        output_dim = output.shape[-1]\n",
    "            \n",
    "        output = output.contiguous().view(-1, output_dim)\n",
    "        trg = trg[:,1:].contiguous().view(-1)\n",
    "                \n",
    "        #output = [batch size * trg len - 1, output dim]\n",
    "        #trg = [batch size * trg len - 1]\n",
    "            \n",
    "        loss = criterion(output, trg)\n",
    "        \n",
    "        loss.backward()\n",
    "        \n",
    "        torch.nn.utils.clip_grad_norm_(model.parameters(), clip)\n",
    "        \n",
    "        optimizer.step()\n",
    "        \n",
    "        epoch_loss += loss.item()\n",
    "\n",
    "        history.append(loss.cpu().data.numpy())\n",
    "        if (i+1)%10==0:\n",
    "            fig, ax = plt.subplots(nrows=1, ncols=2, figsize=(12, 8))\n",
    "\n",
    "            clear_output(True)\n",
    "            ax[0].plot(history, label='train loss')\n",
    "            ax[0].set_xlabel('Batch')\n",
    "            ax[0].set_title('Train loss')\n",
    "            if train_history is not None:\n",
    "                ax[1].plot(train_history, label='general train history')\n",
    "                ax[1].set_xlabel('Epoch')\n",
    "            if valid_history is not None:\n",
    "                ax[1].plot(valid_history, label='general valid history')\n",
    "            plt.legend()\n",
    "            \n",
    "            plt.show()\n",
    "        \n",
    "    return epoch_loss / len(iterator)"
   ]
  },
  {
   "cell_type": "markdown",
   "id": "6a45716e",
   "metadata": {
    "id": "xCjMeRmNKOH6",
    "papermill": {
     "duration": 0.045857,
     "end_time": "2022-07-18T06:55:58.915569",
     "exception": false,
     "start_time": "2022-07-18T06:55:58.869712",
     "status": "completed"
    },
    "tags": []
   },
   "source": [
    "The evaluation loop is the same as the training loop, just without the gradient calculations and parameter updates."
   ]
  },
  {
   "cell_type": "code",
   "execution_count": 27,
   "id": "5d2b9e06",
   "metadata": {
    "execution": {
     "iopub.execute_input": "2022-07-18T06:55:59.009755Z",
     "iopub.status.busy": "2022-07-18T06:55:59.009407Z",
     "iopub.status.idle": "2022-07-18T06:55:59.016978Z",
     "shell.execute_reply": "2022-07-18T06:55:59.015906Z"
    },
    "executionInfo": {
     "elapsed": 2044,
     "status": "ok",
     "timestamp": 1617733638222,
     "user": {
      "displayName": "Антон Геннадьевич Астахов",
      "photoUrl": "",
      "userId": "01331619065984010235"
     },
     "user_tz": -180
    },
    "id": "Msi6-TuvKOH6",
    "papermill": {
     "duration": 0.05673,
     "end_time": "2022-07-18T06:55:59.019006",
     "exception": false,
     "start_time": "2022-07-18T06:55:58.962276",
     "status": "completed"
    },
    "tags": []
   },
   "outputs": [],
   "source": [
    "def evaluate(model, iterator, criterion):\n",
    "    \n",
    "    model.eval()\n",
    "    \n",
    "    epoch_loss = 0\n",
    "    \n",
    "    with torch.no_grad():\n",
    "    \n",
    "        for i, batch in enumerate(iterator):\n",
    "\n",
    "            src = batch.src\n",
    "            trg = batch.trg\n",
    "\n",
    "            output, _ = model(src, trg[:,:-1])\n",
    "            \n",
    "            #output = [batch size, trg len - 1, output dim]\n",
    "            #trg = [batch size, trg len]\n",
    "            \n",
    "            output_dim = output.shape[-1]\n",
    "            \n",
    "            output = output.contiguous().view(-1, output_dim)\n",
    "            trg = trg[:,1:].contiguous().view(-1)\n",
    "            \n",
    "            #output = [batch size * trg len - 1, output dim]\n",
    "            #trg = [batch size * trg len - 1]\n",
    "            \n",
    "            loss = criterion(output, trg)\n",
    "\n",
    "            epoch_loss += loss.item()\n",
    "        \n",
    "    return epoch_loss / len(iterator)"
   ]
  },
  {
   "cell_type": "markdown",
   "id": "57f99057",
   "metadata": {
    "id": "pmSWJ_b-KOH7",
    "papermill": {
     "duration": 0.045456,
     "end_time": "2022-07-18T06:55:59.110797",
     "exception": false,
     "start_time": "2022-07-18T06:55:59.065341",
     "status": "completed"
    },
    "tags": []
   },
   "source": [
    "We then define a small function that we can use to tell us how long an epoch takes."
   ]
  },
  {
   "cell_type": "code",
   "execution_count": 28,
   "id": "da3a7120",
   "metadata": {
    "execution": {
     "iopub.execute_input": "2022-07-18T06:55:59.204129Z",
     "iopub.status.busy": "2022-07-18T06:55:59.203291Z",
     "iopub.status.idle": "2022-07-18T06:55:59.208980Z",
     "shell.execute_reply": "2022-07-18T06:55:59.208109Z"
    },
    "executionInfo": {
     "elapsed": 1532,
     "status": "ok",
     "timestamp": 1617733640467,
     "user": {
      "displayName": "Антон Геннадьевич Астахов",
      "photoUrl": "",
      "userId": "01331619065984010235"
     },
     "user_tz": -180
    },
    "id": "URdWcWtlKOH7",
    "papermill": {
     "duration": 0.054231,
     "end_time": "2022-07-18T06:55:59.210879",
     "exception": false,
     "start_time": "2022-07-18T06:55:59.156648",
     "status": "completed"
    },
    "tags": []
   },
   "outputs": [],
   "source": [
    "def epoch_time(start_time, end_time):\n",
    "    elapsed_time = end_time - start_time\n",
    "    elapsed_mins = int(elapsed_time / 60)\n",
    "    elapsed_secs = int(elapsed_time - (elapsed_mins * 60))\n",
    "    return elapsed_mins, elapsed_secs"
   ]
  },
  {
   "cell_type": "markdown",
   "id": "80c8ae81",
   "metadata": {
    "id": "Vxt5oyaXKOH7",
    "papermill": {
     "duration": 0.0463,
     "end_time": "2022-07-18T06:55:59.303735",
     "exception": false,
     "start_time": "2022-07-18T06:55:59.257435",
     "status": "completed"
    },
    "tags": []
   },
   "source": [
    "Finally, we train our actual model. This model is almost 3x faster than the convolutional sequence-to-sequence model and also achieves a lower validation perplexity!"
   ]
  },
  {
   "cell_type": "code",
   "execution_count": 29,
   "id": "57b02d28",
   "metadata": {
    "execution": {
     "iopub.execute_input": "2022-07-18T06:55:59.397396Z",
     "iopub.status.busy": "2022-07-18T06:55:59.397053Z",
     "iopub.status.idle": "2022-07-18T07:06:23.547533Z",
     "shell.execute_reply": "2022-07-18T07:06:23.546056Z"
    },
    "executionInfo": {
     "elapsed": 499927,
     "status": "error",
     "timestamp": 1617734140884,
     "user": {
      "displayName": "Антон Геннадьевич Астахов",
      "photoUrl": "",
      "userId": "01331619065984010235"
     },
     "user_tz": -180
    },
    "id": "VP4dA6j-KOH7",
    "outputId": "5a5758bb-458a-415c-d6dd-02aaa2cf819e",
    "papermill": {
     "duration": 624.200391,
     "end_time": "2022-07-18T07:06:23.549905",
     "exception": false,
     "start_time": "2022-07-18T06:55:59.349514",
     "status": "completed"
    },
    "tags": []
   },
   "outputs": [
    {
     "data": {
      "image/png": "[encoded data removed]",
      "text/plain": [
       "<Figure size 864x576 with 2 Axes>"
      ]
     },
     "metadata": {
      "needs_background": "light"
     },
     "output_type": "display_data"
    },
    {
     "name": "stdout",
     "output_type": "stream",
     "text": [
      "Epoch: 10 | Time: 1m 2s\n",
      "\tTrain Loss: 0.746 | Train PPL:   2.109\n",
      "\t Val. Loss: 1.743 |  Val. PPL:   5.717\n"
     ]
    }
   ],
   "source": [
    "train_history = []\n",
    "valid_history = []\n",
    "\n",
    "N_EPOCHS = 10\n",
    "CLIP = 5\n",
    "\n",
    "best_valid_loss = float('inf')\n",
    "\n",
    "for epoch in range(N_EPOCHS):\n",
    "    \n",
    "    start_time = time.time()\n",
    "    \n",
    "    train_loss = train(model, train_iterator, optimizer, criterion, CLIP, train_history, valid_history)\n",
    "    valid_loss = evaluate(model, valid_iterator, criterion)\n",
    "    \n",
    "    end_time = time.time()\n",
    "    \n",
    "    epoch_mins, epoch_secs = epoch_time(start_time, end_time)\n",
    "    \n",
    "    if valid_loss < best_valid_loss:\n",
    "        best_valid_loss = valid_loss\n",
    "        torch.save(model.state_dict(), 'best-val-model.pt')\n",
    "    \n",
    "    train_history.append(train_loss)\n",
    "    valid_history.append(valid_loss)\n",
    "    print(f'Epoch: {epoch+1:02} | Time: {epoch_mins}m {epoch_secs}s')\n",
    "    print(f'\\tTrain Loss: {train_loss:.3f} | Train PPL: {math.exp(train_loss):7.3f}')\n",
    "    print(f'\\t Val. Loss: {valid_loss:.3f} |  Val. PPL: {math.exp(valid_loss):7.3f}')"
   ]
  },
  {
   "cell_type": "markdown",
   "id": "92381591",
   "metadata": {
    "id": "rlnrffrzKOH9",
    "papermill": {
     "duration": 0.047661,
     "end_time": "2022-07-18T07:06:23.645906",
     "exception": false,
     "start_time": "2022-07-18T07:06:23.598245",
     "status": "completed"
    },
    "tags": []
   },
   "source": [
    "We load our \"best\" parameters and manage to achieve a better test perplexity than all previous models."
   ]
  },
  {
   "cell_type": "code",
   "execution_count": 30,
   "id": "ed2a34ee",
   "metadata": {
    "execution": {
     "iopub.execute_input": "2022-07-18T07:06:23.750294Z",
     "iopub.status.busy": "2022-07-18T07:06:23.749959Z",
     "iopub.status.idle": "2022-07-18T07:06:25.689627Z",
     "shell.execute_reply": "2022-07-18T07:06:25.688719Z"
    },
    "executionInfo": {
     "elapsed": 22257,
     "status": "ok",
     "timestamp": 1617727792580,
     "user": {
      "displayName": "Антон Геннадьевич Астахов",
      "photoUrl": "",
      "userId": "01331619065984010235"
     },
     "user_tz": -180
    },
    "id": "UdjeaebJKOH-",
    "outputId": "30960cbf-dece-4103-c1f2-c54345af8238",
    "papermill": {
     "duration": 1.997042,
     "end_time": "2022-07-18T07:06:25.691702",
     "exception": false,
     "start_time": "2022-07-18T07:06:23.694660",
     "status": "completed"
    },
    "tags": []
   },
   "outputs": [
    {
     "name": "stdout",
     "output_type": "stream",
     "text": [
      "| Test Loss: 1.631 | Test PPL:   5.109 |\n"
     ]
    }
   ],
   "source": [
    "model.load_state_dict(torch.load('best-val-model.pt'))\n",
    "\n",
    "test_loss = evaluate(model, test_iterator, criterion)\n",
    "\n",
    "print(f'| Test Loss: {test_loss:.3f} | Test PPL: {math.exp(test_loss):7.3f} |')"
   ]
  },
  {
   "cell_type": "markdown",
   "id": "df9b25d5",
   "metadata": {
    "id": "sSPStSwHKOH-",
    "papermill": {
     "duration": 0.048955,
     "end_time": "2022-07-18T07:06:25.788765",
     "exception": false,
     "start_time": "2022-07-18T07:06:25.739810",
     "status": "completed"
    },
    "tags": []
   },
   "source": [
    "## Inference\n",
    "\n",
    "Now we can can translations from our model with the `translate_sentence` function below.\n",
    "\n",
    "The steps taken are:\n",
    "- tokenize the source sentence if it has not been tokenized (is a string)\n",
    "- append the `<sos>` and `<eos>` tokens\n",
    "- numericalize the source sentence\n",
    "- convert it to a tensor and add a batch dimension\n",
    "- create the source sentence mask\n",
    "- feed the source sentence and mask into the encoder\n",
    "- create a list to hold the output sentence, initialized with an `<sos>` token\n",
    "- while we have not hit a maximum length\n",
    "  - convert the current output sentence prediction into a tensor with a batch dimension\n",
    "  - create a target sentence mask\n",
    "  - place the current output, encoder output and both masks into the decoder\n",
    "  - get next output token prediction from decoder along with attention\n",
    "  - add prediction to current output sentence prediction\n",
    "  - break if the prediction was an `<eos>` token\n",
    "- convert the output sentence from indexes to tokens\n",
    "- return the output sentence (with the `<sos>` token removed) and the attention from the last layer"
   ]
  },
  {
   "cell_type": "code",
   "execution_count": 31,
   "id": "849c911a",
   "metadata": {
    "execution": {
     "iopub.execute_input": "2022-07-18T07:06:25.884556Z",
     "iopub.status.busy": "2022-07-18T07:06:25.884211Z",
     "iopub.status.idle": "2022-07-18T07:06:25.895803Z",
     "shell.execute_reply": "2022-07-18T07:06:25.894991Z"
    },
    "id": "R10c3FkhKOH_",
    "papermill": {
     "duration": 0.062166,
     "end_time": "2022-07-18T07:06:25.897694",
     "exception": false,
     "start_time": "2022-07-18T07:06:25.835528",
     "status": "completed"
    },
    "tags": []
   },
   "outputs": [],
   "source": [
    "def translate_sentence(sentence, src_field, trg_field, model, device, max_len = 50):\n",
    "    \n",
    "    model.eval()\n",
    "        \n",
    "    if isinstance(sentence, str):\n",
    "        nlp = spacy.load('de_core_news_sm')\n",
    "        tokens = [token.text.lower() for token in nlp(sentence)]\n",
    "    else:\n",
    "        tokens = [token.lower() for token in sentence]\n",
    "\n",
    "    tokens = [src_field.init_token] + tokens + [src_field.eos_token]\n",
    "        \n",
    "    src_indexes = [src_field.vocab.stoi[token] for token in tokens]\n",
    "\n",
    "    src_tensor = torch.LongTensor(src_indexes).unsqueeze(0).to(device)\n",
    "    \n",
    "    src_mask = model.make_src_mask(src_tensor)\n",
    "    \n",
    "    with torch.no_grad():\n",
    "        enc_src = model.encoder(src_tensor, src_mask)\n",
    "\n",
    "    trg_indexes = [trg_field.vocab.stoi[trg_field.init_token]]\n",
    "\n",
    "    for i in range(max_len):\n",
    "\n",
    "        trg_tensor = torch.LongTensor(trg_indexes).unsqueeze(0).to(device)\n",
    "\n",
    "        trg_mask = model.make_trg_mask(trg_tensor)\n",
    "        \n",
    "        with torch.no_grad():\n",
    "            output, attention = model.decoder(trg_tensor, enc_src, trg_mask, src_mask)\n",
    "        \n",
    "        pred_token = output.argmax(2)[:,-1].item()\n",
    "        \n",
    "        trg_indexes.append(pred_token)\n",
    "\n",
    "        if pred_token == trg_field.vocab.stoi[trg_field.eos_token]:\n",
    "            break\n",
    "    \n",
    "    trg_tokens = [trg_field.vocab.itos[i] for i in trg_indexes]\n",
    "    \n",
    "    return trg_tokens[1:], attention"
   ]
  },
  {
   "cell_type": "markdown",
   "id": "bca5e0d8",
   "metadata": {
    "id": "IqmpN6gdKOH_",
    "papermill": {
     "duration": 0.046872,
     "end_time": "2022-07-18T07:06:25.992723",
     "exception": false,
     "start_time": "2022-07-18T07:06:25.945851",
     "status": "completed"
    },
    "tags": []
   },
   "source": [
    "We'll now define a function that displays the attention over the source sentence for each step of the decoding. As this model has 8 heads our model we can view the attention for each of the heads."
   ]
  },
  {
   "cell_type": "code",
   "execution_count": 32,
   "id": "e5713d08",
   "metadata": {
    "execution": {
     "iopub.execute_input": "2022-07-18T07:06:26.089569Z",
     "iopub.status.busy": "2022-07-18T07:06:26.089266Z",
     "iopub.status.idle": "2022-07-18T07:06:26.097604Z",
     "shell.execute_reply": "2022-07-18T07:06:26.096610Z"
    },
    "id": "zc40oBdxKOIA",
    "papermill": {
     "duration": 0.059772,
     "end_time": "2022-07-18T07:06:26.099779",
     "exception": false,
     "start_time": "2022-07-18T07:06:26.040007",
     "status": "completed"
    },
    "tags": []
   },
   "outputs": [],
   "source": [
    "def display_attention(sentence, translation, attention, n_heads = 8, n_rows = 4, n_cols = 2):\n",
    "    \n",
    "    assert n_rows * n_cols == n_heads\n",
    "    \n",
    "    fig = plt.figure(figsize=(15,30))\n",
    "    \n",
    "    for i in range(n_heads):\n",
    "        \n",
    "        ax = fig.add_subplot(n_rows, n_cols, i+1)\n",
    "        \n",
    "        _attention = attention.squeeze(0)[i].cpu().detach().numpy()\n",
    "\n",
    "        cax = ax.matshow(_attention, cmap='bone')\n",
    "\n",
    "        ax.tick_params(labelsize=12)\n",
    "        ax.set_xticklabels(['']+['<sos>']+[t.lower() for t in sentence]+['<eos>'], \n",
    "                           rotation=45)\n",
    "        ax.set_yticklabels(['']+translation)\n",
    "\n",
    "        ax.xaxis.set_major_locator(ticker.MultipleLocator(1))\n",
    "        ax.yaxis.set_major_locator(ticker.MultipleLocator(1))\n",
    "\n",
    "    plt.show()\n",
    "    plt.close()"
   ]
  },
  {
   "cell_type": "markdown",
   "id": "b5cb7239",
   "metadata": {
    "id": "YbP_xA9ZKOIB",
    "papermill": {
     "duration": 0.047172,
     "end_time": "2022-07-18T07:06:26.193893",
     "exception": false,
     "start_time": "2022-07-18T07:06:26.146721",
     "status": "completed"
    },
    "tags": []
   },
   "source": [
    "First, we'll get an example from the training set."
   ]
  },
  {
   "cell_type": "code",
   "execution_count": 33,
   "id": "9cacff30",
   "metadata": {
    "execution": {
     "iopub.execute_input": "2022-07-18T07:06:26.341266Z",
     "iopub.status.busy": "2022-07-18T07:06:26.340594Z",
     "iopub.status.idle": "2022-07-18T07:06:26.346763Z",
     "shell.execute_reply": "2022-07-18T07:06:26.345728Z"
    },
    "executionInfo": {
     "elapsed": 836,
     "status": "ok",
     "timestamp": 1617725260444,
     "user": {
      "displayName": "Антон Геннадьевич Астахов",
      "photoUrl": "",
      "userId": "01331619065984010235"
     },
     "user_tz": -180
    },
    "id": "nFt8N4zHKOIB",
    "outputId": "170dbd46-de51-4277-e31f-472aa44d288b",
    "papermill": {
     "duration": 0.107665,
     "end_time": "2022-07-18T07:06:26.350259",
     "exception": false,
     "start_time": "2022-07-18T07:06:26.242594",
     "status": "completed"
    },
    "tags": []
   },
   "outputs": [
    {
     "name": "stdout",
     "output_type": "stream",
     "text": [
      "src = ['в', 'некоторых', 'люксах', 'установлена', 'гидромассажная', 'ванна', '.']\n",
      "trg = ['some', 'of', 'the', 'suites', 'feature', 'a', 'spa', 'bath', '.']\n"
     ]
    }
   ],
   "source": [
    "example_idx = 2\n",
    "\n",
    "src = vars(train_data.examples[example_idx])['src']\n",
    "trg = vars(train_data.examples[example_idx])['trg']\n",
    "\n",
    "print(f'src = {src}')\n",
    "print(f'trg = {trg}')"
   ]
  },
  {
   "cell_type": "markdown",
   "id": "2959ef7f",
   "metadata": {
    "id": "kUCno1LnKOIC",
    "papermill": {
     "duration": 0.047189,
     "end_time": "2022-07-18T07:06:26.445614",
     "exception": false,
     "start_time": "2022-07-18T07:06:26.398425",
     "status": "completed"
    },
    "tags": []
   },
   "source": [
    "Our translation looks pretty good, although our model changes *is walking by* to *walks by*. The meaning is still the same."
   ]
  },
  {
   "cell_type": "code",
   "execution_count": 34,
   "id": "1e5b3ff9",
   "metadata": {
    "execution": {
     "iopub.execute_input": "2022-07-18T07:06:26.542418Z",
     "iopub.status.busy": "2022-07-18T07:06:26.542079Z",
     "iopub.status.idle": "2022-07-18T07:06:26.574867Z",
     "shell.execute_reply": "2022-07-18T07:06:26.573806Z"
    },
    "executionInfo": {
     "elapsed": 1246,
     "status": "ok",
     "timestamp": 1617725262211,
     "user": {
      "displayName": "Антон Геннадьевич Астахов",
      "photoUrl": "",
      "userId": "01331619065984010235"
     },
     "user_tz": -180
    },
    "id": "AhM7RNA0KOID",
    "outputId": "472fdf95-a0fc-48d0-9f00-585eb7d6775d",
    "papermill": {
     "duration": 0.084337,
     "end_time": "2022-07-18T07:06:26.577026",
     "exception": false,
     "start_time": "2022-07-18T07:06:26.492689",
     "status": "completed"
    },
    "tags": []
   },
   "outputs": [
    {
     "name": "stdout",
     "output_type": "stream",
     "text": [
      "predicted trg = ['select', 'suites', 'include', 'a', 'spa', 'bath', '.', '<eos>']\n"
     ]
    }
   ],
   "source": [
    "translation, attention = translate_sentence(src, SRC, TRG, model, device)\n",
    "\n",
    "print(f'predicted trg = {translation}')"
   ]
  },
  {
   "cell_type": "markdown",
   "id": "76a58f10",
   "metadata": {
    "id": "tDzMv3ugKOIE",
    "papermill": {
     "duration": 0.047642,
     "end_time": "2022-07-18T07:06:26.672403",
     "exception": false,
     "start_time": "2022-07-18T07:06:26.624761",
     "status": "completed"
    },
    "tags": []
   },
   "source": [
    "We can see the attention from each head below. Each is certainly different, but it's difficult (perhaps impossible) to reason about what head has actually learned to pay attention to. Some heads pay full attention to \"eine\" when translating \"a\", some don't at all, and some do a little. They all seem to follow the similar \"downward staircase\" pattern and the attention when outputting the last two tokens is equally spread over the final two tokens in the input sentence."
   ]
  },
  {
   "cell_type": "code",
   "execution_count": 35,
   "id": "0e6efd7f",
   "metadata": {
    "execution": {
     "iopub.execute_input": "2022-07-18T07:06:26.769566Z",
     "iopub.status.busy": "2022-07-18T07:06:26.769246Z",
     "iopub.status.idle": "2022-07-18T07:06:28.265238Z",
     "shell.execute_reply": "2022-07-18T07:06:28.264309Z"
    },
    "executionInfo": {
     "elapsed": 2508,
     "status": "ok",
     "timestamp": 1617725266655,
     "user": {
      "displayName": "Антон Геннадьевич Астахов",
      "photoUrl": "",
      "userId": "01331619065984010235"
     },
     "user_tz": -180
    },
    "id": "GFzcest5KOIF",
    "outputId": "8a6e940f-9e31-4d4c-d20c-8fb41c9d8691",
    "papermill": {
     "duration": 1.547706,
     "end_time": "2022-07-18T07:06:28.268125",
     "exception": false,
     "start_time": "2022-07-18T07:06:26.720419",
     "status": "completed"
    },
    "tags": []
   },
   "outputs": [
    {
     "name": "stderr",
     "output_type": "stream",
     "text": [
      "/opt/conda/lib/python3.7/site-packages/ipykernel_launcher.py:17: UserWarning: FixedFormatter should only be used together with FixedLocator\n",
      "  app.launch_new_instance()\n",
      "/opt/conda/lib/python3.7/site-packages/ipykernel_launcher.py:18: UserWarning: FixedFormatter should only be used together with FixedLocator\n"
     ]
    },
    {
     "data": {
      "image/png": "[encoded data removed]",
      "text/plain": [
       "<Figure size 1080x2160 with 8 Axes>"
      ]
     },
     "metadata": {
      "needs_background": "light"
     },
     "output_type": "display_data"
    }
   ],
   "source": [
    "display_attention(src, translation, attention)"
   ]
  },
  {
   "cell_type": "markdown",
   "id": "9a149e40",
   "metadata": {
    "id": "xIEdF_G2KOIH",
    "papermill": {
     "duration": 0.052237,
     "end_time": "2022-07-18T07:06:28.370539",
     "exception": false,
     "start_time": "2022-07-18T07:06:28.318302",
     "status": "completed"
    },
    "tags": []
   },
   "source": [
    "Next, let's get an example the model has not been trained on from the validation set."
   ]
  },
  {
   "cell_type": "code",
   "execution_count": 36,
   "id": "fdd5e693",
   "metadata": {
    "execution": {
     "iopub.execute_input": "2022-07-18T07:06:28.471333Z",
     "iopub.status.busy": "2022-07-18T07:06:28.470994Z",
     "iopub.status.idle": "2022-07-18T07:06:28.476824Z",
     "shell.execute_reply": "2022-07-18T07:06:28.475907Z"
    },
    "executionInfo": {
     "elapsed": 900,
     "status": "ok",
     "timestamp": 1617725345775,
     "user": {
      "displayName": "Антон Геннадьевич Астахов",
      "photoUrl": "",
      "userId": "01331619065984010235"
     },
     "user_tz": -180
    },
    "id": "OCmnbcAvKOII",
    "outputId": "157db57b-9471-4635-9948-2fc7135450cc",
    "papermill": {
     "duration": 0.058841,
     "end_time": "2022-07-18T07:06:28.478831",
     "exception": false,
     "start_time": "2022-07-18T07:06:28.419990",
     "status": "completed"
    },
    "tags": []
   },
   "outputs": [
    {
     "name": "stdout",
     "output_type": "stream",
     "text": [
      "src = ['в', 'гостиной', 'установлен', 'жк', '-', 'телевизор', '.']\n",
      "trg = ['there', 'is', 'also', 'a', 'living', 'room', 'with', 'an', 'lcd', 'tv', '.']\n"
     ]
    }
   ],
   "source": [
    "example_idx = 9\n",
    "\n",
    "src = vars(valid_data.examples[example_idx])['src']\n",
    "trg = vars(valid_data.examples[example_idx])['trg']\n",
    "\n",
    "print(f'src = {src}')\n",
    "print(f'trg = {trg}')"
   ]
  },
  {
   "cell_type": "markdown",
   "id": "32ed9020",
   "metadata": {
    "id": "kEyHN5aXKOII",
    "papermill": {
     "duration": 0.04915,
     "end_time": "2022-07-18T07:06:28.577648",
     "exception": false,
     "start_time": "2022-07-18T07:06:28.528498",
     "status": "completed"
    },
    "tags": []
   },
   "source": [
    "The model translates it by switching *is running* to just *runs*, but it is an acceptable swap."
   ]
  },
  {
   "cell_type": "code",
   "execution_count": 37,
   "id": "312b5da0",
   "metadata": {
    "execution": {
     "iopub.execute_input": "2022-07-18T07:06:28.678833Z",
     "iopub.status.busy": "2022-07-18T07:06:28.677972Z",
     "iopub.status.idle": "2022-07-18T07:06:28.712822Z",
     "shell.execute_reply": "2022-07-18T07:06:28.711679Z"
    },
    "executionInfo": {
     "elapsed": 1058,
     "status": "ok",
     "timestamp": 1617725363999,
     "user": {
      "displayName": "Антон Геннадьевич Астахов",
      "photoUrl": "",
      "userId": "01331619065984010235"
     },
     "user_tz": -180
    },
    "id": "V9u4zSJbKOIJ",
    "outputId": "50e5b841-b608-4fa4-aa7e-d034fd0f2551",
    "papermill": {
     "duration": 0.087705,
     "end_time": "2022-07-18T07:06:28.714841",
     "exception": false,
     "start_time": "2022-07-18T07:06:28.627136",
     "status": "completed"
    },
    "tags": []
   },
   "outputs": [
    {
     "name": "stdout",
     "output_type": "stream",
     "text": [
      "predicted trg = ['the', 'living', 'room', 'includes', 'an', 'lcd', 'tv', '.', '<eos>']\n"
     ]
    }
   ],
   "source": [
    "translation, attention = translate_sentence(src, SRC, TRG, model, device)\n",
    "\n",
    "print(f'predicted trg = {translation}')"
   ]
  },
  {
   "cell_type": "markdown",
   "id": "3b787bf3",
   "metadata": {
    "id": "TgkgkMLKKOIK",
    "papermill": {
     "duration": 0.048755,
     "end_time": "2022-07-18T07:06:28.813772",
     "exception": false,
     "start_time": "2022-07-18T07:06:28.765017",
     "status": "completed"
    },
    "tags": []
   },
   "source": [
    "Again, some heads pay full attention to \"ein\" whilst some pay no attention to it. Again, most of the heads seem to spread their attention over both the period and `<eos>` tokens in the source sentence when outputting the period and `<eos>` sentence in the predicted target sentence, though some seem to pay attention to tokens from near the start of the sentence."
   ]
  },
  {
   "cell_type": "code",
   "execution_count": 38,
   "id": "03b0dea0",
   "metadata": {
    "execution": {
     "iopub.execute_input": "2022-07-18T07:06:28.915204Z",
     "iopub.status.busy": "2022-07-18T07:06:28.914867Z",
     "iopub.status.idle": "2022-07-18T07:06:30.843366Z",
     "shell.execute_reply": "2022-07-18T07:06:30.842194Z"
    },
    "executionInfo": {
     "elapsed": 2416,
     "status": "ok",
     "timestamp": 1617725371941,
     "user": {
      "displayName": "Антон Геннадьевич Астахов",
      "photoUrl": "",
      "userId": "01331619065984010235"
     },
     "user_tz": -180
    },
    "id": "Gxsaw5QlKOIK",
    "outputId": "4ac2e604-ce39-4e11-cf1f-e7e6fcbee07b",
    "papermill": {
     "duration": 1.982591,
     "end_time": "2022-07-18T07:06:30.846294",
     "exception": false,
     "start_time": "2022-07-18T07:06:28.863703",
     "status": "completed"
    },
    "tags": []
   },
   "outputs": [
    {
     "name": "stderr",
     "output_type": "stream",
     "text": [
      "/opt/conda/lib/python3.7/site-packages/ipykernel_launcher.py:17: UserWarning: FixedFormatter should only be used together with FixedLocator\n",
      "  app.launch_new_instance()\n",
      "/opt/conda/lib/python3.7/site-packages/ipykernel_launcher.py:18: UserWarning: FixedFormatter should only be used together with FixedLocator\n"
     ]
    },
    {
     "data": {
      "image/png": "[encoded data removed]",
      "text/plain": [
       "<Figure size 1080x2160 with 8 Axes>"
      ]
     },
     "metadata": {
      "needs_background": "light"
     },
     "output_type": "display_data"
    }
   ],
   "source": [
    "display_attention(src, translation, attention)"
   ]
  },
  {
   "cell_type": "markdown",
   "id": "32bbacf3",
   "metadata": {
    "id": "F_00DDDjKOIN",
    "papermill": {
     "duration": 0.084368,
     "end_time": "2022-07-18T07:06:31.035285",
     "exception": false,
     "start_time": "2022-07-18T07:06:30.950917",
     "status": "completed"
    },
    "tags": []
   },
   "source": [
    "## BLEU\n",
    "\n",
    "Finally we calculate the BLEU score for the Transformer."
   ]
  },
  {
   "cell_type": "code",
   "execution_count": 39,
   "id": "2539a021",
   "metadata": {
    "execution": {
     "iopub.execute_input": "2022-07-18T07:06:31.205295Z",
     "iopub.status.busy": "2022-07-18T07:06:31.204773Z",
     "iopub.status.idle": "2022-07-18T07:06:31.222724Z",
     "shell.execute_reply": "2022-07-18T07:06:31.221525Z"
    },
    "id": "Y1B59IDG_UVT",
    "papermill": {
     "duration": 0.105783,
     "end_time": "2022-07-18T07:06:31.224850",
     "exception": false,
     "start_time": "2022-07-18T07:06:31.119067",
     "status": "completed"
    },
    "tags": []
   },
   "outputs": [],
   "source": [
    "def translate_sentence_vectorized(src_tensor, src_field, trg_field, model, device, max_len=50):\n",
    "    assert isinstance(src_tensor, torch.Tensor)\n",
    "\n",
    "    model.eval()\n",
    "    src_mask = model.make_src_mask(src_tensor)\n",
    "\n",
    "    with torch.no_grad():\n",
    "        enc_src = model.encoder(src_tensor, src_mask)\n",
    "    # enc_src = [batch_sz, src_len, hid_dim]\n",
    "\n",
    "    trg_indexes = [[trg_field.vocab.stoi[trg_field.init_token]] for _ in range(len(src_tensor))]\n",
    "    # Even though some examples might have been completed by producing a <eos> token\n",
    "    # we still need to feed them through the model because other are not yet finished\n",
    "    # and all examples act as a batch. Once every single sentence prediction encounters\n",
    "    # <eos> token, then we can stop predicting.\n",
    "    translations_done = [0] * len(src_tensor)\n",
    "    for i in range(max_len):\n",
    "        trg_tensor = torch.LongTensor(trg_indexes).to(device)\n",
    "        trg_mask = model.make_trg_mask(trg_tensor)\n",
    "        with torch.no_grad():\n",
    "            output, attention = model.decoder(trg_tensor, enc_src, trg_mask, src_mask)\n",
    "        pred_tokens = output.argmax(2)[:,-1]\n",
    "        for i, pred_token_i in enumerate(pred_tokens):\n",
    "            trg_indexes[i].append(pred_token_i)\n",
    "            if pred_token_i == trg_field.vocab.stoi[trg_field.eos_token]:\n",
    "                translations_done[i] = 1\n",
    "        if all(translations_done):\n",
    "            break\n",
    "\n",
    "    # Iterate through each predicted example one by one;\n",
    "    # Cut-off the portion including the after the <eos> token\n",
    "    pred_sentences = []\n",
    "    for trg_sentence in trg_indexes:\n",
    "        pred_sentence = []\n",
    "        for i in range(1, len(trg_sentence)):\n",
    "            if trg_sentence[i] == trg_field.vocab.stoi[trg_field.eos_token]:\n",
    "                break\n",
    "            pred_sentence.append(trg_field.vocab.itos[trg_sentence[i]])\n",
    "        pred_sentences.append(pred_sentence)\n",
    "\n",
    "    return pred_sentences, attention"
   ]
  },
  {
   "cell_type": "code",
   "execution_count": 40,
   "id": "7981148a",
   "metadata": {
    "execution": {
     "iopub.execute_input": "2022-07-18T07:06:31.357073Z",
     "iopub.status.busy": "2022-07-18T07:06:31.356500Z",
     "iopub.status.idle": "2022-07-18T07:06:31.365620Z",
     "shell.execute_reply": "2022-07-18T07:06:31.364722Z"
    },
    "id": "24aqxCA3_d0-",
    "papermill": {
     "duration": 0.06319,
     "end_time": "2022-07-18T07:06:31.367643",
     "exception": false,
     "start_time": "2022-07-18T07:06:31.304453",
     "status": "completed"
    },
    "tags": []
   },
   "outputs": [],
   "source": [
    "from torchtext.data.metrics import bleu_score\n",
    "from tqdm.notebook import tqdm\n",
    "\n",
    "def calculate_bleu_alt(iterator, src_field, trg_field, model, device, max_len = 50):\n",
    "    trgs = []\n",
    "    pred_trgs = []\n",
    "    with torch.no_grad():\n",
    "        for batch in tqdm(iterator):\n",
    "            src = batch.src\n",
    "            trg = batch.trg\n",
    "            _trgs = []\n",
    "            for sentence in trg:\n",
    "                tmp = []\n",
    "                # Start from the first token which skips the <start> token\n",
    "                for i in sentence[1:]:\n",
    "                    # Targets are padded. So stop appending as soon as a padding or eos token is encountered\n",
    "                    if i == trg_field.vocab.stoi[trg_field.eos_token] or i == trg_field.vocab.stoi[trg_field.pad_token]:\n",
    "                        break\n",
    "                    tmp.append(trg_field.vocab.itos[i])\n",
    "                _trgs.append([tmp])\n",
    "            trgs += _trgs\n",
    "            pred_trg, _ = translate_sentence_vectorized(src, src_field, trg_field, model, device)\n",
    "            for sent in pred_trg:\n",
    "                sent = [token for token in sent if token != '<unk>']\n",
    "            pred_trgs += pred_trg\n",
    "    return pred_trgs, trgs, bleu_score(pred_trgs, trgs)"
   ]
  },
  {
   "cell_type": "code",
   "execution_count": 41,
   "id": "e3e42ddb",
   "metadata": {
    "execution": {
     "iopub.execute_input": "2022-07-18T07:06:31.471193Z",
     "iopub.status.busy": "2022-07-18T07:06:31.470903Z",
     "iopub.status.idle": "2022-07-18T07:07:57.109098Z",
     "shell.execute_reply": "2022-07-18T07:07:57.108110Z"
    },
    "executionInfo": {
     "elapsed": 137381,
     "status": "ok",
     "timestamp": 1617728203929,
     "user": {
      "displayName": "Антон Геннадьевич Астахов",
      "photoUrl": "",
      "userId": "01331619065984010235"
     },
     "user_tz": -180
    },
    "id": "zTeuVnOoKOIO",
    "outputId": "a9a662cb-faf9-4d9d-e042-3daf7b59dd55",
    "papermill": {
     "duration": 85.692268,
     "end_time": "2022-07-18T07:07:57.111247",
     "exception": false,
     "start_time": "2022-07-18T07:06:31.418979",
     "status": "completed"
    },
    "tags": []
   },
   "outputs": [
    {
     "data": {
      "application/vnd.jupyter.widget-view+json": {
       "model_id": "d102e0d646654455961bce089368e9d7",
       "version_major": 2,
       "version_minor": 0
      },
      "text/plain": [
       "  0%|          | 0/59 [00:00<?, ?it/s]"
      ]
     },
     "metadata": {},
     "output_type": "display_data"
    },
    {
     "name": "stdout",
     "output_type": "stream",
     "text": [
      "BLEU score = 26.80\n"
     ]
    }
   ],
   "source": [
    "_, _, bleu_score = calculate_bleu_alt(test_iterator, SRC, TRG, model, device)\n",
    "\n",
    "print(f'BLEU score = {bleu_score*100:.2f}')"
   ]
  }
 ],
 "metadata": {
  "kernelspec": {
   "display_name": "Python 3",
   "language": "python",
   "name": "python3"
  },
  "language_info": {
   "codemirror_mode": {
    "name": "ipython",
    "version": 3
   },
   "file_extension": ".py",
   "mimetype": "text/x-python",
   "name": "python",
   "nbconvert_exporter": "python",
   "pygments_lexer": "ipython3",
   "version": "3.7.12"
  },
  "papermill": {
   "default_parameters": {},
   "duration": 824.114126,
   "end_time": "2022-07-18T07:07:58.488286",
   "environment_variables": {},
   "exception": null,
   "input_path": "__notebook__.ipynb",
   "output_path": "__notebook__.ipynb",
   "parameters": {},
   "start_time": "2022-07-18T06:54:14.374160",
   "version": "2.3.4"
  },
  "widgets": {
   "application/vnd.jupyter.widget-state+json": {
    "state": {
     "0f88da7d42614a1a9ed8ed231e65c77f": {
      "model_module": "@jupyter-widgets/controls",
      "model_module_version": "1.5.0",
      "model_name": "DescriptionStyleModel",
      "state": {
       "_model_module": "@jupyter-widgets/controls",
       "_model_module_version": "1.5.0",
       "_model_name": "DescriptionStyleModel",
       "_view_count": null,
       "_view_module": "@jupyter-widgets/base",
       "_view_module_version": "1.2.0",
       "_view_name": "StyleView",
       "description_width": ""
      }
     },
     "112f3050fa694121941927b3074aeb98": {
      "model_module": "@jupyter-widgets/controls",
      "model_module_version": "1.5.0",
      "model_name": "ProgressStyleModel",
      "state": {
       "_model_module": "@jupyter-widgets/controls",
       "_model_module_version": "1.5.0",
       "_model_name": "ProgressStyleModel",
       "_view_count": null,
       "_view_module": "@jupyter-widgets/base",
       "_view_module_version": "1.2.0",
       "_view_name": "StyleView",
       "bar_color": null,
       "description_width": ""
      }
     },
     "205a7b0f6e484b43870e0ffa7d1a1653": {
      "model_module": "@jupyter-widgets/base",
      "model_module_version": "1.2.0",
      "model_name": "LayoutModel",
      "state": {
       "_model_module": "@jupyter-widgets/base",
       "_model_module_version": "1.2.0",
       "_model_name": "LayoutModel",
       "_view_count": null,
       "_view_module": "@jupyter-widgets/base",
       "_view_module_version": "1.2.0",
       "_view_name": "LayoutView",
       "align_content": null,
       "align_items": null,
       "align_self": null,
       "border": null,
       "bottom": null,
       "display": null,
       "flex": null,
       "flex_flow": null,
       "grid_area": null,
       "grid_auto_columns": null,
       "grid_auto_flow": null,
       "grid_auto_rows": null,
       "grid_column": null,
       "grid_gap": null,
       "grid_row": null,
       "grid_template_areas": null,
       "grid_template_columns": null,
       "grid_template_rows": null,
       "height": null,
       "justify_content": null,
       "justify_items": null,
       "left": null,
       "margin": null,
       "max_height": null,
       "max_width": null,
       "min_height": null,
       "min_width": null,
       "object_fit": null,
       "object_position": null,
       "order": null,
       "overflow": null,
       "overflow_x": null,
       "overflow_y": null,
       "padding": null,
       "right": null,
       "top": null,
       "visibility": null,
       "width": null
      }
     },
     "5ea8ca61225943338d2aee4713445758": {
      "model_module": "@jupyter-widgets/base",
      "model_module_version": "1.2.0",
      "model_name": "LayoutModel",
      "state": {
       "_model_module": "@jupyter-widgets/base",
       "_model_module_version": "1.2.0",
       "_model_name": "LayoutModel",
       "_view_count": null,
       "_view_module": "@jupyter-widgets/base",
       "_view_module_version": "1.2.0",
       "_view_name": "LayoutView",
       "align_content": null,
       "align_items": null,
       "align_self": null,
       "border": null,
       "bottom": null,
       "display": null,
       "flex": null,
       "flex_flow": null,
       "grid_area": null,
       "grid_auto_columns": null,
       "grid_auto_flow": null,
       "grid_auto_rows": null,
       "grid_column": null,
       "grid_gap": null,
       "grid_row": null,
       "grid_template_areas": null,
       "grid_template_columns": null,
       "grid_template_rows": null,
       "height": null,
       "justify_content": null,
       "justify_items": null,
       "left": null,
       "margin": null,
       "max_height": null,
       "max_width": null,
       "min_height": null,
       "min_width": null,
       "object_fit": null,
       "object_position": null,
       "order": null,
       "overflow": null,
       "overflow_x": null,
       "overflow_y": null,
       "padding": null,
       "right": null,
       "top": null,
       "visibility": null,
       "width": null
      }
     },
     "665dc3a4677a4f6b97f7e2a46e8d5063": {
      "model_module": "@jupyter-widgets/base",
      "model_module_version": "1.2.0",
      "model_name": "LayoutModel",
      "state": {
       "_model_module": "@jupyter-widgets/base",
       "_model_module_version": "1.2.0",
       "_model_name": "LayoutModel",
       "_view_count": null,
       "_view_module": "@jupyter-widgets/base",
       "_view_module_version": "1.2.0",
       "_view_name": "LayoutView",
       "align_content": null,
       "align_items": null,
       "align_self": null,
       "border": null,
       "bottom": null,
       "display": null,
       "flex": null,
       "flex_flow": null,
       "grid_area": null,
       "grid_auto_columns": null,
       "grid_auto_flow": null,
       "grid_auto_rows": null,
       "grid_column": null,
       "grid_gap": null,
       "grid_row": null,
       "grid_template_areas": null,
       "grid_template_columns": null,
       "grid_template_rows": null,
       "height": null,
       "justify_content": null,
       "justify_items": null,
       "left": null,
       "margin": null,
       "max_height": null,
       "max_width": null,
       "min_height": null,
       "min_width": null,
       "object_fit": null,
       "object_position": null,
       "order": null,
       "overflow": null,
       "overflow_x": null,
       "overflow_y": null,
       "padding": null,
       "right": null,
       "top": null,
       "visibility": null,
       "width": null
      }
     },
     "9d24e576756d4b639635c8fa6cf4587e": {
      "model_module": "@jupyter-widgets/controls",
      "model_module_version": "1.5.0",
      "model_name": "HTMLModel",
      "state": {
       "_dom_classes": [],
       "_model_module": "@jupyter-widgets/controls",
       "_model_module_version": "1.5.0",
       "_model_name": "HTMLModel",
       "_view_count": null,
       "_view_module": "@jupyter-widgets/controls",
       "_view_module_version": "1.5.0",
       "_view_name": "HTMLView",
       "description": "",
       "description_tooltip": null,
       "layout": "IPY_MODEL_5ea8ca61225943338d2aee4713445758",
       "placeholder": "​",
       "style": "IPY_MODEL_0f88da7d42614a1a9ed8ed231e65c77f",
       "value": " 59/59 [01:19&lt;00:00,  2.72s/it]"
      }
     },
     "ab712752e792477a88051420f1db4a90": {
      "model_module": "@jupyter-widgets/controls",
      "model_module_version": "1.5.0",
      "model_name": "DescriptionStyleModel",
      "state": {
       "_model_module": "@jupyter-widgets/controls",
       "_model_module_version": "1.5.0",
       "_model_name": "DescriptionStyleModel",
       "_view_count": null,
       "_view_module": "@jupyter-widgets/base",
       "_view_module_version": "1.2.0",
       "_view_name": "StyleView",
       "description_width": ""
      }
     },
     "b9cba021f8df4de591450f33277d27bf": {
      "model_module": "@jupyter-widgets/controls",
      "model_module_version": "1.5.0",
      "model_name": "HTMLModel",
      "state": {
       "_dom_classes": [],
       "_model_module": "@jupyter-widgets/controls",
       "_model_module_version": "1.5.0",
       "_model_name": "HTMLModel",
       "_view_count": null,
       "_view_module": "@jupyter-widgets/controls",
       "_view_module_version": "1.5.0",
       "_view_name": "HTMLView",
       "description": "",
       "description_tooltip": null,
       "layout": "IPY_MODEL_d5988587cff24f60aa5d4bd2d2bdf00a",
       "placeholder": "​",
       "style": "IPY_MODEL_ab712752e792477a88051420f1db4a90",
       "value": "100%"
      }
     },
     "bba5d4899fb047279385e333f1cf5535": {
      "model_module": "@jupyter-widgets/controls",
      "model_module_version": "1.5.0",
      "model_name": "FloatProgressModel",
      "state": {
       "_dom_classes": [],
       "_model_module": "@jupyter-widgets/controls",
       "_model_module_version": "1.5.0",
       "_model_name": "FloatProgressModel",
       "_view_count": null,
       "_view_module": "@jupyter-widgets/controls",
       "_view_module_version": "1.5.0",
       "_view_name": "ProgressView",
       "bar_style": "success",
       "description": "",
       "description_tooltip": null,
       "layout": "IPY_MODEL_205a7b0f6e484b43870e0ffa7d1a1653",
       "max": 59.0,
       "min": 0.0,
       "orientation": "horizontal",
       "style": "IPY_MODEL_112f3050fa694121941927b3074aeb98",
       "value": 59.0
      }
     },
     "d102e0d646654455961bce089368e9d7": {
      "model_module": "@jupyter-widgets/controls",
      "model_module_version": "1.5.0",
      "model_name": "HBoxModel",
      "state": {
       "_dom_classes": [],
       "_model_module": "@jupyter-widgets/controls",
       "_model_module_version": "1.5.0",
       "_model_name": "HBoxModel",
       "_view_count": null,
       "_view_module": "@jupyter-widgets/controls",
       "_view_module_version": "1.5.0",
       "_view_name": "HBoxView",
       "box_style": "",
       "children": [
        "IPY_MODEL_b9cba021f8df4de591450f33277d27bf",
        "IPY_MODEL_bba5d4899fb047279385e333f1cf5535",
        "IPY_MODEL_9d24e576756d4b639635c8fa6cf4587e"
       ],
       "layout": "IPY_MODEL_665dc3a4677a4f6b97f7e2a46e8d5063"
      }
     },
     "d5988587cff24f60aa5d4bd2d2bdf00a": {
      "model_module": "@jupyter-widgets/base",
      "model_module_version": "1.2.0",
      "model_name": "LayoutModel",
      "state": {
       "_model_module": "@jupyter-widgets/base",
       "_model_module_version": "1.2.0",
       "_model_name": "LayoutModel",
       "_view_count": null,
       "_view_module": "@jupyter-widgets/base",
       "_view_module_version": "1.2.0",
       "_view_name": "LayoutView",
       "align_content": null,
       "align_items": null,
       "align_self": null,
       "border": null,
       "bottom": null,
       "display": null,
       "flex": null,
       "flex_flow": null,
       "grid_area": null,
       "grid_auto_columns": null,
       "grid_auto_flow": null,
       "grid_auto_rows": null,
       "grid_column": null,
       "grid_gap": null,
       "grid_row": null,
       "grid_template_areas": null,
       "grid_template_columns": null,
       "grid_template_rows": null,
       "height": null,
       "justify_content": null,
       "justify_items": null,
       "left": null,
       "margin": null,
       "max_height": null,
       "max_width": null,
       "min_height": null,
       "min_width": null,
       "object_fit": null,
       "object_position": null,
       "order": null,
       "overflow": null,
       "overflow_x": null,
       "overflow_y": null,
       "padding": null,
       "right": null,
       "top": null,
       "visibility": null,
       "width": null
      }
     }
    },
    "version_major": 2,
    "version_minor": 0
   }
  }
 },
 "nbformat": 4,
 "nbformat_minor": 5
}
